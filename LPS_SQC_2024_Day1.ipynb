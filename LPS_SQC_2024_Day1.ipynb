{
  "nbformat": 4,
  "nbformat_minor": 0,
  "metadata": {
    "kernelspec": {
      "display_name": "Python 3",
      "language": "python",
      "name": "python3"
    },
    "language_info": {
      "codemirror_mode": {
        "name": "ipython",
        "version": 3
      },
      "file_extension": ".py",
      "mimetype": "text/x-python",
      "name": "python",
      "nbconvert_exporter": "python",
      "pygments_lexer": "ipython3",
      "version": "3.6.7"
    },
    "colab": {
      "provenance": [],
      "toc_visible": true,
      "collapsed_sections": [
        "mBJQpCTyhzfK"
      ],
      "include_colab_link": true
    }
  },
  "cells": [
    {
      "cell_type": "markdown",
      "metadata": {
        "id": "view-in-github",
        "colab_type": "text"
      },
      "source": [
        "<a href=\"https://colab.research.google.com/github/GeneSiriviboon/LPS_SQC_2024_GeneSiriviboon/blob/main/LPS_SQC_2024_Day1.ipynb\" target=\"_parent\"><img src=\"https://colab.research.google.com/assets/colab-badge.svg\" alt=\"Open In Colab\"/></a>"
      ]
    },
    {
      "cell_type": "markdown",
      "source": [
        "# Quantum Short Course 2024 - Day 1\n",
        "\n",
        "# Numerical Simulation of Quantum Systems with Python\n",
        "\n",
        "Welcome to our hands-on exercise!\n",
        "\n",
        "This Jupyter notebook will guide you through a few of the basics of Python, packages, QuTiP, and go on to recreate some of what you saw in class today.\n",
        "\n",
        "**Remember to save a copy of this file to your own Google drive before you start working on it.**"
      ],
      "metadata": {
        "id": "pkuGr8SsfK72"
      }
    },
    {
      "cell_type": "markdown",
      "metadata": {
        "id": "YpG5NY9Hpoh_"
      },
      "source": [
        "# Python Basics\n"
      ]
    },
    {
      "cell_type": "markdown",
      "source": [
        "## Intro to Python\n",
        "\n",
        "Python is a C-like programming language popular in science. We don't have the time to go over its syntax today but hopefully you've either used it or it's similar enough to something you've worked with before.\n",
        "\n",
        "We'll just highlight three things here that should be enough to do the exercises below: variable assignment, lists, and for loops.\n"
      ],
      "metadata": {
        "id": "mBJQpCTyhzfK"
      }
    },
    {
      "cell_type": "code",
      "source": [
        "# Variable assignment\n",
        "a = 5\n",
        "print('a =',a)\n",
        "a = 6\n",
        "print('a =',a)\n",
        "a += 2\n",
        "print('a =',a)"
      ],
      "metadata": {
        "id": "Co_OfFrUb7H-"
      },
      "execution_count": null,
      "outputs": []
    },
    {
      "cell_type": "code",
      "source": [
        "# Lists\n",
        "b = [1, 2, 3]\n",
        "print('b =',b)\n",
        "b = [1, 2, 3] + [3, 2, 1]\n",
        "print('b =',b)\n",
        "b += [4]\n",
        "print('b =',b)"
      ],
      "metadata": {
        "id": "L0sNgygqc4Py"
      },
      "execution_count": null,
      "outputs": []
    },
    {
      "cell_type": "code",
      "source": [
        "# For loops\n",
        "b = [1, 2, 3] + [3, 2, 1]\n",
        "print('b =',b)\n",
        "print()\n",
        "for m in range(6) :\n",
        "  print('b[%d] = ' % m,b[m])\n",
        "print()\n",
        "for bi in b :\n",
        "  print(bi,end='')\n",
        "print()\n",
        "c = [bi**2 for bi in b]\n",
        "print('c =',c)"
      ],
      "metadata": {
        "id": "b1UmljH7c-oo"
      },
      "execution_count": null,
      "outputs": []
    },
    {
      "cell_type": "markdown",
      "source": [
        "## Packages\n",
        "\n",
        "Python can do the basics of programming by itself (variables, functions, lists, etc) but some of its real power comes from packages.\n",
        "\n",
        "A package is a collection of functions and definitions that expands the scope of what you can do, whether it's by adding plotting capabilities, dedicated math and science functions, or functions for working with quantum mechanics.\n",
        "\n",
        "To see this in action, run the following bit of code:"
      ],
      "metadata": {
        "id": "YLagJ422h9eg"
      }
    },
    {
      "cell_type": "code",
      "source": [
        "import numpy as np\n",
        "\n",
        "from scipy import special\n",
        "from matplotlib.lines import Line2D\n",
        "from matplotlib import colormaps\n",
        "\n",
        "import matplotlib.pyplot as plt\n",
        "%matplotlib inline\n",
        "\n"
      ],
      "metadata": {
        "id": "OmKfDPLLjNhC"
      },
      "execution_count": null,
      "outputs": []
    },
    {
      "cell_type": "markdown",
      "source": [
        "There are three different ways of importing packages here. The first line is the most straightforward. It imports the contents of the package NumPy with the name `np`, so now some function `func()` can be accessed as `np.func()`\n",
        "\n",
        "NumPy is a very useful package for any kind of numerical and scientific work, with a lot of capabilities including functions for vectors and n-dimensional tensors. You can see documentation for it [here](https://numpy.org/doc/stable/).\n",
        "\n",
        "For instance, it includes a variety of linear algebra functions. Can you figure out what the following code does?"
      ],
      "metadata": {
        "id": "tPGCh5twjRAZ"
      }
    },
    {
      "cell_type": "code",
      "source": [
        "v = np.array([1,1,1,2,3])\n",
        "print(\"v=\",v)\n",
        "print(\"||v||_{m} = \")\n",
        "for m in [1, 2, 100] :\n",
        "  print(m,\":\",np.linalg.norm(v,m))"
      ],
      "metadata": {
        "id": "W7uqbmmwjPdy"
      },
      "execution_count": null,
      "outputs": []
    },
    {
      "cell_type": "markdown",
      "source": [
        "The second block above imports a subset of a package.\n",
        "\n",
        "For instance, here, SciPy includes a package called `special` that contains a number of special functions we often use in physics. Since we didn't specify a name, they can be accessed as `special.func()`, like this:"
      ],
      "metadata": {
        "id": "y5XKDySom58I"
      }
    },
    {
      "cell_type": "code",
      "source": [
        "print([special.gamma(x) for x in range(1,6)])"
      ],
      "metadata": {
        "id": "RXSnEJHjoDr_"
      },
      "execution_count": null,
      "outputs": []
    },
    {
      "cell_type": "markdown",
      "source": [
        "Finally, the third block combines both. Here, we are importing the subpackage pyplot out of matplotlib as `plt`.\n",
        "\n",
        "(The line following the import command gives the notebook some instructions about how to display the plots we'll create. Don't worry about it too much)\n",
        "\n",
        "You can see some plotting tutorials [here](https://matplotlib.org/stable/tutorials/index.html) and a reference for matplotlib [here](https://matplotlib.org/stable/api/index).\n",
        "\n",
        "Let's take a look at a sample plot:"
      ],
      "metadata": {
        "id": "u-3J1p2moYpt"
      }
    },
    {
      "cell_type": "code",
      "source": [
        "pi = np.pi\n",
        "x = np.linspace(0,2*pi,62)\n",
        "plt.plot(x,np.sin(x))\n",
        "plt.plot(x,np.cos(x))\n",
        "\n",
        "plt.xlabel('x')\n",
        "plt.ylabel('y')\n",
        "\n",
        "plt.xlim([0,2*pi])\n",
        "plt.ylim([-1,1])\n",
        "\n",
        "plt.legend(['sin(x)', 'cos(x)'])"
      ],
      "metadata": {
        "id": "3JJz4S1QoE0d"
      },
      "execution_count": null,
      "outputs": []
    },
    {
      "cell_type": "markdown",
      "source": [
        "# QuTiP"
      ],
      "metadata": {
        "id": "gBZb49qVpNhn"
      }
    },
    {
      "cell_type": "markdown",
      "source": [
        "QuTiP is a package built for numerical calculations with quantum mechanics.\n",
        "\n",
        "At the end of the day almost all of QM is just linear algebra: in principle you could do all of the work with vectors and matrices. But this is confusing, espcially when we deal with multiple quantum objects; QuTiP handles all of the awkward accounting that comes along with it.\n",
        "\n",
        "Normally, we import QuTiP just as we do any other package. There is a small complication to do with our use of Colab: QuTiP is a somewhat niche package, so it doesn't come pre-installed on the computers that Google lets us use. This means we have a two line process, the first line installing the package on the computer, and the second importing it into this particular notebook.\n",
        "\n",
        "(this doesn't make much sense here, but if you were installing python on your own computer it would: you would run (a version of) the first line in the terminal, once, while the second line would show up, as normal, in any notebook you write)\n",
        "\n",
        "The documentation for QuTiP, including its functions and how to run them, is available [here](https://qutip.org/index.html)."
      ],
      "metadata": {
        "id": "Y94QXUQMpRTU"
      }
    },
    {
      "cell_type": "code",
      "source": [
        "!pip install qutip\n",
        "\n",
        "from qutip import*"
      ],
      "metadata": {
        "id": "drNEKTQDqiGH"
      },
      "execution_count": null,
      "outputs": []
    },
    {
      "cell_type": "markdown",
      "source": [
        "Note that we see another way of importing packages here: we're putting them into the global environment. That means that if we want to run function `qfunc` out of QuTiP, we don't need to preface it with anything, we just run `qfunc()`."
      ],
      "metadata": {
        "id": "dyssaSNBq4KT"
      }
    },
    {
      "cell_type": "markdown",
      "source": [
        "## States and vectors\n",
        "\n",
        "What can QuTiP do? First, it can represent vectors. Remember, we wrote those as:\n",
        "\n",
        "$|\\psi\\rangle = \\left(\n",
        "  \\begin{matrix}\\cos\\frac{\\theta}{2} \\\\\n",
        "  e^{i\\phi}\\sin\\frac{\\theta}{2} \\end{matrix}\n",
        "  \\right) =\n",
        "  \\cos\\frac{\\theta}{2}|0\\rangle + e^{i\\phi}\\sin\\frac{\\theta}{2}|1\\rangle\n",
        "$\n",
        "\n",
        "To create a spin state like this, use the command\n",
        "\n",
        "`spin_coherent(1/2,` $\\theta$ `,`$\\phi$ `)`\n",
        "\n",
        "Here, the first parameter, 1/2, is telling QuTiP we want a spin-half object; that's physics-speak for a two-component vector. In physics we call these components $|+\\frac{1}{2}\\rangle$ and $|-\\frac{1}{2}\\rangle$, in quantum computing we call them $|0\\rangle$ and $|1\\rangle$.\n",
        "\n",
        "(more generally, a spin-$m$ object can have any of $2m+1$ states, labeled $|-\\frac{m}{2}\\rangle$, $|-\\frac{m}{2}+1\\rangle$, ..., $|+\\frac{m}{2}\\rangle$; in quantum computing we almost always use spin-half, so don't worry about this too much)\n",
        "\n",
        "The second and third parameters, $\\theta$, $\\phi$, are the same ones in the formula above. Let's see this in action:"
      ],
      "metadata": {
        "id": "okvzi0XFvApV"
      }
    },
    {
      "cell_type": "code",
      "source": [
        "th = pi/3\n",
        "phi = pi/4\n",
        "\n",
        "print('theta =',th)\n",
        "print('phi =',phi)\n",
        "print('cos(theta/2) =',np.cos(th/2))\n",
        "print('exp(i*phi)*sin(theta/2) =',np.exp(1j*phi)*np.sin(th/2))\n",
        "print()\n",
        "\n",
        "psi = spin_coherent(1/2,th,phi)\n",
        "\n",
        "print(psi)"
      ],
      "metadata": {
        "id": "SynIhPOMrooh"
      },
      "execution_count": null,
      "outputs": []
    },
    {
      "cell_type": "markdown",
      "source": [
        "The object printed out at the bottom here is the state vector, as represented by QuTiP. Note that its components are what we expect! You can play with $\\theta$ and $\\phi$ and see that this remains true.\n",
        "\n",
        "Note that it has some other properties.:\n",
        "\n",
        "`shape` is simply the shape of the linear algebra object used to represent it: `shape = (m,n)` means an $m\\times n$ matrix; here, a two component vector is indead of the shape $2\\times1$.\n",
        "\n",
        "`dim` is related to this, a bit more complicated, we'll talk about it later.\n",
        "\n",
        "`type = ket` tells us that this is a $|\\rm ket\\rangle$ object, i.e. a vector."
      ],
      "metadata": {
        "id": "0JOxSPyJyAoi"
      }
    },
    {
      "cell_type": "markdown",
      "source": [
        "### Knowledge Check:  $\\langle\\psi|$\n",
        "\n",
        "What would the representation of $\\langle\\psi|$ in QuTiP look like?\n",
        "\n",
        "* (A)\n",
        "```\n",
        "Quantum object: dims = [[1], [2]], shape = (1, 2), type = bra\n",
        "Qobj data =\n",
        "[[0.8660254 +0.j         0.35355339+0.35355339j]]\n",
        "```\n",
        "* (B)\n",
        "```\n",
        "Quantum object: dims = [[2], [1]], shape = (2, 1), type = bra\n",
        "Qobj data =\n",
        "[[0.8660254 +0.j        ]\n",
        " [0.35355339+0.35355339j]]\n",
        "```\n",
        "* (C)\n",
        "```\n",
        "Quantum object: dims = [[1], [2]], shape = (1, 2), type = bra\n",
        "Qobj data =\n",
        "[[0.8660254 +0.j         0.35355339-0.35355339j]]\n",
        "```\n",
        "* (D)\n",
        "```\n",
        "Quantum object: dims = [[2], [1]], shape = (2, 1), type = bra\n",
        "Qobj data =\n",
        "[[0.8660254 +0.j        ]\n",
        " [0.35355339-0.35355339j]]\n",
        "```\n"
      ],
      "metadata": {
        "id": "2fBijofkImde"
      }
    },
    {
      "cell_type": "markdown",
      "source": [
        "### Named States\n",
        "Let's try looking at a few of these states we saw in class:\n",
        "\n",
        "![ExampleStates.jpg](data:image/jpeg;base64,/9j/4AAQSkZJRgABAQAASABIAAD/4QCARXhpZgAATU0AKgAAAAgABQESAAMAAAABAAEAAAEaAAUAAAABAAAASgEbAAUAAAABAAAAUgEoAAMAAAABAAIAAIdpAAQAAAABAAAAWgAAAAAAAABIAAAAAQAAAEgAAAABAAKgAgAEAAAAAQAAAoCgAwAEAAAAAQAAAeAAAAAA/+0AOFBob3Rvc2hvcCAzLjAAOEJJTQQEAAAAAAAAOEJJTQQlAAAAAAAQ1B2M2Y8AsgTpgAmY7PhCfv/iAkBJQ0NfUFJPRklMRQABAQAAAjBBREJFAhAAAG1udHJSR0IgWFlaIAfQAAgACwATADMAO2Fjc3BBUFBMAAAAAG5vbmUAAAAAAAAAAAAAAAAAAAAAAAD21gABAAAAANMtQURCRQAAAAAAAAAAAAAAAAAAAAAAAAAAAAAAAAAAAAAAAAAAAAAAAAAAAAAAAAAAAAAACmNwcnQAAAD8AAAAMmRlc2MAAAEwAAAAa3d0cHQAAAGcAAAAFGJrcHQAAAGwAAAAFHJUUkMAAAHEAAAADmdUUkMAAAHUAAAADmJUUkMAAAHkAAAADnJYWVoAAAH0AAAAFGdYWVoAAAIIAAAAFGJYWVoAAAIcAAAAFHRleHQAAAAAQ29weXJpZ2h0IDIwMDAgQWRvYmUgU3lzdGVtcyBJbmNvcnBvcmF0ZWQAAABkZXNjAAAAAAAAABFBZG9iZSBSR0IgKDE5OTgpAAAAAAAAAAAAAAAAAAAAAAAAAAAAAAAAAAAAAAAAAAAAAAAAAAAAAAAAAAAAAAAAAAAAAAAAAAAAAAAAAAAAAAAAAAAAAAAAAAAAAAAAAABYWVogAAAAAAAA81EAAQAAAAEWzFhZWiAAAAAAAAAAAAAAAAAAAAAAY3VydgAAAAAAAAABAjMAAGN1cnYAAAAAAAAAAQIzAABjdXJ2AAAAAAAAAAECMwAAWFlaIAAAAAAAAJwYAABPpQAABPxYWVogAAAAAAAANI0AAKAsAAAPlVhZWiAAAAAAAAAmMQAAEC8AAL6c/8AAEQgB4AKAAwEiAAIRAQMRAf/EAB8AAAEFAQEBAQEBAAAAAAAAAAABAgMEBQYHCAkKC//EALUQAAIBAwMCBAMFBQQEAAABfQECAwAEEQUSITFBBhNRYQcicRQygZGhCCNCscEVUtHwJDNicoIJChYXGBkaJSYnKCkqNDU2Nzg5OkNERUZHSElKU1RVVldYWVpjZGVmZ2hpanN0dXZ3eHl6g4SFhoeIiYqSk5SVlpeYmZqio6Slpqeoqaqys7S1tre4ubrCw8TFxsfIycrS09TV1tfY2drh4uPk5ebn6Onq8fLz9PX29/j5+v/EAB8BAAMBAQEBAQEBAQEAAAAAAAABAgMEBQYHCAkKC//EALURAAIBAgQEAwQHBQQEAAECdwABAgMRBAUhMQYSQVEHYXETIjKBCBRCkaGxwQkjM1LwFWJy0QoWJDThJfEXGBkaJicoKSo1Njc4OTpDREVGR0hJSlNUVVZXWFlaY2RlZmdoaWpzdHV2d3h5eoKDhIWGh4iJipKTlJWWl5iZmqKjpKWmp6ipqrKztLW2t7i5usLDxMXGx8jJytLT1NXW19jZ2uLj5OXm5+jp6vLz9PX29/j5+v/bAEMAAgICAgICAwICAwUDAwMFBgUFBQUGCAYGBgYGCAoICAgICAgKCgoKCgoKCgwMDAwMDA4ODg4ODw8PDw8PDw8PD//bAEMBAgICBAQEBwQEBxALCQsQEBAQEBAQEBAQEBAQEBAQEBAQEBAQEBAQEBAQEBAQEBAQEBAQEBAQEBAQEBAQEBAQEP/dAAQAKP/aAAwDAQACEQMRAD8A/fyiiigAooooAKKKKACiiigAooooAKKKKACiiigAooooAKKKKACiiigAooooAKKKKACiiigAooooAKKKKACiiigAooooAKKKKACiiigAooooAKKKKACiiigAooooAKKKKACiiigAooooAKKKKACiiigAooooAKKKKACiiigAooooAKKKKACiiigAooooAKKKKACiiigAooooAKKKKACiiigD/9D9/KQnAzS0hGRQB+eXg74qftV/tIXOueNvgpfeGPBXgDT9QutM0t9ZsbnUtQ1OSwmeCeeQRTwpBCXXCKNz8EmvsP4SXfxUu/A9o/xostNsfFcUk0VyNJd3spVjkKxzReYS6iVAH2MSUztJJFfEN3+zD+038Cta8S6z+yF4/wBM/wCEc1y8m1MeEvE9q81nBeXL75/st1EwkjRzyEwAD1OTuGb4t/ar8afED9h/4rfETT7afwB8SfADXWlapbQtuaw1SzkjLGGR1w0ckbqynB4YjJxkgH6d5FeXnWvih/wtpdBHh60PgE6SZzrH2v8A0oan5u37N9mx/q/L+bzM9eMV+dvxz0f4/wD7O/wy0j9qnTfjF4h8YXPh99NuvEOh6glkmlXunXLpHcJa28MUPksgkyrM7sQPvFuT71Y/FPxfe/8ABQSH4XR6rcDwnP8ADVNcGnlk+z/bW1IQibGzfv8ALO3O/GP4c80AfdGaK/Ib4N6J8c/2gtN+N2pa98YvEnhux8HeNPEOm6DFpMsMbJ9jlMim4lkjkeWFBtijhBRVAYnJKlfuD9jn4jeJ/iz+zN8PfH/jO5+2a5qumI15cbVQzTRMY2lKoFUF9u4gADJ4A6UAfTNMkkSJGkc4VQSfoOTXx5+3B4j+Kfhf4O2upfDGTVbWJta02LXrvQoPtOr2mhyTBb2ayj2SZlVcfNsO0ZbgAkeNfAr/AIVd8YPDXjPTPgn+0H421JY7eKK5tL6983V9Imgm3GVP7TtnnQShDC4dWQjO0q3IAPvX4d/EbwV8V/CNj48+Huqxa3oOpGUW93Dny5DBI0MmNwB+V0ZTx1FdtkV+YH/BMb4fa2n7PHgf4m33jzxBqFvqVvqQOhXE1s2kwySX0uZI0W3E+7KlhumYAs2ABgDyX9pHx9ovwR8O+IfGvgv9pvVfEPxg8KyrfHRptQhutNniWVPOsbjSLVBDDH5ZwHO2VTj95zigD9ZfFfxB8IeCL/w/pvijUVsbnxTqC6XpqMjt9ovHjeVYgUUhSUjY5bA4xnOBXZ5Ffl9+2B4I1fxv4+/Z+8TWvjjX/D6eJfE1jbJaWE1sILCU6fdTfbLUSwSMLkgmMl2eMoT+73fNV79qH4geNvgT4f8Ahd8B9A8deJbzUfHWq3q3/iRbBdZ8RJpdmjXM6WkFnbqhmbKxI6wHyo8uVJBYAH6aUV+aX7NHjvxXp/x3bwF4f1Lx74m+HmtaNPdmXxvpF/b3GlapaSIAsV/eQRGWK7jkY+WxYo0fykBsD9K26UAOyK+dPjL8W/Efw9+JXwf8HaLbWs1l4/1y60y/edHaWOGGxmuVaAq6hX3xgEsGG3IxnkfA37SfjHw/8ItK8XeMfDv7Tmr6n8XfDDzanBoY1CCfT9kZD/2dPpFtGYki2ELvkxKDg+YM4r6H+OusP4h+Jv7JviCRBG2p+IZ7ooOimfRZ3IH0zQB9+Clr88dOg8cftW/Fr4k2jfEDXPBPgf4aauPD9nY+G7hbC6vr+K2Sa5uru5MbSFFaVVjiQqvy5bcCQfJdS+N3xT8M/Bv9qb4OeIvF9zrHjL4LWZl03xGka2l9NYanafarJpmh2obmH5o2kQLuABI3ZJAP1ozRX5IeO7b49fCf4Z/Cz9om/wDi7rureINX1Xw3BrGkS/Z/7DmtNYlijkt4bZYVZPLVsCVnaRiSxbOMe9/GTWvFfjr9qXQP2f7rxjqnw+8JP4XudeW50idLO71i+S6EBgW6ZGKJaR4kZEYM+8ZyqmgD70yKK/PH9ia08c+O/wC3vih42+I/iPxadB13X/Dmn+fc266PqOn2lwkUN4trbQxK0o8rHmkk7jJg7Wr7i8d+KbfwR4K17xldxmWHQ7C5vnQdWW3jaQqPrjFAHV5FLX5q/Bn4O/F/47/CjQfjn44+NfivRPFfjO0i1mzt9DuIbbSNLgu8zW1uli0bRzqkbKrmbcz/AN7PNbGp6n47/aL/AGl/GfwO0/x/qvhHwd8JdM0n+1hoZFjqeq6tqyPMhe8wWjgiijzshC7mc7mIwAAfolSZFfnr4C+LPiz4D+OPil8Gfib4ku/HOneAvC8fjHSdVvwh1N9NxKk1rdvEiJLJHJFlJAoLK3I4rkvhx8Mvjr8Y/gppv7Q1/wDGnxBovjvxRpw13TLSweFPD+nxXCNPa2b6eYys8aoypI8hMjYyGB6gH6cUV+OFv+0J8dv2jNf/AGc774P+Ix4Qf4meGvEC606qZrazl0+4ghu7mG2l+SSaJ45Ety+QpfJyuQfaPiFpvxav/il8OP2PfB/xR1zTLX+xNS8SeI/ErGF9evLaG4SGGCKcx+XFmSbkrHkKFA4BDAHvo+PHiL/hsz/hmw2Fr/Yn/CE/8JP9s+f7V9o+3/ZPK+9s8vb833c571638M9a+KGtQ683xO8O2vh6S01W5t9MW1uvtQu9MTHkXMnA8uSTnMeTt455wPzy+F/g3VvAP/BTObwxrPivU/Gfl/C9prW81j7O15DbPqsa/Znlgii85UdSyu4L/OQzNwa1NF+LPxM1H9kX9pnxje+Jb2TW/C2teM7bSrwOEmsoNPZltkhZApURBRtJyc9/QA/UijIr8hPGUPx9+G/wU+Gf7S+o/F7Xr7xNfX3hpdU0gm3/ALCmtNVuIIZLZLfydwKq5zMzmRiWbcDt2/X/AO0zB4Et59H1j4qfG3UPhX4YSOSL7DYanDoz6hctkhzdY+0t5a9EhZeRliRxQB9cSyxwRPNIdqICxPoAMmuQ+H3xC8HfFPwjp/jvwDqces6DqgkNtdxBgkoido3wGAPDqRyO1fAn7N/ijxZ8a/hh8WPhfN8TtY1G38E679i0fxZZiGDWLjTjbxXcQmaaB43floncwgunOA2Grlf2BvDuo/D/APZI8O/HPVPHHiLV9OtNA1S7Ph64mtm0qLyppZCYVS3Fxv8A3ZwXmYAs3HTAB+rGaK/BrSfjV8WfE3wrj+OWn+NPiZc/Fe+hOs2GlWXhfUZfCDoxMsOlCBLYwzW7x4j+1ebvJIkEmM5/cvw5qcut+H9M1me3ezkv7aG4aCRSjxNKgYoytyGUnBB5FAG1RXyd+01B4LhXRtX+J3xpvvhV4Wi86F7Wx1KDR31K5cApm7I+0/u1DEJAyk9WJAxXhP7L/jTxF8Z/Dvxm+Dun/EjVNXsvCGpwWvh/xarKuqC1vLZZ4jI7RqJmhkDLudP3icHPWgD9J6K/KXw/8Zv2j/jX4rX9ka3vv+EM8beA7hT488V2TW7M+mRbHtZNKjYuBcaijKXLoRb/AD5UnapzfjR8bdS8X/tKeJfg1f8AiPxxoPgb4b6fYR3MfgnS7671HUdVv4vPDXV/aRSyQxQw7NqDb5rMxLEKVAB+tlFfjXrPxc/aWf8AZz1Oz0y88YXFh4c8cWenX3iRtCmsvFE/gu4RZZLqG1mhTN1A7+Q8yxHKp5hUEkj6o/Y88T/CPxZf+Ib/AOEfxi8R+PbO0jjt7vRPEt1LcXemzLIw80reRpdrv2lPmLISDjnNAH3ZRkV5j8aPiND8IfhN4v8AifcWxvU8L6Xd6j5AOPNa3jLrHntuYAZ7V8PWPwh/aH1H4Lx/H2X4za5H8T59L/4SCOxSWJfC6loTcppx0/yiDb4IjMvM38W/tQB9R/tG/F7xL8MdI8L6D4AsLXUPGPj7WYtB0f7ezLY288sUk73N0EIkaKKOJjsQhnbauVBLD0H4V2nxasvDstv8Y9R0fVdbFw/lz6LbT2lubfauwNFPJKwcNuyQ5BGK/ML4xTat+0KP2U/jJbeLtd8KN4/1WxT7Bp09sbfTLl9PupZbm0M1s7efndFuk3IY/wDlmG5r9aPCmhz+GvDmm6Bdard65Np8CQvfX7I93csgwZZmjSNC7dWKooz0A6UAfMH7SXxn+KPw/wDiJ8KPhp8LYNHN/wDEi91Gya41iO4lhtjZ24uFYJbyRsQQGBGfTpzXBfET48/tL/s5WkPjv43+GfD3if4dQTQRarqnhiS8gv8AS453KfaZLG683zoUYoG2S7uSduBXLftq2/jG7/aF/Zlt/AF9Zabr761rYtbjUbaS7tY3/s/JMkMUsLuCu4ACReSDnjFedftO+Cf2krXTLDxl+0fqOmfEb4LeG2Oo+I9A8MQNo08iW7I8U88d09y15bwMDJJAtxFnAJD4xQB9pfFv40a/4I+KvwW8F+HoLS50v4kapfWd7LOkjSpBbWL3UbQFXUKzMBkurDbkYB5H0uDxX59/HrW9H8R/HH9kvxD4fmW40vU9a1O5tZEGFeCbR5GjYDsCpHHasfw5D46/a2+KfxQmk+IuveC/A3w81k+GdN07w5Omn3FxfWsCy3V7dXOxpXy0qrHECI8IMqcnIB+jtITxX5p+Gv2mPG3wn+Hf7Qvhnx5qQ8beKPgHiS2v5kWCTUbO/thc6ebtYgEEikmORkUbgu7GTXf+Af2bvizqeiaF8QvGHxw8WjxteC21G8S1uYBoilwryWcenGLyvIxlAx/efxbu1AHsfhH4ueI9e/aX+IfwbvLa1TRfCejaJqFrMiuLl5dSNwJRKxcoVHlLsCopHOScjH0XX5d6j8PPGHxJ/bx+K2g6L451TwRo48MeHJdQk0TyYtQuWDXAgiS5mjl8mMZdpNih2+UB1Gc+0/sUeLviFqemfEz4ffETxFN4tuPh14vvdDstUu1Vbu4sUhhni+0FAFeRfMILADNAH23RXzt+1jrPxa8P/s7+OdZ+BsElx41tLAvYLDF584w6+c0MWG3yrFvaNdpywAAJ4Pyx+yZ4y+D/AIu+IUdr4E+N3jTXPEWnWjnVvC3i24l86Z3RS0/2e7hRkMbPuxbERjIGNuKAP0wyK+df2nfi34j+C/w7sPF3he3tbq7ute0TS2S7V3j8jUr6K2mYCN0O8I5KHJAbBIYcH4l+Cvg746ftJ2Pxb1DV/jn4n8Ox6F4113SNEtdK+xwxWqWU5EXnyGBp5kAwvl+YqhR/eOR598SPiX8VPib+wLYz+NLy2n+IXhrx3pvh+6vRHm3nv9K1tLeO4aNdoIYqrOAFDHJAUEAAH7S0V+bWtaJ8WfgB8fvgyZviv4g8a2HxG1K70jXLHWjbPatKllLcJPaRwQxLbbXQAIgxtABySxPkPjz40al8Uvjh8SNC8ReK/iJ4a8LeBr5ND0q08B6Pezh72KFZJ728vLW2m3PvkCpbOdmxQzIQ3IB+wdGRX5BeO/jh+0c/7HvhjxJpt5f6X8QrLx5ZaDbXeq2M2kPq9st+YrSa8tHVHWO7haIzqAoJ34A6D0D48eJ/jJ+zB8JtJ0qf4gax4w8dfFPxHZaZNqw08XX9kI8LSXj6TpltExISOJvJiIdi5DMTg0Afp7RX5Y/A/wAf+JPDXxx8H+F/BusfErxh4U8UR3drrY8a6LqESWN1DAZ7e/hvLm2iWNZHjaJ4AwTLqVUYxX6nDpQAUUUUAFFFFABRRRQAUUUUAFFFFABRRRQAUUUUAf/R/fyo5ld4mWNtjEEBsZwccHHtUlFAHwTb6Z/wUN8DabP4V0rUfA/xDVIylnrurNeaVeg4IVru1to5YpGXgkxuu7pgda8l+NfwKufgZ+wJ8arPXtZPiPxZ4rW817XtT2siXOoXckYcRRszeXFGiKka56DOBnFfqhXJeOvAvhT4l+E9T8C+ONPTVdC1mIwXdq7Oiyxkg4LIVYcgHIINAH5/a9+z9+01+0BoHhH4Y/GbxH4ZX4V2D6dfak+kW1zHqWvxWuyaG2uIJy8VqgZV8wxyvvI3DYDsH0TD8AdXg/bAX9o+PULVdHTwWPCwsAr/AGgSi++1eaG+55e35cdc+1fTtpaW9haw2VonlwW6LHGo/hRBhRz6AVYoA+Uv2fvgF4k+EGgfE7SNZ1S0v38ceKtb1+1a3WRRBBqmCkUu8cuhzuKjGMY9T137Lvwk1r4FfAfwh8KPEN7b6jqHhy1a3luLXeIZCZGcFN4DYw3OQOa9/ooA8o+LenfGS+0Wxm+CesaTpes2d0ss8es2stxaXlsEYNAWhdJIWLFWEihsYxtINfPHwm+A3xWvPjrqn7RXxxPh7TNcm0B/Dlpp3hlZnh+zSzpPJNd3Vwkck0m5AIxsUIpI5ODX29RQB8C/sz/AP9of4N+FYPgnrmteHo/hvon9rw2dxYrdy61cwahJLJb7mk2RWzW7S8480uABkdT4TbfscftUL+zLqX7KVjq3gTQ/DyxPaR6va2d4b/UbfzPMBuIgFjglkP8ArZQ0xPOBk7h+uFFAHx7+0R8Evif418IfDS9+Fd9pUfi/4Z61YavBFqxmWwvBb20lrNC8kKvJHuWUsrBD0wQM5FP4hfAj4z/FHwn4S8Vat4r0nw98XPAusTaxo9/ptnLJpUcc6tDJYTxzN50sMsDmOSQMjE4YKOVP2dRQB82/Cu1/ar1DxONZ+Nl54W0nRLa2khTSvDy3d3Jc3LFcXEt3diLy1QBgsSRHrkueAPoi9tjeWk1qJGi85GTehwy7gRlT2IzkVaooA/JrTf2Q/wBqvTv2fvEn7L+l6x4G0/w3eRXVtFrotbx9W1G3uSzt9rjUJHHO7Eb598x6/ITg19feMfgT4m8R618CNTttQtI0+Fd79q1AP5gNyv8AZz2eLfCnne2759vy988V9T0UAfDniT4JfHz4a/FTxf8AFH9mvV9BurLx80Fzq3h/xItzFbJqUUfkm9trq1Dsu9AnmRNGQSpO7kbcO0/Y98WP8EPjHoHiXxPa658T/jTHcNqusNbm2sYpGi8i1t4IlDyLbW0Y2ruLMTknsB9/0UAfJnxm+AHif4k/Azwb8LtL1KztdQ8N3/h27mnm8zyZF0aSOSVU2qWy+whMj64r5C+PfgjxP+0J+2Nr3hDwPofhLV38DeGNOgv4vHdnLqFpvvp5rmKXTLaJkdG2grcShsNhFIO0V+uFeJfFH9nP4M/GS/tNZ+IPhqK+1fT0aO21GCWay1CBGyCkd5avFOqkMflD45PHNAHzj+zj8WPiZ4U+Lsv7JHxb8OeF9L1DStAbW9Jn8HO0emrp0NyLbyJbKU+ZauN6lRyrfNg8V90a1pFh4g0e+0LVYhPZajBJbTxno8UylHX8QTXnXwy+Bvwo+Dv25/hx4bttHudVKG9ul3zXl2Y87PtF1MzzS7dx273OMnHWvWKAPzz8DfB39s/4MeFLT4KfDPxX4T1bwdpga30nXdbt7o6xp1gGJigks7cLb3TxLhEkMsQPUpgbT2Hjb4DfGrwr8Vj8evgJ4h0qfxHrGkWmleJNJ16KSHTtXax/1F2k1qGltp03OMbXQqcYHJP25RQB8ffB39nLxRYa748+Jfx91mz8UeMviLaRaXdw6fC8Gm6fpMMbKtjaiVmkcFndnkbBYkfKMEnx7Qv2fv2x/hz8PW/Z6+HPj3w7J4HjhmsdN8Q6ja3B1/S9OfcEgFvFi2uJYkbakpaMDGdnQD9IqKAPjDwb+yhH8N/iF8G9T8GX8Q8L/Czw5quhvFc5+23Ul+YGE/yII8s0bPJ93lvlHppftAfBH4m+IPiD4P8Ajt8CdasNM8deD4LrT5LTVlc6Zq2l3hVpbad4laWJldA6OoOD1B4r69ooA+FvhZ+z78cLb9qG4/aa+MWvaBdXN74VPh9dM0a3uY0sh9qW5WNJp2JnVcNulZY2diMRoBijSP2VvF+nfs+/Gz4Py6zYPqHxP1TxLfWVwBKIbZNbZmjWbK7i0e75toI9M1900UAfIfxZ/Z68U/ED9nPwr8HNM1Kyt9V0Gfw7LLcTeYLdxo08Msuzapf5xEQmR1IyR1rlvip8DfjYn7Slh8f/AIRt4X1gXGhw6FdWXidLhWsUimkmNxYzQJKQZN4Eke1d20Zbn5fuWigD5H/Zv+BXxI+GV98T9Z+KevaZrup/EPV01NpdKt5bWKMfZEt2TyZWcrt24X94+QMk5OBwn7MXwH+P3wk8IWnwP8eaj4b1D4Z6JHqlnCbVLqTVNQtL2R3gWYuI4rfylkZWA80uMfMCCW+86KAPz88F/CH9sn4N+Grf4NfDDxV4U1Twbp2+30jWdcgvDq2l6fuJit2tICILtoUxHG5liHALLgba+9tOhu7bT7a3v7j7VcxRIss20J5jqoDPtHC7jzjtV2igD4e+M3wK+Mt5+0Z4b/aE+EU/h/V5bPRn0G70rxR54treJ5jP9ssZII5HjnJwsgwA6gAnoRQ+F/wF/aN+HA+M3jCXxN4b1Hx38TLmyurK5jtbq10+ymgt/szM8BMzsI12mNd53kfOwzx94UUAfBd5+xc3hPwF4ZvPg1r0ejfFnwpeS6oPEt9G0v8AbF5fyCTVI9UVCHlt705ygOYyEKYKCt/xx8Ffjf4e+K837QHwH1PRYPEXiPS7TTvE3h/WDONK1F7In7PcwXcEZnimhEkiAtGyuhAKqcmvtWigD5PHh/8AbKbwWNSbxZ4Ti8Zvqgu2sRp90+jppwg2HT1nMguGfzP3huSoJPHlheK5j4NfAz4sD49av+0h8bZNA03XbnQx4ftNL8MiZ7YWxnW4ee7ubhI5J5iyAJ8ihFJHJ5r7XooA5jxr4P0L4geENa8D+J4PtWka/Zz2N3FnG+C4QxuAexweD2NfAsX7P/7Y9h8O/wDhm7T/AB94f/4V+LY6YniVobseJo9IKmIWwhVhbm4EXyi58wf9c881+kNFAHyR4p/ZmUW3wJ8P/D6eDTtB+Dur292YrppGlms7eyltVRGAbdKTIGJYgHk5zxX1vRRQB8k/tFfBL4kfEb4i/Cr4lfDbUdJtL74bXuoXhg1cXBiuTeW4t1UG3ywCgsSfXHvXEfEr4J/tUfHrR7r4d/Ejxt4d8J+BdXi8jVIvDNlcy6pdQNnzIUub1zHEkgwGPlMcZHINfdtFAHy548/Z9uNb8c/A/WvCNxa6ZoXwlvLqV7WXeZJLaSxNnDHCVBGVzk7iMjvmvOtY+Bnx9+FnxS8ZfEf9mzWdButL+IU8V7qmgeJEnigttTSIQveWlzaBnxIqqZInQ5YHDgEBfuiigD40+HP7JcVl8NviV4b+Mmuf8Jf4l+MM1xP4l1C3h+yRASwi3hgs0yWSK2jAEZZixbLHAIUcz4V8Aft0eFdI0v4XWnjDwhP4f0hY7ePxNcWl5LrUllEAiI1juFt5+0DMxlKnH+ryc1940UAfO3hT4Pa9oP7Snj3403V7bSaV4s0bRtNt7dN/2iOTTWmMjSZUJtbzBtwxPHIFQ/AT4Ma98J/EPxT1jWb62vY/HnimfXrVbffuhglt4YRHLvAG8GMk7cjnrX0fRQBwPxL074i6p4PvbT4VaxZaF4lLQva3Wo2rXlqNkitIksSPGxWRAUyrZXO4ZIxXyPoXwL+PPxD+Pngj4z/HtvCukx/DZL7+zYfDS3M11f3F/Cbd3uri6RDHCEO5YVDfNyXI4r72o60Afjh+zPpf7Ur6J8aE+A2q+GktdT+I/iSBv7eiuUn02UXRElzbvb70uAV27YZETDgneQdtfSd9+xpqunfsweH/AIEeG9fivdZstf07xBqeq34kQX15FqCX97LtQSMpkYERqc44Bbqa+xPBHw38EfDiLV4fBGkxaSmvajcatfCIsfPvrogzTNuJ+ZyBnHHoK7igD53+Mfwf174jfEb4ReMtKvba2tfh7rlxql5HPv8AMmims5bcLDtUjcGcE7iox3zxXl/iH4OfHz4a/FHxX8S/2ctT0K+07x5JBd6v4e8RG5t4E1KKMQte2t3aiRlMsaRiSJoiCVyG54+2KKAPjL4g/Av40/FX4V+FvDvj7xPo974q0rxZpXiG7ntbWa0sFttPulnNrboWmkJCrtV5Gyx5bFep/tC/BP8A4Xb4OstN0vWJPDfibw5qNvrWharEvmGy1K0J8tnjyvmROrNHKmRuRiM171RQB8s/Dyw/bCv/ABTpU3xZ1Twhpfh/Sml+1xaHDeXNzq5MTJG2+6Ma2ahyJCiiY8bd2Oa+pqKKACiiigAooooAKKKKACiiigAooooAKKKKACiiigD/0v38ooooAKKKKACiiigAooooAKKKKACiiigAooooAKKKKACiiigAooooAKKKKACiiigDy34yfES8+GHgG+8TaPpDeItbZorXS9KjlEL6hqFy4jt7dZGBCb2PzORhFBY8A1Z+H3xR8NeP/hv4e+JdvOun6d4gtYJ0W6YRNFLNwYH37cSJJmMqedwIxnivNfir8L/GfxO+Kngm+t9Vm8O+HPA63erxXlqLaW4n1q4iexgTyrmOVPLhtZrhmLJkvIm0ja2fnS6/Zo+J1r4P8SfBx4ovEfhI+PtB8U6Zc3kturz6fPqcOpa1bzwRxxxoYp1nZFVdrpIqjkMKAPv+LxX4Xm0WTxJDrFnJpMIYveLcRm2QIcMWlDbBtPByeKSx8W+FtUk8nTdZsruTeke2G4jkO+RPMRcKx5ZAWA6leRxX5tfFvwHrPwz/AOElS00S1VfG3xT0bVvD1iq25spxa6Vbea1xFLLb2yDzLSVwJpYyXVGjJm8sE+G/h59S0PwbB8PPC95Pq/wk+Il9qXifTmOmwzNNrNjfTyGye3nezeGNtUjaOPzy8cI2MfMXBAPu/wAUfE+30Hxv4G8I2VvHqCeMNQv7CSdJx/or2NlNdtlQDuJMWwrkFc57Yrr7Dxr4O1RNQfTddsLtdJyL0w3UUgtSBk+cVY+XgAn5sV8W/Dj4K/FPRNY8G65qej29i+neOPGviK7ja7jfyLXXIr42fMQIkYvPGrheVG45OOfH5fgL+0L430rxLPrnhq38P6hq3wz8T+FJrOA6bZ6c+s37QfZRZx2bySGzykrRyXTmRQ+SsZZxQB+pdjqem6mJm026iuhbyGKQxSLJskUAlG2k4YAgkHnkVkv4x8Ix3jadJrdit0olYwm5iEgFucSkqWziM8P/AHe+KzPh14I8P/DvwbpfhTw1pVto1pZwxg29rGsaebtHmO20Dc7Nks5yWPJJNfHMf7LzX6w3eu+DtKuL+X4pXvim5mbyXkk0ySacwzNJsDMxiMQaE9sqdwByAfbb+L/Ckeg/8JU+tWS6Lt3/AG43MYtducbvO3bMZ4zmlufFvhazsINVu9ZsoLK6jaWKeS5jWKSNBuZ0cttZQOSQcAc18Tz/AAO8aeGNVtPEGm+EbTXNF0PxvruuJ4eint4hPbanbeXBeWyS7bcXEMzSMIpWQfvHfcJAuX+Cv2ePELeKvBmt+LPC2nWuiWXiTxNr39jCSK4g0WPVLYQ20SKF2PJJIZJpRGCiSyvtLABiAfbFl4p8M6lfLpen6tZ3V48K3CwRXEbymB/uyhFYsUPZsYNQQeMvCNzLqcFvrdjLJopxfqlzEzWhxnE4DZj45+bHFfBvw2/ZY17wNZfCF9H8Oad4e1Hwn4j8V3WpXFk0Ilh0vWItTS2RHQKXUtNaMYVO1PLUf8s1I8/0r9lv4mQfCDxD8PLnSNTn8UW/gLW/C1vqNxqWnf2TfXOoxRgyRRwRpdP9omjExe8O6Fi43MWLEA/RXxN8VPh/4S8Ja9431bW7ZtJ8MxSy38lvItw0XkoXaPZGWYykD5YwN7HAUEkCuj0fxR4d161tLzSNSt7uK+RpITHKj71TG8gAnOzcA390nBr4g8e/sw6xq1r8YdH8I6Fpun6f42+HGn+HtPjHlRQnWLMakFaRFU7fLFzDtlwTxx92uiHhT4i2/jj4W/EbSvhzJYW+gaH4h0a80mK70+Oa3n1NtPkgncpL5Jic2kgcxszqWU7TkgAH1xe+MfCOm2sd7qOt2NrbyxmZJJbmKNGjBClwzMAVBIBI4yQKt2XiPw/qV/PpWnana3V7bKrywRTo8saPyrOiksoYdCRg18JfDX9mnxJY3Xwc/wCE88N6dc2ngjwHrGiXkMhhuYoNTvZrHyliUrhl8qGZd4XABxxuq58CP2b/ABN8Mrz4CX02iWem3Pgzwbqui+IpLaSIM97djT2jDFBmcGS3lbduwpOcfNwAffVFFFABXgXjv4u+IrT4g23wj+Fvh6HxL4pNkuqX73l4bDTtMsZJTFE9xMkU8plnZZBBFHES3luWZFGT77Xyv4r8I/EjwH8c7v40fD7Rk8WaV4m0a00nXdLW5jtdQik0uSeWyurJpysEgP2mWOaKR4zjY6MSpRgD1/QPGOsaX4Ng134zw6V4N1ESvFOkeqC5sVxIViKXU8VqW8xQG2tGpBO3nGT19z4j8P2XlfbNTtYPPWNo/MnRN6ysEjK5IyHdgqkdSQBzXyf408P/ABJ8SeO/BPxh1f4dDW7TRLHV7F/DM97Zy3dpPfvAINRiaVxZtL5McsMqiTdHHKwR2BdW4j4N/sv634f8cfDvxF8RtB026tvCOieIRbQrKt1Bo95q2sxX1lZWiyRhmSxtQ1vFMNgRVwiAMAgB9vSeMPCcMVzPLrVikVlEZ52a5iCwxBihkkJbCpuVl3HAyCOoqle/ELwFp2mafrWoeJNMtdP1YgWdzLeQpDcluQIZGcLJnttJr4Nl/ZV8U6Z8HLG00bR7e38Sx+OL3xRrNrayWq3WsWp1K8uLSMXU8TQ+bAs0FxAkyNGHiEbMpPnLh+LfgP8AEGw8NWGs/DLwhr1n4wQa8LWS8vfD11bh9ZuIrmaHVrOWMW32O6uIlmmNmDOgDBTucggH6Pz+K/C9rfw6Vc6vZw3txIIo4HuI1leQruCKhbcWKnIAGcc9Kdd+J/Den6va6Bf6raW2qXwJt7SWeNLiYL1McTEO2O+Aa/LXxF8NfE3xQ8XftFeA9B8E2d94h1/X9BtF8TebbwroU8WgaZJ9rQswu82j5ltlhBLSEKWjBZx6t8Ufgb8SvEE/xY8K6d4Ts9XvfiXqFpc6T4ve6ijk0SKC2toYmlVz9pSbT5opLi0W1XYzsCWidnegD7zPinwyupx6K2r2Y1CV2jS2NxH5zOgDMoj3biyggkYyARXDeOPiro/hPVdD0K0ltdQ1LVdXsdMmtRcos9vHeb8TNGNzYGzgEDPPPFfK2u/s2eJ9S1Xxj4lTRLCXWtR+J/hrxPp16zRfaU0rS10qO6cS43Ru0dvdr5YOWWQr0c1keGfgb8QtJ17SNK1DwFZXN9pfxGvfFN34t+1WvmXlheXF3JFIAR9pNxHbyxWskTBVVEAR3UBaAPtbQvG5fS7u/wDG4sPDzxX9/bRD+0Yp45Le1lcRymTCBXeFRJJFyYjlSTt3HornxV4Ys9Mt9au9Xs4NOvCiw3L3EawytJwgSQsFYt/CATntXw/on7OXjE6n4GTxFpFpdadonxL8XeKL2OWSOZP7P1ZdTNlIFIwz+ZdQkpjKEHP3c14B4t8D+I/hq3gH4S2nh22v9aaX4j6hBpWLGSxj0XVNT3xNHHfXNnZ+csVzEkYDl497KU8lpSAD9bdL1jSdbtzeaNewX8Cu8Zkt5VlQPGdrqWQkblPBHUHg1o14d+zjrHg/Wfgz4ZPgayutP0rTbc6WsN6kS3KSaYxs5RK1uWhkbfEcyxM0cn3kYqQa9xoAQnAr5Tl+N3xY8W3fiXVvg14DsvE3hjwrdXGnm4vNXawvNWvbCQx3sOnQi2liKxOrQrJcTRLJMrL8sY80/Vh6cV+dOuX37R/7LHhXxBpHw0+HY+Ieg2Ouat4htpLaeISz6ZqU0t7c2kqNKk0V3b3E7vC0UNyk8Mfl7UlcEAH2v8O/iX4W+Jvg/QvGfh64KWviC1+1wQXAEVyiqdsqSRE7leGTMco/hYEGtm88beDtO+wf2hrtha/2qwWz826iT7Sx4Ah3MPMJPQLmvhL4afCrxP4F/wCFO+NfA9ifG+l2vhrxNBfTWjx2ROo+J7y01UziK8dGjt2mjmXblpI9yAocNjzfXPgF8ex+z74b+A0fg+0uwPh0+gzX9q2mvcQ6wUeN7e5ub07orNgUeN7WOSQvuLGMqhYA/T3UPFfhjSbpbHVNXs7O5Zo0EU1xHHIWlyI1CswOXwdo74OK5+3+J/ge58d3/wANo9WhHiDTrW2u5rdmCny7ozBArE4aQeQ7OgyyLtZgA6k/FHxQ/Zk8Y+Pbb4w3d3odjqWp+K/h1o/h7RZrp4pJF1S1S/M/zvkxgSTQHzM8lcg/LXq9t8NfFOj/ALQuq+MR4Sh1HTfFXhfSNNbVlltQ+nX+nNf+e8yyETOZkuolV4g5IQh8BVyAfVia1o8iwPHfQMt1E00JEqkSRKAWdOfmUAglhwMisRvH/gRIbi4fxHpqxWixvM5vIQsSzf6tnO/Ch/4Sevavhb4Q/Bz4t6c/wdtPEXhg6TD8NfAOr+FryaW8tpRcX9ylhFG8CxO5MD/Y2YO+1sMAyA5qb4Wfsmy+Grr4Lz+JPCekP/wh/wAPb7QdZOyCTdq9wNP2E/L+9H7q5+c5A3n+9QB+hsUsc8azQsHRwGVlOQQeQQR1BqSvFP2b/BXiD4cfAP4e+APFcaxaz4c0LT9Pu0SQSos9tCsbhXHDAEcEdq9roAKKKKAPA/iB8WvEth8QdO+Efwv0G38Q+KbmyOq3r3141lYaZp3miFJbiWKKeUy3EgdbeJIzv8uQsyBcmX4W/GaTxbd+KPCfj7S4/CXi7wTNbRaraG6FxaPFexiS1vLO5dIjLbT/ADIrPHGwljkjZQV588+KHhP4q+Cvi3efGr4TaPH4mPiHw9FoGpWO+Jbm1nsppp9OvoI5pbeO4iV7mVbqAzxOybWibcpR/nTw94a+Jvxx8G/Gzxx4n8OLpPxL1WPRtBk8LF9kdqnh9/tcYF3MoinN488skcqExBDHGTvSQkA/S+/1/Q9Lhu7nU9RtrSHT1V7l5pkjWBX+60hYgID2LYz2qrF4s8Lz6Vba7BrFnJpt7/qLpbiMwS8E/u5A21uFJ4PQH0r4y8VeGvjje3XxK8daH4As2uPENx4WWz0+/lsr27nsdNZmvJFieRbVbyLextklnMW9VcuOVHK+Ef2dfH0uiWWleLfDsE9g3xUbxZLa3s9o+zSzZEiZoLaMWqy/bPnaGEBSxaUszsxYA+z9f+Lnw68NR+HrjVNetFt/FN19j0+ZJUkhlkEUkxbzFJURhYmy5O0NtXO5lB7Rtb0ZY55mvoAlsEaVjKmIxIAULnPyhgQVz17V8Naz8CvEWi6Xpt5pvgWz12Pw98RtS8QW2kwvZoX0rUYbmFjB9o2QxkyXAleMsucE8tgFfiZ8OPivrFz8VNF8OeCEuofiDbeHWt7hr20htoPsSpFdxTAnzDJCq5jCxsknA3JyQAfbFx4s8L2uoJpNzrFnDfSSGJYHuI1laQKHKBC24tsIbGM4OelW9I1zRfEFqb7Qb+31K2Dsnm20qTR70OGXchIyD1HUV8F/Ej9lzVvG0/xgvrrw1p+o3fjLxl4V1TT5pniEr6ZpUelJdAyEFo9v2e5wmRvDY6PX0Z8J/hxe+BPiJ8UtVj0q20rRPE2qafd6ctqyhZFh0y3tpnaFFURN5kRXHO4ANnnAAPfaKKKACiiigD//0/38ooooAKKKKACiiigAooooAKKKKACiiigAooooAKKKKACiiigAooooAKKKKACiiigCpeXkNlA08rAYBwCQNxAJ2jPc4ryP4Y/F1/ifoHhHxdp/hy7stA8WeHodeW+mmt/Ktmn8to7SVQ/mGUo5fcqGMBWBYEqD4n8cfAeo6z8ZdO8T+JvANz8SfCyeHbqz0y1t/szrpesmVmknkiup4k3XULJHFcAFoPLddyiU18/f8KK+MsHwY0HwzbeHbhdYsPgVq3hZohPCAmvTLYiG0P73YZGMT7X5QBTlwDhgD9OdZtvD2radNp3iCK1vLCYiKWG6WOSFycYRlkypJyMAim6dp3hvwpY2+j6TbWmkWYYrBbwJHbxbjzhEUKMn0Ar89Pij+zLb6fc+A7LSfC15q3gjT9H1C1vrCzt7HVp11m9WBTqF3b6qStzLLDHJAbre08ZfH+rkdkv2fwwutK8S2t/8UvhVrPxRtH8NaFaaHcag2m3+oaZPYL/pNteLJcJBb3bzCOd7u3ZklZcFwYotwB9sXfxC0ufTfFUng+E+JtX8JPJbXOmWkkUdw16lvHcrbBp2jjV3jmjILMEG4ZYc47GG+iaO1+1gWtxdKCIXZd+7bllGD8xXvjNfnP4k+CmrW+iftQeEPC/w1lh1jxzZaw+g6rAloltdQX+i2cIs0kMqyRtJepMzIyBN+6Rm+YEwfFj4TeP9buPihptz4BuvE3iTxTZ2EPgfxBDNbKnh9lsIbdVM0k0c9i9nfpJeO8KsZVddpeQeWoB+k5urYSCEyqHLbQu4Z3AZxjrnHOPSrGBX5v8Aiv8AZ98WalrnxL8aXPhk6p4ok8aeENR0HUVaJZxaWNvpMN/cWrGRfIX93diVRtaRNylXBUH9Hx0oAXFFFFABgUYFFFABgUmB6UtFABgUYoooAKKKKACjAoooAMDpRRRQAzem7y8jdjOO+PpUEl3Zx+WJJUTzW8tMsBuf+6M9T7Dmvm74/wDhz4h2OqeHPiz8INMOseKdBW80uWx81YlutP1VAp3F3VB9muo7e4LEM3lpIqDL4PyP8SP2WfEGl32n+HdSs9f8X+GLTwZZaLp91pMenXuo2us289xPfXudUdBa3t7JLDNHewkMJYv3roEiyAfp/Gmj2F9J5awW93qDeY+AiSTsihdx6FyqgDJzgADpWb4c8YeGfF1rd3/hzUIr+3sbu7sZnjOQlzYzNBcRnPeOVGU9sivjjw58Pv7L+Kmt6p8TPhVeeNPEGo6xY3ek+KGWyuvs1gII4Y0aSadJLNrI+d50UKlJS7SR72ldV8vsvglrGjeAfG3gjRvhPMnk+M7rUtRhgNnbQ+J/DcmsTXqWFtOJgzgW8w/0a4EUTbWgZhG5YgH6ZxXlpNFHPDMjxzfcZWBVsZPykcHoelTo0ciLJGQysAQRyCD3Br8v7v8AZ88SeOfGOmPa+B7vwr8LrvxzYai/hwzRWnlQW+j6lDf37wWs5SG3v7ma3je0Q/vNrSSx5mlFfptp2n2Ok6fbaXplvHaWdnEkMMMShI444wFVEUcBVAAAHAFAF3ArC1/wv4a8V2i6f4n0m01e1Vt4hvLeO4jDD+ILIGGffFbtFAFe0tLaxtorOziSCCFQiRxqERFHACqMAAdgKsUUUAFJgUtFADWKqCzEADkk1yOr+PPB2gyaLFquq28DeIr0adp/zhvtN2Y5JvKQrkZ8uJ29AFNcr8dvDg8X/CDxZ4YNpql8NTsJYDDorwR6i4fAItzdOkBfvtlYIwyrcHFfn03wb8aaj4c0HVPF/wAJbPXLDwt4+W7W3sdGsNK1DVNBudJkt5prjThdNbGRbuVFkBkjEqQiURAhQQD9Vftlp562vnJ5zrvEe4bivqF6ke9Y+i+KvD3iK71Sy0a9jurjRLo2V4i9YbhY45TGc45CSocjjn1zX52/FDwL8T/FXxe0zW/DnwuTR59G8W+F7i21iztLUX0mi232c3k02qNdo8SJC09rJZRQOWRWGWSXI29Y+Cevx6Z8dfBXgDwPN4Z1rxReXFzp2u2S2trHeabdR2UlxZ29ykolhmuJBcgbkCLKTIxwRkA/RK3uLa6j861kSVCSNyMGGQcHkccHrU+BXyj+zB4HHhCLxHcWmh634astSaxdNP1Sy0nTreKWKEo5trbSmZA2NqTO3DsqlCyjcfq6gAooooAKKKKADrScUtIelAGXd6zpNil09zdRJ9iiM043DdHGo3FmXqBgZ6VW0vxP4f1nQrLxNp19FLpeowxTwXBYKjxzqHjPzYxuVgQDzzX56aX8GfEFz8VPFWlDwFJqnhvxRH4oGo3fifTdOa5tzfndElpqcE7zXVrdShdlvPETFCqhnjMSRsjeCNZufhN8OPBq/AuBbKCKWPWY9U0ux1Oa21L7BHC88dkLuKFxdEyxPdPLlccxlZC6gH6BX/jPwvpnijTPBd/qEUOt6xb3N1aWrHEksNmY1ncdsIZowc/3hjPNdAtzbPcParIhmjAZkBBZQ3QkdQD2r8yvB3wc8aaPdfs5eMPib8PLjxVqnh/wvd6Jr4AtLy7tNQD2UthNcNPOBIlv5M4WRXkdGfKg7iR0HwT+Cnizwn8XrXXfGGla6PEtrreu3V7rcEGktp+pWuoGZoWuL/K6hLbmMwJHbMpaCWGNcGGJXYA/R3iikHQUtABRRRQAUUUUAf/U/fyiiigAooooAKKKKACiiigAooooAKKKKACiiigAooooAKKKKACiiigAooooAK85bTvilubZrmkBcnAOmTkgZ4yftY7V6NRQB5udN+KZ/wCY5o//AIK5/wD5Mo/sz4p/9BzR/wDwVz//ACZXSeJvFuheEba0udcuPJF/dQ2Nsio0ks9zcNtjijRAWZjyxwMKoZ2wqkhmr+M/C2g6pY6LrGqW9pfakQsEMjgO5ZxGvHYM5CKTgFiFHzECgDnv7M+Kf/Qc0f8A8Fc//wAmUn9mfFP/AKDmj/8Agrn/APkyvSetFAHm/wDZnxT/AOg5o/8A4K5//kyj+zPin/0HNH/8Fc//AMmV0vivxh4U8CaHceJvGus2eg6RaY868v7iO2t49xwN0kpVRk8DJrV03U9O1mwt9V0m6ivbK7RZYZ4HWSKSNxlWR1JDKRyCDg0AcL/ZnxT/AOg5o/8A4K5//kyl/s74qf8AQc0j/wAFc/8A8mV6DcXENrDJc3DiOKJS7sxwFVRkknsAOtFvcQ3cEd1buJIplDow5DKwyCPqKAPPv7O+Kn/Qc0j/AMFc/wD8mUf2d8VP+g5pH/grn/8AkyvR6KAPOP7O+Kn/AEHNI/8ABXP/APJlH9nfFT/oOaR/4K5//kyrOm/FH4fa6mvf8Iz4gstem8Ml11K30ydL64tXjUsY5IYC7iTAOExuJ4AJrpfDviHQ/Fmhaf4n8NX0Op6TqsEd1aXUDh4poJVDJIjDgqwIIoA5H+zvip/0HNI/8Fc//wAmUf2d8VP+g5pH/grn/wDkyvR6KAPOP7O+Kn/Qc0j/AMFc/wD8mUf2d8VP+g5pH/grn/8AkyvR6KAPOP7O+Kn/AEHNI/8ABXP/APJlH9nfFT/oOaR/4K5//kyvR6KAPOP7O+Kn/Qc0j/wVz/8AyZR/Z3xU/wCg5pH/AIK5/wD5Mr0eigDzj+zvip/0HNI/8Fc//wAmUf2d8VP+g5pH/grn/wDkyvR6KAPNzpvxUPXXNI/8Fc//AMmUf2b8VD11zR//AAVz/wDyZXpFFAHm/wDZnxT/AOg5o/8A4K5//kuj+zPin/0HNH/8Fc//AMmV0HjHxr4R+Hvh+58WeOdZtNB0ay2edeX0yW8Ee9gi7ncgDcxAHqTXSQzRXESTwOskcihlZSGVlYZBBHBBHQ0Aed/2Z8U85/tzR/8AwVz/APyZS/2d8VP+g5pH/grn/wDkyvR6KAPOP7O+Kn/Qc0j/AMFc/wD8mUf2d8VP+g5pH/grn/8AkyvR6KAPOP7O+Kn/AEHNI/8ABXP/APJlH9nfFT/oOaR/4K5//kyvR6KAPOP7O+Kn/Qc0j/wVz/8AyZR/Z3xU/wCg5pH/AILJ/wD5Mr0eigDzc6b8VD/zHNI/8Fc//wAmUn9mfFP/AKDmj/8Agrn/APkyvSaydZ1zTNAt4brVZhBFcXEFqhIJzNcyLFEvAP3nYDPQZ5oA4z+zPin/ANBzR/8AwVz/APyZS/2Z8U/+g5o//grn/wDkyteb4heA7bxjD8PLjxHp0Xii4hNzHpTXcS3zwjrItuW8wp7hcVs6Fr+leJLE6jo84uIFmnt2IBUrLbStDKhBwQUkRlOR2oA4/wDs34pjprmkf+Cuf/5Mpf7O+Kn/AEHNI/8ABXP/APJlej0UAecf2d8VP+g5pH/grn/+TKP7O+Kn/Qc0j/wVz/8AyZXo9FAHnH9nfFT/AKDmkf8Agrn/APkyj+zvip/0HNI/8Fc//wAmV6PRQB5x/Z3xU/6Dmkf+Cuf/AOTK4T4na/8AFz4f/D3xF42s9R0XULjRLGe7itpLC4hSZ4lyqNILlyiseCwViOuDX0FXiv7Rn/JDPHP/AGCLr/0GgCn4Lg/aMvdHM3xCuPC2kar5rgQaXBeX9v5Q+43mzSWzbjzlfLwOxNTeLvEfiPwBo03iHxx438N6DpkAZnuL6ze3iG1Sx+aS9AJCgnA5wK9wr5M/bj1Pwrpn7K/xNPia6srWS58O6tBY/bGjVpLySzlEccHmcmVudoX5j2oA9mhsvidcQpPDr2jvHIoZSNLnwQwyD/x9+leO/GzxL+078O/C114w8CReEfEFlo9nd3upLqX27TpUitkEgFuIftQkZlD5DmMAgcnJx9BeBfEGheKPCOla14a1G21bT7i3j8u5tJVnhfYoVtroSpwwIODwRg81xv7QP/JDPiF/2L2qf+kz0AaVvZ/FOe3inGuaQBIitj+zJ/4hn/n7qb+zvip/0HNI/wDBXP8A/Jld1pv/ACDrX/rkn/oIq7QB5x/Z3xU/6Dmkf+Cuf/5Mo/s74qf9BzSP/BXP/wDJlej0UAZukRatDp8Uetzw3N6M+ZJBE0MbcnG1GeQjjGcseefatKiigD//1f38ooooAKKKKACiiigAooooAKKKKACiiigAooooAKKKKACiiigAooooAKKKKACiiigD5a8eStf/ALWXwn0S+2vY2egeKtWt0ZQQNQhfTrNJlJGQ6W93OgIP3ZG9a+b9dsPFnjHxnrmmwajbrrPxD+INnaLCLRmvbLw54MnhmlDTK5VLfMEjqzoFE18qg75Bn7o8f/D1/FuqeF/E+k339ma74Rvzd2kxVnikhnjaC7tZkVk3xzQucc/JKscmGKbT3dvo2kWuoXGrW1lBDfXYVZp0iVZZQv3Q7gbmA7ZPFAHI+Ptd1LQdNtrjTbr7I8k+xm/sq81bIKk48qzIdOn32+Xt1Irz/QPHniS+1ywsrnVvNinmVHT/AIRTWLTcD1HnzMY4v99/lHevoDFGKAPmL4yS6LD8bfgo/isxDSzf6wtqZx+6GsHT3Nqcn5Q/2cXQTPOT8vOKwP2Wtf8ACOj+C7/T7XULaw0zXfGniuPw7A8qRrdxDULmdlslJHmJlJpEEeR5YLD5Bmvp/wASeGPDfjHSJ/D/AIs0q01rTLoAS2t7AlxBJjkbo5AynB6ZFZd/4I0K9fQFS3itrXw3cC4tLeKKNY0ZImiQJ8v7tVDk4TbngH5cggHgXxQ8b+JfEHi/xF8LNPvItA0uy0/SRNdEI93ePrlxNAwiWX93FBbwwuXkIYu7bV2eWd/pXwU8Zax428ANr+ohWiW+1K2sLtYGiW+sLS6khtLxYuPlniRXUp8kikPHhHUV1/ifwF4c8Xajo2oa7ZwXf9jTPNGk0EcoYtG0YBLgkKC27A4LAE9K7NVVFCKMAcACgD5rHxG8VkDOtf8Alma5/wDF12/ie/8AEurfBDxFf6NM8+vz6LqJtHjs5rB2uvIkEJW2uCZY23YwHOc89CK9fxRQB+f/AMKpvh9P49/Z8b4X/ZWWPwDqJm+w42LpJTThCsoTgZugNgf5twlxzvr3D9miMWOg+NtBtGZtN0jxl4ggstzbwIZLo3Doh7JHPLLGqj7oXb2r1q08DeHvDUWtXvgPR9M0PV9ZLzTXMVmkYnutuElufJ2NLg8nLAnpkZzVP4W/DzTvhb4KsfB+n3Ml+8DT3F1eTKizXt9eSvcXd1KECoHnnkeRgoCjdhQAAKAPQqKKKACiiigAooooAKKKKACiiigAooooA+Pf2nfFNnDq3hjwv4X12wtfiEpub7R7a8isZorXMZtn1O6N4QYLaBJHR2iIllDtFHlmOPof4Y+FT4I+H3h7wkbi1u/7JsYLfzbG1SxtHKKObe2jZkhi/wCecasQi4AJxmtbV/BnhDX5zda7odjqMzKEL3NrFMxVc4BLqTgZOB710MUUcEaQwoI44wFVVGAAOAAB0AoAkooooAKKKKACiiigAooooAK8o+MGf+Ef0f8A7GDQc/T+0YM/pXq9cn4x8MHxXp9nYi4+zfZNQsL7dt37vsVylxsxkY37Nue2c4PSgD82/FUth/wr3xjab7YfEh/jRp4RYiBftJ/bto1mUB/ecaGFzjjyA/8AyzDV95eDP+Jf8S/HWiaf8+ms1hqDkHiG/u4mWeED3jiimPvKT3rtpfBPg6fxPF42n0Oxk8QwRGCPUmtojeJEesazlfMC+wOKr+DvCp8MW2om5uftt9q1/c39zPs2b3mbEa7cniKFY4l56IDQB2FFFFABRRRQAUUUUAFeK/tGf8kM8c/9gi6/9Br2qvFf2jP+SGeOf+wRdf8AoNAHtVcv4v8AE/g3wfoc3iPx3qtjouj2ZBlu9Rmit7eIk4G6SYhVyeBzXUV8xfF46QPjp8Gf+EpMH9km41v7L9oA8v8Atn7EPspBb5fM+zfa9meeuOaAPo7S7rTL7T4L3RpYbiyuEEkMkDK0UiPyGRkypDDkEda8v/aB/wCSGfEL/sXtU/8ASZ682/ZAMJ+GGstphY6IfFvio6T93yv7P/ti58n7Pt+XyOvk442bccYr0n9oH/khnxC/7F7VP/SZ6APUtN/5B1r/ANck/wDQRV2qWm/8g61/65J/6CKu0AFFFFABRRRQB//W/fyiiigAooooAKKKKACiiigAooooAKKKKACiiigAooooAKKKKACiiigAooooAKKKKACikJxS5FABRRRQAUUUUAFFFFABRRRQAUUmQKAQaAFooooAKKKKACiiigAooooAKKKKACiiigAooooAKKKKACiiigAooooAKKKKACiignFABRSZFAOaAFooooAKKKKACiiigArxv9oOzvNQ+CXjiz0/7P8AaZdIvBH9quUtIN/l5HmTyfJEnq7cKOTXsleJftIRxy/Anx3HKodH0e7DKwBBBTkEHgg0AdT8M/iHY/Evw/J4g0+KOGKO5kt8R3tpfLuixk+bZyyxg8/dLbh3ArovFXhLwr440Sfw3400ez17SbrHnWd/bx3NvJjkbo5AynB5GRW1bWlrZp5drEkKE5wihRk98DFfPnxfufEGu/Ej4dfC/TdavdA0zXW1W/1ObT38i4uLfTYEVLRLgfPDvmuElZoyHKxFQwBagD3+wsLDS7KHTtMt47S0tkWOKGFBHHGijCqqKAFAHAAHFfOP7UvjePQPhtrPg+OG0kvvFulanZWrXmqWOmRLK8PlqXa7lRmXMg3GNXKjqvIB1P2ZvFPiTxL8PtQs/FepnXNQ8Ma/rugf2hJs867h0m/mtoJZ/LVE88xIomKqqmQMQAOK3v2ibKyu/gb8QDd28c+zw9quPMRXxm2fONwNAHrtghjsbeNsErGg4ORwo71bqlpv/IOtf+uSf+girtABRRRQAUUUUAf/1/38ooooAKKKKACiiigAooooAKKKKACiiigAooooAKKKKACiiigAooooAKKKKACiiigD5t+KurX2v/GT4b/B+3vLixsNQTUvEmp/Z3MRurXRDbxw2bSKQ4jkuruGWQKRvSIxvmN2VvEPH/xv8Y3XifxFfaC2p28Gg+MPD/hLQ7e3tpVtb+5nu7UarczzbWjlQJPLAIzgR+RI4O9gY/f/AImeGdWsPix8Pvi/pFlJqEeiLqOh6nHDlpY9O1nyH+0pGoJfybm1g3gYIiaR+duDq6Z8DvDtj4ttfEk9zNd2umapf63p9hIqeTbanqautxc7gNzuFlmWLJwglfqdpUA9M17xDD4etY7ie0vLwSP5YWztZbpxwTlliBIXjqeM1gWHxDstQvrexTSNYha4cIHm0u6ijUnu7sgVR6k8V0Ov+GdK8TW0dpqvn+XC/mL9nup7Rt2COWt3jYjB6Ekd8Zrn7D4Z+FNNvoNRtft/nWziRPM1W/lTcOm5JJ2Rh7MCPagCH4i/Eey+HenJfXGk6jrUjhn8jTYVkkWNCod2aR441ALKAC+5icIrHNQ/Dv4jT/ECK8uD4X1bw/BaO0SyamtqqzSRyPFKsYt7iY5jdCGLBQeCpYc1teM/CMfjK102xubya1trHUbPUZUi24ufsUonjhk3A/uzKqM2ME7cdCa4G5+HniTwv8LL/wAH+B/EGoJqr3txeWl6FtTPGbvUGvDC3mxmIwKJGiYlTJ5OSp83DUAd54w8d6B4LOl22qO8uoa7c/Y9OsoAHuby4EbzMkSkqPkijeR2YhURSzEAVwvwh+Jdv4xiu9I1MXFp4gjhi1eSzuihdNO1Wac2DoY2ZTHsiaMc7g0bbh0JsfF34fXni2ytNe0CeS18SaNDd29lKioyGPUYxBOkiORlMbZMqysDGMEjKtu+Bvhpo3gq81LXFke/1vWEtYbq9lVEY29irJa28aIAscEIdykaj7zu5JZ2JALF/wDEOy0++nsX0jWJmgcoXh0u5ljbHdHVCrD0I4roPD/iGHxFbS3MFpeWYjfYVvLWW1cnAOVWUAkc9RxnisC/+GfhXUr2fULr7f51y5d/L1W/iTceu1I51RR7KAPaug0Dw1pXhm2ltNJ8/wAuV/Mb7RdT3TbsAcNcSSMBgdAQO+M0AfB7/Ff4ojTb74+nxNONHtPiEvhJfDIhtvsH9lLra+H3laUxG5a7aVjdBxKEA2w+WQC7e+/DjXL/AMPfHf4hfB2e6mu9MhstL8UaZ58pla2j1eW7t7m1QkbvKS4tGmjDMdvnFF2xoiincfs0abNrzA+IrxfBsniRPFjeHlhgWE6skouQftAUSi3N4ou2i6mfOX8smM7Hw88Marqvxq8ffGHVbOWwt76003w3paTqY5JrPSJLmeW6KEBlWa5u5EjB+8kSyD5XFAH0NRRRQAUUUUAFFFFABRRRQAUUUUAFZurazpOg2T6lrl7Bp9nGVDzXEqwxqWOBl3IAyTgc8mtKq9zaW17Ebe7iSaJsZV1DKccjg8UAchafEv4c6hdQ2Nh4p0q5ubhxHFFFfQPI7t0VVVyST2AGa+bviV8RfGGj/HXwz4Zsjr8M2oXUcOm2FlBp8+n3tqm06jdXqNcC6EESyKBPiJYZAgAlaQRyfWEfh/Q4HWaHT7dJEIKssKAgjuCBxXh3gb4Eap4L+Iuu/EeXxzqWtXviW586+S9tbBi1vGhS3sopkgWWK0tyS8cSMPnZ3Ys0jkgH0SKKKKACiiigAooooAKKKKACvMPixd3dnoWkyWc7wO+u6JGzRsVJSS/hV1JHVWUkEdCDg8V6fXmvxS03UNU0TS4NNt3uZItb0aZ1jG4rFDfQvI5/2UUFiewFAHll/wCJPH+lftWeG/Btx4hFz4W13w3r+pLpq2kUQinsLnTIYmab5pJCBcS91X5uVJAI9H+Ht5d6brnibwHqU7zy6XdfbrN5XLu+n6mzyx8tyRFMJoR6Ki+1c7rPwZ1LV/jFpPxgHjG/trjRbW60+2sEtrM2osr6S2luYmZojKTI9rGQ+/cvIXrXUfD/AEzUJ9W8SeNdatpLW71m8NvbxSrteLTtPLQ2645wJG8yce0ozQB6hRRRQAUUUUAFFFFABXiv7Rn/ACQzxz/2CLr/ANBr2qvFf2jP+SGeOf8AsEXX/oNAHtVeW/Ev4XWvxDOi6lb6zfeG9e8NXTXem6ppxhM8DSxtDNG0dxHNBLFNGxV0kjYdGXDqrD1Kvnz9qLxd8Qvh78DvF/xC+HF/YWGpeFtLv9Ub7fZveLKlpbSSCONVmhCOXC/O29QMgoc5AB6F8MPhvoXwo8HW3g7QJri7iimubqe6vJBLdXd5fTvc3VzO4CqZJppHdgqqgJ2oqqAowf2gf+SGfEL/ALF7VP8A0mevTtInkudLtLmY7pJYY3Y9MllBPH1rzH9oH/khnxC/7F7VP/SZ6APUtN/5B1r/ANck/wDQRV2qWm/8g61/65J/6CKu0AFFFFABRRRQB//Q/fyiiigAooooAKKKKACiikPSgDx+2+PXwrvfGknw+s9Ze41yG9bTpIY7O7eNLtF3NE86xGFSB1y4A4GckV7DXg3wFJNp45BPTxhrv/pRXvNABRRXBfEb4m+B/hP4cbxV4+1RNM0/zY7eM7HmmnuJTiKCCCJXlmmkPCRxqzsegoA72ivALD9p34M3ngbWPiHcazPpmlaBcJaXqahp97Y3sV1KFMVuLK4hS5eWUOvlRpGzSFgEBJAqXw5+018E/E3hvxL4pt/EiafbeDIxLrkGpQT6be6ZG6l0a6s7uOO4iWRQTGWjxIPuZoA96ri/F3jrSPB8mnWd3HPe6lrErw2NjaoJLi4eKMyybQxVQqIpZndlUcDO5lB5L4ZfHPwF8Wb3UNM8Kf2pDeaXHDNNDqmj6jpD+TcFhFJGL+3h8xWKNym7HfGRn54+OGjePX+Mur+JvD8d6dUt/Bf9keERZjCy6rqt5J9vE7vFLHHFGILGSRyAyxq5GelAH2R4U8T6L418M6V4v8OXAu9K1q1hvbWUAr5kFwgeNsHBGVI4PIroK4T4YeBrD4ZfDnwv8OtLkMtp4Y0yz0yJ2OSyWkKxBj7nbmu7oAK8dj+Pnwpk8awfDw600WvXd5Jp8NvLZ3USy3USPI8UczxLE7BI3b5XIIUkdK9ir52+OjMPFvwaAJAPjNMjPX/iUalQB9E0Ug6CloAKKKKADGaKKKACiiigAooooAKKKKACiiigApMYpaKACiiigAooooAKKKKACiiigAooooAKKKKACiiigAooooAKKKKACiiigAooooAKOtJkUZBoAWjGKKQkDrxQAtFGQaKACiiigAoopDQAteJ/tHMq/Avx0zEADSLokngAbab8KvEnxH8ZPfeItfudJTQvtuq2dta2trOt2n2G9ktY3knkmZG3LEWYLEvLAA4HPp/imw8O6p4b1Sw8X2tvfaHPazJfQXcQmt5bYofNSWNgQ6Fc7lIII4xQBsxTwzruhcOvTKkEfpXlXxv+G2p/F/4ba58NbPW00K08SWlxp99ObT7XIbS6iaKRYgZIwkmGyrncBj7p7Q/BXWvhJrnhe9n+DFnbWWhWupXdrKlrZNYRG9gYLOwiaOMnLfx7cP1BIwa7mw8U2mo+KdV8MWsLs+jQ20k8/HlCS63ssI5zvVFV2GMBXT1oAl8J6ZrejeH7PTPEOoxarfWybHuYbb7IjgcJiLzJdpC4B+c5PPHQefftCzwQ/A34giaRY8+HtUxuYLn/AEZ/XFejeKPEem+EvD2oeJdXYrZ6bA88m0bnYIM7UUcszHCqBySQBzXw/wDELx78ONSurTRfjzPY32o6a1tFqIfwtJrGl+H7jVwrQ2t1f+XLDbkoY97Sug2lJHCJImQD7x03/kHWv/XJP/QRV2qtlFLBZwQzSCaSNFVnChAxAwSFHAz6DpXjHiPxP8RvDPxN8K6bPcaVc+GPFWpTaekK2s8d/AI9PuLsOZzM0T/PblSPKX5W65XkA9xopAcgGloAKKKKAP/R/fyiiigAooooAKKKKACkPSlpD0oA8H+Av/Hp46/7HDXf/R4r3mvBvgL/AMenjr/scNd/9HiveaACvkP9pbRfEmn+N/hP8Y9O0O88U6L8PNVv7nVNN0+I3F4sN9Yy2iXtvbqQ072zPkxqGcozFFZwor68rnNT8VaJpOvaN4avpXXUNeadbSNIZJA32aPzZSzopSMBe7lQSQoySBQB8SfE/wAUeIvisfh98Y/B/gLxHc6J8MfFY1C60/UNPax1DUrOXT7i0e7sbG5KTubWScMFlSN32uYg3yF+O8R6QPjr4+8bfFzVfh94lX4dL4LHhiWzayfT9a8QTT36XJnt7OZ4bhBpwRjC8qq7NI5hBH3/ANHH1TT01aHRGk/02eGS4RME/uomRGbPQYZ1ABOTzjoa0tooA+F/2UtY+JVz4y8SaPNrHizxP8OrOwszYaj410r+ytVTUy7ie2jD29rLcQrCI2aR4sByQrtzj0j406r460zW5pvAvhXVfEn9n2Av78pr0miWogQuBDZjy5I7i8YIzeW5ijA2+ZMm5c/UGBmvmz45ab8U/Fd5B4L0Lw7JqXgi+tZDq8lnqkWn310zNtFipkAMVu6bjNLG4lYEIm0FmoA9U+FfiLQfGHw58N+MPC11dXmka/p9vqNpLeu73LQXiCZPMLktuAbGD06V6BWB4Yh+y+HtNtv7LTRBDbQoLCNkZLUKoAhUx/IQgG0beMDiuQ8O/Fzwb4q8RDw5o08kzzLem1ufLItbv+zZlt7wQSZ+fyJXVGOACc7CwViAD06vnX46f8jd8Gf+xzX/ANNGpV9FV86/HT/kbvgz/wBjmv8A6aNSoA+iR0FLSDoKWgAooooA4vxj470TwW2j22ol57/xDfx6bp9pCA09zcurSMEDFRtjijklkYnCxozdsHO1/wCKvgfw14hj8L6rqITUCLV5kRGkFtHfTG2tXuWUEQrcTAxxFyN7BscKxHknjY3T/tafCyO63/2cvhrxY8QOfK+2ifS1U+nmCBpdvfaXxxur55vPCHifxv411zwkuqX39peLviFFqms2yxxtHp+g+GZLdrUvKQskcV0tpAkSAnzGuJGVSglZQD9JQc0tef8Aj+48QW2m2zeHv7T84zfP/ZcNlNLt2k/OL0qgXOOV+bOO2a8+0DUfiFJrlhHqB8UfZmmQS/arPRUg2d/MaFzKF9SnzelAH0D0pMj1rwn48nXzoWl2ug+I9Q0C41PULbToP7LSH7RLc3kqxq7STRzBYrePzJnUIC2wZYKCrcv8IdcXQvhpr/xH8ReJtb12CzudYSVNXaMvAmlX1zAEiRLeA5KxqobB8wBWBOckA9U1r4teCPDcOtXWv3rWVtod5b6fLK0buJr25jSSO3t0jDyTykSINkalixwASDjd8E+PPCPxG0JfEngvU4tV09pZYDJHuVo54GKSxSo4V45Y2BV0dQynggGvDNa1/wAMfBH4U6N4t+JNgt7rrX/2tFERkca5qvmb9sm1vIRBM8bTthY4Q2eODj/ArXvh/wCFND1fxbqXi3TtX1j4ieKjJqE+mrKdPTWLuCKC3soCVLBUtoIo/Nk2+a4LkIZBGAD62kkSJDJIwVVBJJ6ADk1S0rU7TWtMtdX09zJa3sSTRMVKlo5BuU4PIyDnmvlj45eMvEcXiu68G3upnwt4Yk0NJIbwOkD6lqV9dG08hbhifKjsowJpkVQ8nmoQ6pG4b0v4G3fii70LW21hpZNDh1WeHw7JdIY7uTR4o4kjefcAW3TiYwuVDNB5RbLEswB7ZRmvmy41P4li4mEZ8W7BI4XZY6EV27jjbukzjHTPOMZ5zXqnh7/hINQ8Gyx6g18upSpcIp1BLaG5BO4JuFoTEB02kHOOvNAGR4Z+Nvww8Z+Irrwn4U1+DU9Wt1umWFA6LcCylEFz9mldViuBBKRHMYmYRuQrlTXTeBvHGifEHQF8QaGZFRZri1ngmXZPbXdpK0NxbzJk7ZIpFZWAJBxlSVIJ/Ob4G61pXiCw/Zd+GHhucf8ACXfC63m/4SywQMtxpEdpolxptxDeqB+6M15LF5Svjzwvmx70XcPqT4DO3/C2fj/BbOzWMfi6yKrj5EnfQNMacLyRyxDN0+YnI7kA+paKKKACiiigAooooAKKKKACiiigDgvH/wATPBnwysLTUPGF8bVb+cW9vFFDLczzPgu/lwwK8jLFGGklYLtjjVpHIRSR2djfWep2cGoadPHdWt1GssUsTB45I3G5XRlyGVgcgg4Ir5G/aI8a+NdB8QWWq/Ci4ubvVPDNncS69bCz+22drpF1t33ZRV8yS+g2ebbW0Lhp1Eiuu0oy/SngLTLXSPBujWFjqs+u28drEUv7koZbpWXcJm8pI4xvzu2xoiLnCqqgCgDr6KKKACiiigAooooAKKKKAPmn40eJdc8NJ4mvtH1GTTmTTtDiNwMEWsN3qj29zcKHyitHAzNvYELtDNkLisjw1rusWd5cXiavcataeG/FsmhWzSzGWS7sb6KAPEW/5ayWtw+RI2WCxOpOd5Prer+HPGNx4k1LVrFNKuLO+tIrIw3YmbdDGzuQ6rlTuMjAjpjHvXPw+BvGVnPof9m2mg2Fj4d842dlbRzw20ckyeX5gRAACiM6qAMfOx64oA2tf8e3+m+KtK0mDSNSlt5WulmMVqHSXyowylG3Zxk8HjNZurXV5eXnjQQ6ndaGf7EsJYp1aNJbR2F0d6rOskSuMANuUjjnpSeJ77xpoFqnibXI9G/4lx2wlFunlMlyVhWOJB955WKoq9yQKw9Og8f65reqTXmjafs1G3gtrhLyMyW2LVnKoQk0vzHzTkFccD8QCl4K8T32peBvhH4/OpnUrnWbKxtLwpKJFu/7RtlkeQBDsaSOSMSEgcR+Z0zivpMdK8SXwb44g1PTtSsrbQrRNJS5+z20KTxQrNc4DzbUAG/aGUHHR29a9ph83yU8/b5m0btudu7HOM84z0oAlooooAKQ9KWkPSgDxf4Cf8iFN/2G/EP/AKd7qvYby6hsrSa8uSRFbo0jlVZyFQZOFUFicDoASe1ePfAT/kQpv+w34h/9O91XtNAHyH+zt490CWz+J91cR6hp8UHiTV9XZ9Q0y909WsJCrLPG13DEHQhTgoT07V6P4X8KeJNZ+FmpS2+q3HhjxN40+0alLfQJFJc2c16v7hQsySRlreERRfMp4T1r0/xDomj+NdDvvDd9KZLO4ZYblYZBkhGV3icjOA4G116lSR3rSi1jSpNWn0CK5RtQtYYriWAHLpDOzpG7DsrtG4X12n0oA+TPhV4513482/h/Q/FtqLTUfAkxHjC3VWWL/hIdOkMUFuiuMtCzr9vjOcmP7M3RyK5n9oHxr4f8Z69rn7P+qWWraH4UuY7d/FGqwaFqN0dUguUy2nafLbW8iM7xoq3V1k+TGRFFmZi9v9uLa6VpS3l7FDDaC4c3FzIqrHvcIFMkjDGSEUAs3OAB0FeVab8UNR1uDTrzS9GhSHWkM2nx3moxWt1c25PySrAVZgHXDAckKRuwcgAHsMIjEKCIYTaNo56Y4614n8VP+R++Ef8A2Md1/wCmXUa9ptXnltYZLqIQzMil4w28IxHK7sDODxnHNeL/ABU/5H74R/8AYx3X/pl1GgD29fuj6UtIv3R9KWgAooooA//S/fyiiigAooooAKKKKACkPSlpD0oA8H+Av/Hp46/7HDXf/R4r3np1rwb4C/8AHp46/wCxw13/ANHiveG6UAfPHj/9qX4OfDfxFf8AhnxBqV1cXeirFLq76fp93qFvo0U4DRyanPbRvFZqykOPOZTs+fGzmuZ8afEPx7Z/Ezxrd+CbK712z8C+BTqdtpcWEtdW1fUJZ5LaISbGYyJHZ7RtPC3GSrErj5U8OfBuaxk+IPw4+JPg/wAeazq3jfxLrFxfTaRqk8Ohavpur3Hlx3Es32mKGNYrFo4ZYXAkxERGj5Gf1NsrG30+ygsLRdkNtGkcYznCxgKoz34FAHxB4Y13xRf+M9EvvD3iqXxb4klutKsdSeBVGmmxWH7Vqk7QAEWkIMwjtlLmYTIiMzjzCfo/4lfGvwX8LLvSdJ19NQ1DV9c802WnaRp1zql9NHb7fOm8i1jkdYot6B5GARSygnJAPoei6FYaDDcQ2Kkfa7me7lZsbnluHLuTgDucD0AAr5T/AGoPDGi6xqvhvWLzQ/GkOp6ZDeiy8SeCSGvdOM3lh7eWJWMksc5CttaGSLMY37cDIB3en/EPwb4z+I/w/wBQ0zxPrOnXOuaTrFzZaFNaTWcF9DbSQRzzXkNxAssUts7qI1Zoyd7Haw5HP6V+2j+z3retW2i6brt1KbjU20Rro6VfrYW+qCZoBZ3F60At4Z3dcIjyAsGRgNroW8h+E3hb476r8Svgj46+LOm3cl/pHh3xdZ6ld3CQpNELu9szpi3qwMYlupbWEGYRZQSBsYGK5PTvhB8SIf2Rx4Jfw5cp4gPxDTVzZ7U877EPF63/AJ/3sY+yDzOudvHXigD73+KM3iS3+Gniy48GxGfX4tJvm0+NfvNdiB/JUe5fGPevlT9n74Wx2PjrwzqmkXN9c+Efhj4Ph8MaNLeqkfn3V8beS+MaiGJmSCO0t08wlt0jSJ1jOfsPxfuHhXVnSK8uGS1mdYtOcx3khRSwS3cFcSNjCnI5PUV8r/DLxJ4y074yaf8AD74naReaJqOq6Pc63pRt/E11rdrNDayQwXdveRT29v5U0JuYiu3zI3ydrArggH2bXzr8dP8Akbvgz/2Oa/8Apo1KvoqvnX46f8jd8Gf+xzX/ANNGpUAfRI6ClpB0FLQAUUUUAeeePPh1p3jqbw/qUl5PpmreFtSj1PTr22K+ZFIqNDNGyuGR4biCSSGVGH3X3KVkVHX0EKoJIHJp1FABRgUUUAIQD+Fcz4q8LWfi3T7fS9QlkjtYru1u5EjIAm+yyrOsb5B+RnVdwHUDHQmunooATGBisnVtFstaW2jvt7R2txFchAxVXkgO6PeB95VfDgH+JQe1a9FAGPquh2OstYm+BcafcpdxgHgyxhghYdwC24f7QB7VrgYGKWigAwKKKKAIGgX968ICSyjltozkDAJ6Zx71xvw98BaZ8O9AbRdPuJ76e5ubi+vby6YPcXl7dyGWeeQgAAsxwqqAiIFRAqKoHc0UAFFFFABRRRQAUUUUAFFFFABRRRQAmKWiigAooooAKKKKACiiigAooooAK57xZB4luvDepW/g68trDXJIHFlPeQNc28c+PkaWJJImdN2MgOpx3roaKAPnT4deK7n41z6Z4pv9Nn0mz8Mh4rqynRkdPEMe6C7i+YASJZEOiSLlJHfchOwGud+BWk6A3jbW/EfhvQrzwpYnT7bT4NOuNOurSSeK2nlIvbuadQktxKWO1ctKsfzSsWfbH9Vqqr90Y7/nSgYoAWiiigAooooAKQ9KWkNAHi/wE/5EKb/sN+If/TvdV69f2drqFjcWF8gltrmN4pUPAZHBVgcdiDXjfwn0H4i+EGv/AA34gsNM/sUX2q3lte217LJcyfbr6S5jWS3eBVTCSkMRK3I4GDx7Pd2ttfWs1leRLPb3CNHJG43K6OMMrA9QQcEUAfMn7MGlaF4a0P4gaJoFvBYadZeM9bEUMICxxpvRifzJJJ6nNdB4Y1DxN/whHij4r+F9HTXde8TSS32m2U1x9lSW0gTydPiMxRzGskSCU4RiHlbg1qSfAb4feHfDmvaX8KfDmkeC7/xDbLZXN3p1jFayNbFjvBMKqWZUeQx54V2z617LZ2dtp9pDYWcawwW6LHGi8KiINqqB6ADFAHzjP4/0r47eEPCGjeE2kWw8eWovtRDApLa6TCQLuCUEZSaSYizZDhhmUjmM15D+0P8ADHwB43u/Evw28C6Xa3fxO8Ypp89xrEsitJ4WtbcCO01ESswktlgMTvZW1uVaW4LsAqtPMn1J8PfhB4O+Geq+KtX8MQyRSeLdRk1K4R23RQvKN0kduoAEcTTGSdlHWWWRzy1YXiz4Bfs7+NtbvvEHjb4f+Gtc1bUHja7ur/TbS4uJnhTyozK8iFmKJ8iliSq8DjigD2uJSsaqWLkADJ6n3/GvE/ip/wAj98I/+xjuv/TLqNe2x+WI18nGzA246Y7YrxHxL4d+Inib4m+E7+Wx0218NeFdSm1AXIvJZL2cSafcWgT7P5Coh33BJPmt8q9MngA9wX7o+lLTV6AU6gAooooA/9P9/KKKKACiiigAooooAKQ8ilooA+dfBHgv4x+CvFutRW9xoF14T1rX73VWLC7TUY4L072jAGYWdX6Hgbe2Rk/RVFFACYFLRRQAUmBS0UAJgUYHpS0UAZ2ryajDpl3No8CXN9HDI1vDLIYo5JQpKI8gViis2AWCnA5welfNvwV8MfFHTPFN74p+Kfhqw/4SLW7VVvtag1b7WY1ibfFYWlr9li8mzjLuV+fczfPLvkYsPqOigAr5v8TeBfjB4y+IXhPU9ZuNBtvDXhPXn1aIQfa2v5ohaXNrHG27ESv/AKRuY8jjA65r6QooAQcDFLRRQAUUUUAFFeLfEbxzrdh438E/DLwnJDDqviia5u7qeUbza6Rpao93LHGeGkkklgt03cJ5pk+bZsbzLx1+0i2g+IvEEOiCyl0rwZrOhaDqImLtc3eo63cW0bW9sqEbPs8N3DIZCrq7sY8IEdwAfW1FZuoaxpWkRLPq15DZxu2xWmkWNS3oCxAJwOlZ1t4v8KXlxHa2ms2U00rBURLmJmZj0AAbJPsKAOjorkfGfj3wT8O9KXXPHmvWPh7T2kES3F/cR20RkYEhQ0hALYBOB2BNZfgj4sfDT4lteJ8PfFOmeJG0/Z9oGn3cdz5PmFgu/wAsnbkqwGfQ+lAHoVFeAXHjv4majbahf+A9Et9aS+13+ydPe4l+z2tpaWiFbu/upF3SSJ58cscSRIS7GIZRGeRNL4K/FLV/iND4r0nxPpcOl6/4I1ubQtRW0nNzZzSpBDdRzW8jKj7XhuIyyuoZH3J8wAZgD22iuW8X+MvDngbR5db8S38Njbxq5XzpAhkZFL7EB5ZiAeFBOOcUngnxHD4r8L6drsdxb3ElzChmNq++JJwMSxgnkFHypDYYEYIBoA6qiuYbxt4ORij65YKykgg3UIII4IPzVt2Oo2GqW63em3MV1AxIEkTrIhIOCAykjg9aALlFeGS/tM/s8xas2gv8SvDo1FbgWZt/7UtzL9oMnlCLYHJ3lwU29d3HWrXhfxn4jg+MHif4X+KCk8K2dtrmi3SRiIvYzu1vcWsuGO+S1nQN5gVQY5owQWVmYA9pooooAKKKKACiiigAooooAKKKKACikzXzlr/xg1jTvHEz2d14fHgjRtQtdC1N57/bqZ1a+KeXHEmdkbReZEBA4Mtz5oaPYEUTgH0dRRRQAUUUUAFFFFABRRRQBy+qeNPDGiLqMmsahFYx6SsD3LzHYkYuSVi+Y8Euw2qBkk4HUijSPGnhfX57ODRdQivf7QtXvLd4jvjmgjcRuyOPlOx2UMM5UkZAzXhXxC0HXtX8U6nqHh+w/tafQtR8N6o9kHSNrmG1eYyLGZMJ5iKfMiDFQ0iKpZM7hW8FeHdZ0u98M2V7Y/2Zrd9reveIZYNyyNZ6ZezTO0EpjJjLyNPCGVSV8wMys3l5IB9TVi3fiHRrC9fT726S3ljtnu3Mh2IsEbBGdnPygAnnJ9+lc5faP4/lu55NP8R2ttbuxMUb6b5rIvYF/tC7seuBn0rIn+0W/wAQYmniN/NHoMpZI1VTM63EeQquwUbj0BbA7nvQB0umePfB+uWGh6tomqwajp3iUkadd2zia2usI0n7uVMoQURipzhscZrrxyM18q+HdG8QaP8AB7w14K1nSpNI8SHVY47ONpIpTHKt21356tAzKUjgDlhxkAoRggn6pFAC0UUUAFfN0ng/w94q/aI8QXfiC2a9k0fQ9Amsw88wjgkN3qDF0iVxGGYou5tuW2qCSAAPpGvFNC/5L94y/wCxf0D/ANKdSoA9rHFVb9r1LG4bTkjluxG5hSVikbSY+QOyqxVScZIUkDkA9KtVXvPtf2SY2AQ3OxvKEmQnmY+Xdt525xnHOKAPHvgl488XeO9G8RTeN7KxsNU0LXtQ0lotOklmt9lmyhGEkyRuzMDliUXngDHJt2PjyCHUvGnizxJq1vpXg7w0y2QnuXjgt0ks0Ml9cvM+AEV3EJyQFMLnvXm/g3SfiL8F/DHj3xB4zl0rUxqeoXmtWsWmpcJIb2/dVjtSJiQwL7EVwQWJ5UCvZfC/gLTNN+H9n4I12GLVIjblb7zkDpczz5e5kZTwfNkd2P1oAZ8RPFtzoPhhZfDvl3Gta1JHY6QhO5JLu5B8tzjrHEgaaTH/ACzRjXyN8VtO8W/BTwrqnjbTPCvhjUfCXgeO3Nxb6pZG61vxGJRGbmaC7SQJBcvLIyxRyQzNcTfKTGHVh6h8Bfhn8QPC122kfEP/AEjTPh41xovhS4abzZL3TJQkkd5ONzETRQFLLLnefKlk4WbFaXjj4efGDxF8Sh4pjuvD+qeH9J8iTRdM1GO8UWl2gPm3cwiYxzzkkCFioECj5BuZmoA+krOGC3tIYLWEW8MaKqRqoQIoGAoUcAAcYHSnXVtDeW0tpcLvimRkdckZVhgjjnkGnoTsXzCN2BnHTPfFSUAfPvwo8M6L4O+Ivj/w94cga006IaRKkHmyyIjvbyBiokdtu7aMhcAkZPOSfoKvHPB//JXviH/1y0X/ANES17HQAUUUUAf/1P38ooooAKKKKACiiigAooooAKKKKACiiigAooooAKKKKACiiigAooooAKKKKACiiigD5g+Jluvhv9or4WfEfUn8vSZ7LW/C0kpU+XDeas1ndWhkfoiytYtCpbAMrxoDucA49l+zvdXni+CTxDFYSaFYeKrzxaZgiy3moXcjtJYwy74v3SWcjB9yuWZoogNq7lP1dd2VnqFu1rfQR3ELkFkkUOhKkMMggjggEehGas0Acf4v8M3PiWygtLW7htGik8wtNaRXgI2kYCS8Keeo57Vx+kfDLU9N1S01CXVrOVLaVZCiaRaQswXsJE+ZD7jkV7BRQB5j8S/B1/4tttLt9KhtBL9ttkvLi4H7xNL85JryKEhWy1wIliIyowSxJ2gHiIJfGPwy+EWoQ60bSXxNcajqMGnfZnZ45ptV1Kb+zt25FIbbNGZgAQpD4JUbq+hahlt4J9hnjWTy2DruAO1h0YZ6EetAHhXjrwl8UdB+FWl+CfgRJp8Wp2zWlnLdancSW5jsUwLqaF44LjN26g+WzoUV23sG27W5bwJa/Eb4V+BfD3hyHwVoGiM+vw2ktpZa3e6m0ljeEvc3purixglnvjKzyy+cP3ih5HmLnbX1JRjNAHyv8XPAniCb4hW/jbT4odZGs6bb+GoLWaX7O9iJbs3V7JA4if5byBFS45yBBGVDcivU/hX4C1HwVbeItS168jvNa8W6vcazffZw620TyRxW8MMKuSdsVvBEjPhfNkDylE37F9UwDj2paAPE5fhRq0kskg1mxUOzNg6JZkjcScZPXr179a9E8PeHDpGhf2JqEsV6reYHMdtHbIyyE5HlR/KODgnv3rqKKAPnTwd8OvHWj+MdP8R6nHpdvaG71w3VtbFisNrJ5FvpKwfu0GY7W2USrgBWkcKWAy2VpsFp4x/az1DxJphaW3+H/hd9DuZkZTF9v1u6hvZLZsZPmwQWkEjDjC3CZzkY+oKrW1lZ2QkFnBHAJXaV/LULukc5ZjjqzHkk8nvQBZooooAKKKKACiiigAooooAKw/EPh+y8TaY+k6hJcxQuyMWtbma0lyhyMSwOjgeoDYI4ORW5RQB5jpvwo8OaRqFvqlpd6xJNauJEWbWtQmiLAHAeOWdkcezAj2rxmy+CfjRvjVpPx21pdKutUuXks9Q04PL9msLBIpUtbqycxnzdSTcI5Z3SPfBI8SFFjUP9aUUAFFFFABRRRQAUUUUAFFFFAHB3fw28KXt9c6lNHdi4u33ytHqN5GGP+6kwAAycADA7AVUb4WeC43Ny0d6rhdpf+074NsBzgt5+doPOM4zzXo9YPifw1onjDw/f+F/Elol/peqQvb3MEgyskcgwyn8OnoaAPIvG3hPQtIt7LSvD4u31zWZxb2Yl1PUHjjAG+a4kUXAJjhjBYjI3NtTILg1w3w7tfDfizxRNo+prrtpdJp0V/BFqIubGS4sriRkjmjeO7d1AdDvglCSoSpeNdy59E+EXgXxt4fthefEvUotZ1rTIDpFjdIxZn022kIiuJ/kjAu7sKkl0EUIGVVXIXJs/DTwJ4y8Oa1q/iPx1qGna3rGroizX1razW0pSJ3MUCrLNMsdvErkJGv8AGXkYs7saAOhb4VeDXdJHivWePOxjqd+Su4YO0+fkZHBx1Fd3YWNvptnDYWu7yoECJvd5G2r0y7lmY+5JJ7mrdFABRRRQAV4poX/JfvGX/Yv6B/6U6lXtdeKaF/yX7xl/2L+gf+lOpUAe10UV5rqfhLxzeajc3Vh45u7C2lctHbpY2UixL2UNJEXIHqxJoAr/ABk+Kei/Br4fax8RPEOm6hqunaJbT3c8Wm2/2mYR20TzMxBKoigIfndlUHGSK9AtNTt7jSodXc+RBLCs5LkDYjLvO49OB1r5v/aL8NeOL/8AZo8e+AtLhv8Axx4i8TaNqel2nkw2sMhmvreRIvMAaGJI0YgFuvsa2df1S/8AEnw28P8Agl9NvNEv/FskWkTW12qJcRWsaFr5z5TuoBt45AjB/vOvc4oA9b8C+JLjxf4V07xPPafYV1RDcQxEkt9mkYmBmyAQzxbHZcfKTt5xmuc+JniXUdNh03wz4fufsms+IJjGk4UObSzgHm3l3tYEHyovlTII814wQQcVxX7Qdp470TwbZeP/AIY3V0L/AMC3MOqSaNbMqQatp8Py3tm6Fcs5tWka3G5QJ1jJO3NXfhLq1r8RUuPjtbCS403xHaQpoAZGjkGjAebHL5cm0q95ITKQQpKCFWAK0AeefDz4sR+IfGmgaHrVr4x8OR+JoJb7QZtbFkltq0Nt87psg3zQSmIiYQXKxSmMk7QySKn15Xxx8M7jxp45+K1v8Qfit4K1/RtQt47q20S0nS0/szRLWUfvJJpIbqRp766VAHlCbIkIhiA/fSzfY9AHjng//kr3xD/65aL/AOiJa9jrxzwf/wAle+If/XLRf/REtex0AFFFFAH/1f38ooooAKKKKACiiigAooooAKKKKACiiigAooooAKKKKACiiigAooooAKKKKACiiigAorE1/wASaH4Xs47/AF+9jsoJp4bWNpDzJPcuI4okUZLO7sAqgEk06/8AEWg6XfWWmalqFva3mosUtoZZUSSZh1EascsRx09QO9AGzRR1ooAKKKKACisJ/E/h+KTU45dQhjOjbPtpdwi2/mIJF8xmwq5QhuT0IPcVp2V7Z6jaxX1hOlzbzDdHJEwdHU9CrKSCPcUAWqKQnFRW9zb3cEdzayLNDKoZHQhlZT0II4INAE1FFFABRRWbqmsaZosEdzqtylrFLNDboznG6W4cRxIPVndgAPU0AaVFZUWuaNcanNosF9BJqFuoaS2WVGmRT0LRg7gD2JFVvDfijw/4v0saz4Zv4tRsvNntzJE2Qs1tI0M0bDqrxSIyOjAMrAggEUAb1FFFABRRRQAUUUUAFFFFABRWNrniLQfDFkNS8SalbaVZtLDAJ7uZIIjNcSLFDHvkKjfJIyoi5yzEAcmtmgAooooAKKKKACiiigAoopD0NAC0V8z6v478e3Wu2ng3w5fWtne6jd+IZhd3dqblIrbSGiSOERo8WS8k6ZYtnYr4+Yhh0Hw3+Juo+KLfw54k1oC207xr4etdatIuCLWZI0a7h3AAsu2WN0J54f2FAHvFFeW6R8V/CmreK73w3b6naSeVHZmApIS8sl0ZQVxjHGwYx681i6P44v8AW9R0u606+ebTr/xFqmn4e3WH9zp1vcxNGDli6i5t2ZZPlLDjGOoB7ZRXzvpHjL4h6loXxAluprWbVPBmuNBAtnAYY7q0t7a1vWgKyySnfJHK8e/eBuwwAHFe96dqFrq2n22qWL+bbXkSTRP03JIoZTz6gigC7RRRQAV5prHws8P6t40Xx99s1Kx1Uw2ttL9j1C4t4J4bOWSWJJYUYRuA0r5yPmBwcjGPS6Q9KAPI/h38RfEfj26vblvC7aXodvdajaQ3kt7DLJNJp929oT5EYJRZDGzrlshcbgCcD1t3WNS7kKqgkk8AAdzXjHwE/wCRCm/7DfiH/wBO91Xruow2Fxp9zb6okcllLE6zrMAYmiZSHDhuCpXOc8Y60AQaZrOj63HNLo97Bfx28rQSNBIsqpKmNyMVJAZcjIPI71h58Laj41MeBNr+iWWc4c+Rbag5H+4DK1t/vYXsDz87fsq6l4CtdG+Iuj+C7rTI9O03xjrhW306SAQ28W9ckRwnai53Z4HOe9dt4Xh8aal8PPEXjzwZ9kh8V+Mnm1HTjqSSPbRxbBFpyypGyOVECRs6Bl+d3ORk0Ae56pqFhpWm3eqarMlvZWcTzTyScIkUalnZj6BQSa8CtvjK0N14f0LU7jw34a1jxNF52laLqWs/Z9TmgPMYFt5OS+zBZE3BTlcnGa5zQPiLaftE+H/CWjWMDWsGoR/b/E9o5BeyOnzGGXTJtpOJHvo2icchooZR/EDXA/tB2vwp8bTeL/gdol3pFl4p8WGwufEWqXd1Aj6NCoRbW6zK/mC8CQ7rGJAAjjzmKDlwD7ltftBtomvERLjYvmCMlkD4+YKxAJGehIB9q8k8QeP9f0rxzo/gnVvDckOk+KLubTrTVIL6PcJEsprss0OFkQbYXUEFiG2nocj1+EKIkCsXAAwSck8dc14l8VP+R++Ef/Yx3X/pl1GgDrfAnw00HwDcarfaXdahfXetvBJcz6lfT38rfZ4xFGqtOzFFCj7q4BJLEbiSfRKRfuj6UtABRRRQB//W/fyiiigAooooAKKKKACiiigAooooAKKKKACiiigAooooAKKKKACiiigAooooAKKKKAPl7x9OdV/ao+FHhi/VZLCx0XxNrsKsM41G2axsYpRn+JIL24Uf75r5t8Vx+OPGfijWxaS2smpeOviFpmjafvSQ3dhoXhC6hubsLhGRY91tczb22/vLlF3BjGB9v/EH4f33iTXvCfjPw7epYa74SvXljMq7obqyu08m8tJcDcFkTbIjLys0cbEMoZW7Oy8KeG9P1q68R2WmW8GqXw2zXKRKJpBxkFxzztXPrgZzgUAc/wCP/FF34V022vLS6srVpptha+WdkIKk4UQKzbuO/GPevPtA+KWr6prlhps2qaJKl1MkZSCO+ErBj0QugXd6bjj1r6BIBpNo9/zNAHjPxs8RePPDnh+2ufAl7pmm3Vzc29os2pW8t4HubueO3toI7eKWAnzHky0hk+RVPytklcj4Q+KvGt/4P1bxx8RvE2k6vpkEt+kb6dpsmnrBHpt1PBM0pku7neSIgSBt2kEc9vbNR0bSdXa0fVLSK7awnW6tzKgfyp0BVZEz0cBiARyMmuF8R/DbTL/wnJ4K8OW9ro2lahfC5v4oYQiTRT3X2q+UKmBvumLiRj13ux5NAHjmoaJ8OoPhdp/jz45Qr5d1rEXiOS0uCzrNqV1mPT7RrVci6liV4Y4ISr5mjjdR5ioRpfs3eC7z4eeH/Ed9rlvb+GIfGfiK51bT/D0c0bR6NHdRRItkDGxh86RonuZkgzGs0sioZAPNf3Pxb4F8GePdOh0nxvoVjr9nbzLcRw39vHcxpMoKrIqyAgMAxAI5AJFefQ/s9/CLSdJ0vQfCfhDRfD2m6XrVtr8cFjptvAq39qNqTxhFURzFQEMqjeY90ecNwAcz8VfiR4pi8Tal8N/BkUVpc22hpqVzf3EbyEPqFw1lY29rF8iyPJKkhlcviECMbHMoK9L8DPFd14j0HW9IaOGax8I6tPoNnf2oC2+oRWEcSPLGgZ9himMltINxHmwuRgcDrvG3w58OePJNLfXbSGc6dcpMS8YZ3jX5jCHyCEZwjMOVbaAQeo7Ow0+y0uzh07TYI7W1t1CRxRII40ReAqqoAUDsBQB88T/F7WoriWJdX0FQjuoDRahuG1iOcR4zxzjjPSvX/CHiC+8QeGl1dpLW9uGMoU2vmxwMUJCrmZd46YJI9xmuy2j3/M0oGKAPi/RfGvx7174hx+GY/Gvha3tZr2/jWOPQ7qZ3j0r7Mb2KKU6km9o5LjyPMMYwyM5j/gr3PXP+Ko+KejeHk+ey8KwHWbrrj7Vc77axQ9jhRcSEdQVQ9xXZ6f4G8HaQ9pLpWi2dpJYTXk9u0UCIYptRkaW7kQgDDzuzPKersSWyTVPwh4VudBudd1PU50utQ13UJbuR0BCpEqrDbRAMSf3cMaA9i+5gBmgD5Rb4b+A/EPxZ8Ij4S6faWr+AfEF7qWueJNwe5luLqOYXOlRz7vMuZZ5JVNyHLRQpGqf61UEfp3wvc6X+0H8YvDNkpXT5k8P64ygsUW+1C3ntrjaCSF3JZQuQoGWJY8sTXc2nwA+B+n+JYPGdh4A0G3161uHuodQj023W7juJXaR5UmCb1dndmZgcksSeSasfDP4fah4RvPFPibxHepqPiHxhqbX13JCHWCGGKNbeztYVcsQkNvGoY8b5Wkk2pv2gA9WooooAKKKKACiiigAoopD04oA+Of2jfF+leFviD4Tg8deGrTxV4dv9J1v+zLOSNZLqfxGiwx21lbLI4iaS9tZrmNdyfKFc71Uvn6Q+G2leI9E8BaBpPi5rZtZtLKGO6Fn5n2ZJVUZjiMzvIyR/cVnYswG44JxWBdfDu/134i2fjLxbqNvqOm+H2ebQtPSzEZs7qaHyJbmadpJDNMI2kSIosSokjhg7FWX1YDAwKACiiigAooooAKKKKACmuSFJA3HHSnUUAfMuo+CrrxDYz2fiXwVqU7HUb2+gmtNTgs54lvCQ6CaC5jkAeMlJFztYHBzxjpNJtvEul+I21mLwXdR2tnYQaZpttFcWKpaWyHdIFHncGRlQYHG2NOhzXu1c/wCKr7XtM8OajqHhfTY9Y1a3gd7Wzln+ypcSqMrG02yTZuPG7Y30oA86uvEeq+HbrVfGGpeF720ilt4RcyzXunrDFFa+YQ3+u4/1jbs57YriNI1m2mufDekeDPDFxHBoFzc3gtluIMss8M8b4aWQZJkn3klvXrW7ovi/SfjlJoN3oBdvDdtBbaverKhjf7Y3z2tlNGwBSS3cGaeNgGR0jVh8xFct8C9atNd8Ya1e+EvG03izwvHYW0Aku9SjvpbzUYZpVub6CNP9RA3EWF2xO6Hyo0Vd0gBcn8FX9rpev6d4c8HarYnxZcxy6tJLqsVwZ0JRLgqJrpwskkC+TuAGF2joqivoXRLm8u9PSS9019JkBKi3keJyqrwvMLMmCOgB4rXooAKKKKACkPSlpD0oA8X+An/IhTf9hvxD/wCne6r2SaGG5hkt7hFlilUo6MAysrDBBB4II6ivG/gJ/wAiFN/2G/EP/p3uq9oPQ0Aec+IPhr4fvvDWq+H/AA5aWvh99YgFpPcWltHHIbZmAlQGMKeYyyqc/KTuxxiu+tY7aCFbS1CpHbgRhFxhAANq4HTAxXg3w68V+GNSu/ib8SIo7i0s7PV7nT7m4m1CW7t5k0GFYJpYIHYxWirIssbpEBudC75ZjilY+NtK+Dnwyh+IXxCt7qFvEd+l/qssMBlFk2pyoiPdMvEcFpE0UTyMcKkeTwDQB6XpPhD4ffC4+L/GWn2sOjDxBdPret3TO2ySaK3SJ5n3EhFEUK5CgLnc2NzMTzVxe/D3xJcJqWoeCri/lu9jedcaE7MwYAKWaSPcOMZ3cgdcYxTvHR/4TbxZpXwzgO7T4fL1fWiDwbWGT/RbY4P/AC8zpuYchooZFI+cV4Drnhm/8P8Axt8K2HgnxbrviHx5daxJqniNZL6V9MtvDVx5oMV1ZbjaWyAJHDYiONZ5ZI2ky6i6egD7kUBVCqMAdAOleIfFT/kfvhH/ANjHdf8Apl1Gvbx0rxD4qf8AI/fCP/sY7r/0y6jQB7ev3R9KWkX7o+lLQAUUUUAf/9f9/KKKKACiiigAooooAKKKKACiiigAooooAKKKKACiiigAooooAKKKKACiiigAooooAKKKKACiiigAooooAKKKKACiiigAooooAKKKKACiiigAooooAKKKKACiiigAooooAKKKKACiiigAooooAKKKKACiijOOtABR1rhb74l+BNKsbLUtX1u10+31KSSK3a5kEPmNE2x8B8HCsMEngZGTyK6XTda07Vpr63sZd8umzm2uFKlWjlCK+0ggdUdWBHBBBFAEOh+GvD3hmC5tfDum2+mw3t1cXs6W8SxLLdXchlnmcKBl5XYs7Hlicmrtrpem2MjS2drFA7jDNHGqEgdiQBmr1c1P4u8PW+pto0t2PtqS28DRhWJWS6VmiBwMfMEYg57c0AdLRXF/8LE8EPba7d2utWt5H4Yfy9U+zSCdrJ9gkKzrHuKMEYOVOCFOTxXZghgCpyD6UALRRRQAUhpa+fPif4Z0Xxl8U/A3h7xJA13pz2GuTNB50sSNJH9kVGYROu4qHYDOcZOMHmgCT4I3fiHSLPUPBuv+FtU0qS31TXLlby4W3NpNFcalNNCY3ind/wB5HIrqGRSBkNtbivf6gt7eG0gjtoF2xwqEUdcKowBzz0pl814llcNp0aS3YjcwpK5jjaTB2h3VWKqTjJCkgcgHpQB4ne/CWw0TwZY/DTwVaNDoep6zNe6s8s7SuYLu6l1K9LNISzm5nYxFf4VkOMKoFeseJfDWi+MPDmp+E/Elol/pWs201pd28g3JLBcIUkRgeoKkivNPgn488W+O9G8RT+NrGx0/VNC17UNJaLTpZZ7fZZsoRhJMkbuzA5JKLzwBjmrdj48hh1Pxr4r8R6rb6V4O8NMlmLi5eOC3SS0QyX1zJM5ACKzrCckBTE570AVvgf8ACzUvhT4LTQ/EniGfxdrkjk3WrXUaRz3EcP7q1RljAUeTbrHHwPmYM5+Z2NZOhfArwP4W8T3nifSNc1y2u7/U5NWu4W128a3nupcBvNgeUoybVVRERsVQFUAAV3PxE8W3OgeGFl8O+Xc61rUkdjpCE7kkvLkHy3PrHEgaaTH/ACzRjXyL8VtN8VfBXwtqnjbTfCfhjUfCXgeO3NzDqlkbnW/EfmiM3M8F2jhILl5ZGWKOSGVrib5SYg6tQB9+KysoZTkEZBHevn/xrN4h8SfFbwFp+n+GNTFh4b1m4vLrU5Ft1svJfSruBSh84ysTLOi48vrkngZr3myht7e0gt7SEW8EaKqRKoRUUDAUKOAAOMDpWfr/AIf0nxPpFzoWuW4ubG7ULLGWZNwBBHKFWHI7EUAbC/dApa8L+AOnWuj+GNc0ew8wWlj4j16GFJJZJika30m1A0rO21eirnCjCqAoAHulABRRRQB//9D9/KKKKACiiigAooooAKKKKACiiigAooooAKKKKACiiigAooooAKKKKACiiigAooooA8V+I/jrW7Dxv4J+GPhOSGHVvFM9zd3M8w3m10jS1R7uWOPo8kkksFum7hPNMhDbNjea+Ov2kW0DxDr8Ghiyl0rwZrOhaFqXnF2ubrUdbuLaM29sqEbPs8N3DIZCrq7sY8Jsdxq/Eu3Xw3+0V8LPiPqT+XpM9lrfheSUqfLhvNWazurQyP0RZWsXhUtgGV40B3OoOLZfs8XN54vgk8QxWEmh2Hiu88WtMEWW81C7kdpLGGXfHmJLORg+5XLM0MWMLuUgH1Pf6vpekxLNqt5DZo7bFaaRY1LdcAsQCcDpWfb+LvC13PHa2usWc00rBURLiJmZj0AAYkn2FUfGHhi58TWUFpa3UFq0UvmFp7OK8UjaRgJLwp56jntXHaR8MdT03VbTUZdUsZUtpVkKJo9rCzBeyyL8yH/aHIoA7Txl498FfDzShrnjvXrHw9p7OIhcX9xHbRGRgSFDSEAtgE4HYE1leCfix8NPiU14nw+8U6Z4kbTwhuBp13Fc+T5hITf5ZO3cVOM9cH0ql8TPB194uttLt9LgtPN+22yXlxcD95HpfnJNeRQ/K2WuBEsRGQMEkn5QDxFtL4w+Gfwi1GHWPskvia41DUYdO+zOzxzTarqU39nbtyKwbbNGZgAQhD4JUbqAJ7jx58TNRt9QvvAeiW+tJe66dJ09riX7Na2lpaIVvL+6kG6R08+OWOJIkJdvKGVRnkTS+CvxT1f4jw+K9J8T6XDpXiDwRrc2haitpObmzllSCG6jmt5GVH2PDcRlldAyPuQ5ADNQ8deE/ijoHwq0vwT8CH0+PU7ZrSzlutTuJLdo7FOLqaFkguAbt1B8suhQO29g23a3K+BbX4j/AAq8DeHfDkPgnQNFMniCG0mtLPXL3U3ksbzc9zfG6uLGCW4vzMWlmEw/eKHlecudpAPffF/jLw54H0ebW/Et/DYW8SuVM0gQyMiF9iA8sxAPCgnHOKTwV4ji8V+F9O12O4t7iS5hQzG1ffEk4GJYwTyCj5Ug/MCMEA8V4B8XfAuvzfEK38a6fDFrI1jTbfw1b200ogexEt2bm9kgfyn+W8gRUuOcgQR4DcivVPhV4D1LwXbeItS1+8ju9a8W6vcaze/Zw620Lyxx28MMCuSdsVvBEjPhfNkDy7E37FAOvbxp4QRij63Yqykgg3UWQRwR9+tmy1Gx1O2F3ptxHdwtkB4nV1JXggMpI4PvXj03wn1WSaSUavp4DszAHQ7RiNxJ5Pfr179a9H8O6FeaBoY0s3MM06mQiSO2S2jy5JH7qIheO+Dk/WgDwHwp8cPGl18ZbL4UeLtJ0eO41HT9Q1KaHSdRe+utFitJY0t11L9yka/akkO1gy4kR0QSqpkHbw/tK/s+3Orx6DbfEjw9NqM1ylnHbpqdu0r3EjiNIlUOSXZ2ChRySQB1ryqz+FfxM8V/F3w94z8ZaDoHhm00i31OHWrjSLqS4k8SJeRfZ4reaF7aLFsBidhM8jpIqxoWXc79t4G+H3xA0PxrpPiPWhpZs5bbXzqSQb/MiuLy8tG01Lf5ArRw2cBhkLbTlVKjBIAB6T4s8S6naeJ/DPhbQtpudTmmubsld5TT7JMylRn7zyvDEuem8kdK8Z0r4zfFKy8b+B/DPxM8J2nh60+JRv4NOS1vTc6jptza28l4kV9GYvJYtbxsXeF3SKYCP94pEh9K8Ct/wk3izxT49UCW3Ev9i6cc/KYNOZhcOD233bSISM5ESmvIPhb4N+PEHxNPj/4w+HPDV3qV5Fc2ranY63eXDaZYNI0kNnp9jNp8caq22P7TMZlkncbnGyOKNAD1n4M+P9W8X2fiPw74q8k+JfA+rz6JqTQKyRTskcdzbXKKwG37RaTwysgJCOzIGYLk+zV8vfs72jar4o+LnxPtju0nxp4p8zTXwwE9rpWnWmlNOu4DKST2spjYZV4wrqSrA19Q0AFFFFABRRRQAUUVgeI/Dtl4o046XqEt1DCXV91pdTWcuUOR+9t3R8eozg96AN7NfP2vfFTxLp3i2fUrJtD/AOFf6Jdw6VqtzPe7L8ahcuifuxkRRiBnjQwyZlnMv7vZsVZ+0074X+GtBv4Nahv9YZ7NjIBca1qFxCcKQd8Us7I4wTwwI79QK+bfh14D0X4lfGvxR8TNB1C31b4avqdhr1j9nLNBf+JobFbGa5EgPlz21tBFAYtuU+1b3z5kKkAH3BRRRQAUUUUAFFFFABTW6fiP506oLmBLq3ktpc7JVKttZkbDDBwykMD6EEEdjQB8R+JvB3i/V/DJvfDnhmPxQmu+GvEnhvyZJYokhuNRuwYmuPN/5dHCETsgd1CriJ88e/8AgvT7mDxhrqadLmDT9O07TbqYgstxqUEbMZMccxxPGGOfmyFONlb0fwr8HQxiKFL6NF6KuqX6gZ5PAn7nk+9IPhd4Ot1dkW+jBJdtuqX65Y9WP7/knuTye9AFiz0f4hxXMEl74ks54EdTIiaYY2dQfmAb7S20kdDg49DXn02neKLbUzqHiaSQ/wBoeMI5LGFpBIkNjFb+TEEC8KHKNKR1Bc55qbxt4V0TSLey0vw/9sfXNZnFvZiXU9QeOPA3zXEii5BMcMYLEZG5tqZBcGuG+Htv4b8Y+JJND1X+3raeGxh1S3g1IXdk09rO7RxXMTJduyFWUhopBHMm5d6LuGQDqtFhuvDXiX4neI/FugS2Hh3UBBcpM7W8kc8NrZrBMPKjkZ9zlTtDLlgRnB+WvVfh3p+r6T4H0PTddJ+3W1nCkisdzIVXhGb+NkXCF/4iC3es2T4VeDpkMU8d9LG2Mq+qX7KcHIyDPg8jNdZoegaf4et3tdO84xyOXPn3E1y24gD707uwHHQHHtQBtUUUUAFeNeKP+S2eA/8AsF6//wChWNey1414o/5LZ4D/AOwXr/8A6FY0Aey1XvPtf2Sb7AENzsbyhLkR+Zj5d23nbnGcc4qxRQB8s+DtK+IvwX8MePfEPjN9K1JdTv7zWrWLTRcLIb6/dVjtSJuGBfYiuCCxblRXsnhjwDpenfD6z8Ea/DFqsRt2W+EyB0up58vcyMpGD5sjux+td5OQsLOU8zaN20YySORjPGfSvPLjx7dab8M5PH/iHQ7nRruKya5fSrh4nukmIxHbFoHkiMruVQbHYbm4JoA8b+Avw0+IPhe6bR/iH/pGmfDxrjRvCtw83myXumShJI7ycbmYTRQFLLLncTFLJwswFafjn4e/GDxF8SV8Tx3Hh/VfD2keRLoum6il4gtLxAfMu5hEWjnmyQIWKgQAZQb2LV9Hae93JZQPfxrDdNGhljRt6pIVG5Q2BkA5AOOeteJ/Fbx/Lot+dJs7y6srLRbGXW9cnsIPtV5HZR7kt7eCIJIxnu5g2wKjEpFIBhipoA91j3bFD43Y5x0z3xT6+afhL4/uPEXjK/8ACXia08T+G/EWn2MWoDS9fbT5Ensblii3EUunmWJjHIpjdPNDo33l2shP0tQB4z8Ff+QX4n/7GfX/AP0ukr2avGfgr/yC/E//AGM+v/8ApdJXs1ABRRRQB//R/fyiiigAooooAKKKKACiiigAooooAKKKKACiiigAooooAKKKKACiiigAooooAKKKKAKt5ZWeoW7Wl9AlxC5BZJFDoSpDDIPHBAI9CM1aoooAKKKKACoZreC42efGsnlsHXcoO1h0YZ6EZ61NRQAUUUUAIQDjPaloooAKKKKACkPNLRQBBb21vaRCC1iWGNc4VFCqMnJwBxyTmpJI45o2ilUOjghgRkEHggin0UAQWtrbWVtFZ2cSQQQKEjjjUIiIowFVRgAAcADpU9FFABRRVK/1C00y2+13r+XFvjjzgn5pXEaDAyeWYCgC7RWJbeJNBvbtLGzv4Z5nMihY3D/NDguuRkBlDA4POOelbZOBk0AFFV4bq2uCRBKkhXrtYNj8qsUAHWmoiooVBgDoBxTqKACiiigAooooAKKKKACiiigArB8T+GtF8Y+H9Q8L+I7Rb7S9Uhe3uYH+7JHIMMDj26eh5reooA8P+EfgbxvoFqLz4l6jFrGtaZAdIsbpGLtJpttIRHczfJGBdXgVJLkIoQMqquQuTY+GfgXxn4d1vV/EfjvUNN1rWNXRFmvrW1nt5SkTuYoFWWaVY7eJXISNerl5GLO7GvaKKACiiigAooooAK8a8Uf8ls8B/wDYL1//ANCsa9lrzzxt8NdD8dXumanqF1qFhe6QtwtvPp17NZSql0FEqs0LAsrbFOD0IBHIoA9DrgvEPhrxfqmom60XxbcaLbFFX7PFaWky7hnLbpo2bJyOM4GOK7e3hFvBHAHZxGoXc7FmOBjLE8knue9TUAfOfxb8K/FE/A7x94f8O61c+I/Euu6bNYaa/kW1s9tLdp9n8xfLEakR7/NJY5wpx6Vta1pNrPrvgn4V2C507RY49Uu1x8ot9MCxWUZz033JWRfUQtXuVZFtoWk2ms3viCC3C6hqEUEM82SWeK23mJOTgBTI5AHdietAHzr8d/FOufB3XvDvxsn1S+m8F2DtpfiPTo1aaGK0vsLb38UEUbSNNDdLGj4JHlSuT90V23hmDxD4S8C65491LRLjV/FetCXVbjTLVo/tDSeWFtrCJpXSMGKJUiyWVC+9zjca9mmghuIzFOiyI3VWAYH6g1JgYxQB8sfAyy8Q6p4w1rx98RfD2s2PjHWLKCKSa9igi02xsonZo9MsBFPK5CO7PLNIoedyXJVBFFH9UUmAO1ZGv6NH4g0m50iW5ubNLlQpms53trhMEHKSxkMp46g9KAPMfgr/AMgvxP8A9jPr/wD6XSV7NXG+BvA2i/D7Rn0PQ3uZYZbq6vJJLy5ku55J7yVppXaWUs5y7HAzhRwAAAB2VABRRRQB/9L9/KKKKACiiigAooooAKKKKACiiigAooooAKKKKACiiigAooooAKKKKACiiigAooooAKKKKACiiigAooooAKKKKACiiigAooooAKKKKACiiigAooooAK4r4hWc1/4UuLK3Dl55rVMxgl1DXEYLAD+6Pm9sV2mRRkHpQB82+H/hv4g0HxBoRmdC1ummwmSDcY44NHtp4XkJIGHujcBCnOEBOSRWp8PP2g/BHxP+IPxJ+Gnh4m41H4cXMNrdKrI5uRNCHZohnokoeA5x86MK9S8V3UNzol9plpr0WhXlzC8Ud3uiZ7dnGPMRZDtLL1XcCM4yCOK/N/8AZ2/ZZ+D3wn+OPizxd4A8ZX9nq3h29trSSe71OO9XVrS9so7m6jvFl4YyXEjSh49jLIAem5TapS7E8y7n1X+z94VtrHVdb8aap4Kn8IeIdeihElsbaG3trOzhdzBZIYJHSSVC7STyj78jHB2KgH1FVS1vLK6XdaTRzD1Rg38iatZFS01uUhaKM0UgCiiigAooooAKKKKACiiigAooooAKKKKACiiigAooooAKKKKACiiigAooooAKKKKACiiigAooooAKKKKAP//T/fyiiigAooooAKKKKACiiigAooooAKKKKACiiigAooooAKKKKACiiigAooooAKKKKACiiigAooooAKKKKACiiigAooooAKKKKACiiigAoorN1bV9N0PTbnV9YuY7KytEMk00rBI40XqWY8AU0m3ZCbsaJYCuE1/4h+H9Evv7Gh87VtZwCNPsE+0XIB6GQDCxKf70rKvvXMRzeMPiSVltJLjwr4XcKyyAeVql8p7gMM2kRHcjzmH/ADy6n0Tw/wCF9A8K2H9meHrGKxtyxdhGPmd25LyMcs7k8lmJJ7mup0oU/wCJq+y/V/ovvRlzSl8O3c4hY/it4lTdJJZ+D7VzwqAahf7fdjtt429gso96lf4TaDqGG8TX+pa+w6i8vZRET3/cQGOL8NleoAYpaPrk18Hu+n+e/wCI/Yr7WvqcJY/DH4daYm2x8MabFjuLSIt+ZUmvJvh14U8L3HxP+LFvNo1lJHHqemhVa2iKgHS7ckAFfXmvpQ9K8L+Gv/JVPi1/2FNN/wDTVbVjKvNu7k/vKVOK0SOsvfhF8M76Tzn8NWUEo6SW8QtpB9Hh2MPwNVf+Fc6hpiD/AIRLxTqemFPuxXEo1G3x6FboNJj/AHZFPvXqVFaLGVdnK689V9zJ9jDojyh/Evj/AMMNjxVoa6zYqPmvdF3NIuOpkspCZAP+uTyn2rt/D3inw/4ps2vfD99HexRnZIEPzxP3SRDhkYd1YAj0reIzXC+JPh9o+vXf9t2ckuja9Gu2PUrIiO4AHRZMgpNHn+CVWX0APNV7SnP4lyvutvmv8vuFyyjs7nd5FLXlWl+NNX0DUbfw18SYorW4unEVlqcAZbG9c9EIYk2857ROxDH/AFbscgeqA5rGrRlB6/8ADlwmpbC0UUVkWFFFFABRRRQAUUUUAFFFFABRRRQAUUUUAFFFFABRRRQAUUUUAFFFFABRRRQAUUUUAFFFFAH/1P38ooooAKKKKACiiigAooooAKKKKACiiigAooooAKKKKACiiigAooooAKKKKACiiigAooooAKKKKACiiigAooooAKKKKACiiigAooppOKAM3WdZ03w/pd1rWs3CWljZxtLNK/Coi9T7+wHJPA5rzPR9B1Lx5qFv4v8AG1u9vp8DrNpWjyjHkkcpdXidGuT1RDlYfeTJENrEPid4o/tS4/eeFfDdyVs4+Cl/qMDYe4b1itnBWIdDKGf+BDXsuAK7ZP2K5V8XXy8vXv8Ad3OdLnd3t+YgXFOooriOgKKKKAA9K8L+Gv8AyVT4tf8AYU03/wBNVtXuh6V4X8Nf+SqfFr/sKab/AOmq2oA90ooooAKQMCMg8Vyb+M9E/wCEyi8CRtLLqrWhvXEcTvFDCHCr50oGyNpDny1YguFYgEKcfPul+PfGek3Gk+D7O0imfUzu07fHIUuYgxNyruCRuiAYk5GMgkEdZUk9jWrQnC3OrXV16dz6c1bSNM17TLnSNZto7yyu0Mc0MqhkdT1BB/yOoryzSdS1X4cata+FPE1xJf6BfyCHStTmYvLDI33LO8c9SekEx+/9xz5m1pOm+GtxPP4Z8tnaa0trm6gspmYs0tnDMyQMSevyjAP8QAbvXV63oul+IdJutD1m3W6sr2MxSxP0ZT+oI6gjkHBHIrroVklyT1i/6uvP8zlqU76x3NQHNLXlvgbV9T0zUbj4deKLlrrUtNjE1ndyY3X+n52rKexmiOI58d9r8CQAeojpWdak4Ss/+HKhPmVxaKKKyLCiiigAooooAKKKKACiiigAooooAKKKKACiiigAooooAKKKKACiiigAooooAKKKKAP/1f38ooooAKKKKACiiigAooooAKKKKACiiigAooooAKKKKACiiigAooooAKKKKACiiigAooooAKKKKACiiigAooooAKKKKACiiigArzT4j6pfm2svB2hTm31bxNI1tHKp+e3tlXddXI9DHHwh6eYyZ616SxxXlfhML4k8b+IvGMibotOb+xLFj02W5D3br/vznyz/ANchXVhUk3Ue0dfn0/rsjKrraK6noejaRpugaVZ6LpEC2tlYxJDDEgwqRxjaoH0FadFFczbbuzVIKKKKQBRRmkzQAHoa+cfAWu2tj8aviZo0sFzJNqGp6eUeK3lkgQJpUBPmzKpjj+6cBiCeMZzX0cSMV8zaL4osPBfjH4zeJdSDNb2mqaSCq9WaXTrSNB7ZZgCew5od+hdOUU/eVz2FPiF4Xj046rqs8mjWwvRp4bUoZLLdcs2xFXzlXcHYgIwyrkjaTVrxv4stvBnh641qaB7ycFYbW0ix5t1dTHZDBHnjdI5AyeFGWJABNM8I+K9M8daHJqlon7qO6u7OVW+ZfOsp3gkwSBuXehKnAyMHAryrwNoFr4y8f6p8T0ubifw/bzsmj280jSQNeIrW93qMKv8AcEg/cxBTsKq8ij96ScJykrRW7/q57GCw+HnzVppqMNbb8z6RT0s3rr2TfQ1/CPhyXwtruk/25r6r4j12O+vtTto0GzULkiBS6k/MIrJQsUQz9wjOTzXrUehaPELYR2cQ+xCQQHYMxCXh9h6jcOuOtZd/Fqh8U6TJb21rJYLBdieaT/j5jc+X5aw/7LYbzPotdVV0oKN0jkzHEyquNSe7Xl3emm1lsnsvKyILW1t7K2is7SNYYIFVERAFVVUYAAHQAdKnoorQ8885+I+i39zplv4k8PRCTXfDshvLRehmUDE9sT6Tx5X0DbW6qK7DQtZsPEOj2Wu6XL51nfwpPE/qkgDDPoeeR61qGvKfAm7w94k8R+AmXZbW0q6np47C1v2ZnQf9c7hZOOysorri+ek11j+XX8dfvMX7s/U9YopB0pa5DYKKKKACiiigAooooAKKKKACiiigAooooAKKKKACiiigAooooAKKKKACiiigAooooA//1v38ooooAKKKKACiiigAooooAKKKKACiiigAooooAKKKKACiiigAooooAKKKKACiiigAooooAKKKKACiiigAooooAKKKKACiiigDG8RatFoGg6lrs3+r062muGHqIkL/ANK5/wCGujT6F4F0XT707rz7Os1y3965n/ezMfrI7Gsn4xSH/hAL+yXOdTls7DjqRe3MVuf0c11Wi+KtD16+1DTtFn+1HS3EU8kasYFlyQYhLjYzpj51UkqcBsGuzkfsLpaX1+Vv8zFyXtLPt/X5HSbhWJrniXw94ZtRe+ItSttMgOcPcyrEpI7AsRk/SsAeFNaute/tfVfEl29rDN5tvY2ypbW6qPurKVBkl98uFP8AdrrrnTbC8kimu7eOaS3yY2dFZkLddpIOM98VjywTV3deX/BKvJraxT0zX9L1vR013RZhf2UyM8bxc+YFyPlzjOSOPWue8P8Ai3WNd1DyJvC2paTZ7C32m9NsgLDGF8uOZ5MnPdQBjmu5CgDFGKSnFXXL6eQ7PTU47xDdeOY7tYvC+nafc25jyZby7lhIkyfl2RwvkYwc7h9K2LxdffQ2GntbQ6uYhtMoeS2WbHOQCjsmc45BrZxilpe020Wg1HfU5Dw5b+OIpLg+Lb3T7mNgvkrZW0sBU5O7cZJZN3GMYAxXzrpnhvxV4m+Jvxc0uxvtPi0ubU9J86K5tJZZCU062cMkiTRhSCFKnacMM+1fXB6GvmPR/FOn+DfGfxl1/UFaUQ6ppSRQR4824nl0y2SGCIHq8rkIo9T6U3iLNzaX3afcXRw0qjVKF227I1fHVlfvaJ8GfhpMllqWrLLfaleS73FtZTzM1xI7Rsjie8kLxxkMCCXkH+rwfWPBuna7pGkJpesQ6fbRWYSG1i01ZEhSBFCqu2TpjGABxisr4deFtR0HTbnU/Eciz+I9dl+2alIhLIspUKkEROP3UCARpwM4LkbmavRAMVzUm7Ntav8AD+up6OYVYq2HpO8Y9f5pdX6dF5K+7Z4zqV54jPxL0P7d4T+0JGt9Hb6lb3xMcFs5i8wzxNGo3vhdihmPytgjnPoXiLxKvhyGCeTTb7UEmYq32K3NwYwBnc6qd2D0GAeaz9VuIU8baFbtrTWskttfFdOC5W8C+TmUnqPIyMeu+u0xW0Jx5r8v9WRzYmMuSnr08/5n/WmnzuZGja7Y67piatZrNFA+7i4hktpF2Eg7o5VVlxjuPfpV61vbO/hW4sZ0uIm6PGwdT9CpIqcoGUq3IIwQea5TT/Afg/SdXGvaTpFtY321kMlugh3K/XcqYVuncH2q/cd912OP3tDrc15f4sLaT4/8Ia7GMR3z3WkTn1WePz4s/SSHA/3q1/EX/CfWd+mpeGPsWo2SxhZNPuA1vMzA8vFdLuUEjjY8eCR94Vh/FmSWDwla6yF2S6Zqel3WM52gXcSyDP8AuMwrpwlP346r3tPv0M6svdflqeqjpS0maWuE3Ciisr+29J8wRfbIvMJC7d43ZLbRx1+9xQBq0U0soIUkZPb6VVm1CytiRPOkeG2HcwGG278H0+UZ+lAFyiqlrfWd7uNpOkwUKSUYMMOoZTkdiDkHuKt0AFFFFABRRRQAUUUUAFFFFABRRRQAUUUUAFFFFABRRRQAUUUUAf/X/fyiiigAooooAKKKKACiiigAooooAKKKKACiiigAooooAKKKKACiiigAooooAKKKKACiiigAooooAKKKKACiiigAooooAKKKKAPIfjTLpMPhSyfX7lbPTf7X0oXErtsVY/tcedz5G0E4G7Ix1r0rRtK0rRdLtdK0S3jtbC1jWOGKIAIqDpgD+ffrXn3xotop/AVxNOiyRWd3p9zIrAMrRQXkLyAg8EFAwOe1dR4T8LQeD7ObStPu55tO80ta287BxaRkD9zE2N/lA8orE7QdoO0ADvm08NHXq9OnT8Tnjf2r06L9TraK4TR/iH4f1fWD4dkFzpur/PttL2B4JJFTq0RYbJFxzlGbjriu6yK5KlKUHaSsbRknsLRRRWZQUVxvjT4g+Dvh7po1XxhqkWnwyNshQ5ee4kPSOCBA0s0h7JGrMewrxnVPGHxi8bXMcXh7Sj8PPCcsM0s+u6sscmpIsW0jy9PY7LcOpYrLcMxQrh7fkUm7blwg5OyPY/GvxE8F/D2xhvfF+qxaeLt/Ktomy9xcykEiO3gQNLNIQDhI1Zj6V8X6cfjDcfHPXPHsPw4ml8MaoY9T0katex6d5N5aWy2UtxdKqTtG7wgfZkcAqpkZ9j4UfV/gP4X+BfDVw3izSg2t6zqMY8zXL2b7be3EZ5AW4bISI5yI4QkQ/hUVw/gi7+I958X/ABXpviGPfoccGJVkCGH55D9i+zY5YNBv87d/Fjp0qZw5kjowuJdGUnbVpr0vo/macPjP48TRpNB8PdJeN1DKy+IshlPQgiy5FS/8Jd8fv+idaX/4UJ/+Qq0biCXTLu30f4S3VmB4d2Wl3oaNFFZQxXLBw8hRGkieNAxjRCAwbBXBDDtNO8W25bS9N8Souh63qom8mxlmSR5DAfn8p0O1xt+YYw23kqMEBRqLZ/8AANq+XSS5oap9PtJb6rfbW6urdTyG68T/ALQr63YTr8O9C8mOK4D79eJuMts2+U32PheDvGOePStn/hLvj9/0TrS//ChP/wAhV3urQ2T+OvD88ulz3F1Ha34ivUJ8m2VvJ3xyDP3pcDZx/Afx7kU4bv8AroY4m3JT06fq/N/p6dX4T/wl3x+/6J1pf/hQn/5Co/4S74/f9E60v/woT/8AIVe7U3cM471ZyHhf/CW/H4/8060r/wAKE/8AyFXgf7RviL4vTfD1LvXfB+n6O9tqFh9mmi8Qks80lzGgg8v7IokWYHYynoDuHKg19bah4yuo9bbw/omh3up3MTxiebZ9ns4VfBJM8uA5CnO2MOc8HFcl8bNF0zU/DlrPc2yz3/22xtLVmyTGbu7hSRlXoG2A/NjIGQCMmvTy6Lp4inKWmvlf+vU5cU1KnJI+LP22fit+0T4H+Gej+LvDmgQ+GvFNnrljHpB07VX1O4vpZyyzWf8AZwto/tayQb2aPOV2eYuGQMPpD4I+MP2oPiB8JLy++K3g+w+H3jPyCLEmf7VHPKo+WS4tFLG3V2HMfnyMFP3gRX09Ppun3V1bX1zbRy3FmXMEjoGeIuNrFCeVJHBI7cVewK8w6jyL4P8AjHxH8Q9BufG2sWw0yw1GdksLBgjTW8dt+5mM0iMyu0k6yFcYAj2/xE1zU3hSEaheakJLnzrq5lkMf2SYhGlRbcuHC8qsa71Ufx85xXvFnZWen262lhBHbQJkrHEoRBuJY4UYHJJJ96tYoA85vpbK51yz1v7TqMKWiSKYhbzBDv28nMfT5eeaxVuLG8juPsF5PfpcahJcs32aZ1gSWBo9gwDkLkEDjOa6TWzr+o6yfDjWh/se7hErXcf8PltiWFwT96TK7MDBXfntmP4eW+qQ6beyarDcWxmu5DDFdJCkqRKqqMmElW3EF/bdtAwBQBF4IszYeXZEyMLKxtLNXNvJAJRbKQZCHGAcnAXJIA9DXotFFABRRRQAUUUUAFFFFABRRRQAUUUUAFFFFABRRRQAUUUUAFFFFAH/0P38ooooAKKKKACiiigAooooAKKKKACiiigAooooAKKKKACiiigAooooAKKKKACiiigAooooAKKKKACiiigAooooAKKKKACiiigDmPGmjHxF4S1nQU+/qFnPAvszoQp/A4qPwNry+JvB+ja/gq1/aQyup6rIUG9T7q2QfpXVNntXlnw/3aHrHiTwPKQFsbs39mPWy1EtKOP9icTJ7ACuqn71KS7a/o/0MZaTT7/1/mepFFJBI6dK5DxD4MsPEV1FfyXt/p93DGY0lsryW3wpOeUU+W3PTcprsa8q+JXxX0f4XGxm8R2Vy1jqQkhguIQjK+oEqttYhSwbz7tmKQcbWcbCysyhsIVJRd4s0lFPRngv7TP7Unhv9nSTwL4IuNWjGveKr63gM95E1yLXTo2C3F7cJDsLbmKxoFwXkcbRwRXVaDrn7R/xEjuYYbTT/BOiSeWLfWLi3lbVZ4z99o9LmJS2OMbGuJXIP3oOMGl4+/Y7/Zv+K+s3nxF+KvgpNX1zUIkkuZr26nmkhVIwPKTEhREjA4WMBc5YDLEn2jwjJ4K8C+G7Pwno+pzTWek26LEt3czXlykGEKh5Zi8r7FdMl2ZlUgscc0/aaNBy63PP9F8ByfD7xHPrGl+ErjxZq04RJfEF/qUM+pSqQNw/fhRDGCSfKh2R91QZr2zxBqM2laY91Dpdxq5yqG3thG0jBjgnErIpA78/nW3JJHEhklYIq9SxwB+JqteX9pY+R9qfZ9olWFOCcu/QcfSn7SOnurT11/H8gs9dThPDthpus3NnrKaLqHh2TRle3gtpX+zQtHIAT/o8ErQuoPQsuVOcYrmPs+m3FwvhPUdH8S30C6iJhdzyP5W9W+UmZJldrcHkIQVx/DXqVn4k0PUGgWwvI7kXLzxRtGdytJbkiVNw43KQQR14Poa3OKm1O7fJudMcXXVrTen/AAf8zldd1WTw5Ctxp+h3WqyXUh3pYpDuB2/fkMjxjnAGck/hVrSLybW9Oiv9Q0qbTJgzFYLryzKhGVDZiZ1G4dCGzg810FFPmjy8vLr3Of3r3ueIeFdK+Idt4h0mO4tZrDQLCO+WVLrUxezzNcMrQ5+TJEW1gu5yQG6nFd/4ktPG93LDH4W1Gx02EqfNe5tZLqTdnjYFliUDHrmuwopxqKMrxil+K/G5pWqTqfxHd99vPpYxY9Nu5tDGlarevPcPD5U1zADbOzEYLpsOYz6YPHrWV4b8DeGvCk815pFs4u7lQk1zPNLcTyKpyA0szOxGecZxXX0UvbSs4p6MycFe9hOK8v8AHJbUfFngvw7Hghr6XUZvaKxhbaf+/wBJHXqByOleVeGHl8RfELxF4mP/AB56SqaLaHszxnzrtx7eYyR/WM1thdHKfZP8dF+d/kRV6R7nqo6UtAorlNQooooAKAAOlFFABRRRQAUUUUAFFFFABRRRQAUUUUAFFFFABRRRQAUUUUAFFFFABRRRQB//0f38ooooAKKKKACiiigAooooAKKKKACiiigAooooAKKKKACiiigAooooAKKKKACiiigAooooAKKKKACiiigAooooAKKKKACiiigAryf4iI3hzUNM+JtsrFdED2+pKv8AHpdwR5rkdzbuqzeoVXA+9XrFRTQxTxvDMgkjkBVlYAhgeCCD1BHUVrQq8kr/AH+nUipDmVhYpEljWSNg6OAQwOQQeQQfQ15v8QvhV4b+J/2e38WSXE1laRS+RbxyeWkV0+3y71GUb1ubfbmCQN+7YllG7BGV4NuH8D63/wAKv1It9iZXm0GdzkSWqcvZlv8Anpa5woPLQ7SMlHI9hp16XJK3Tp5r+vxCnPmRiXVrNB4dmsnme7mjtWjMjgeZKwjI3MFAG5jycADJ4FeIS+CNahhOoyRiS2jN5donJllk1CzS2WBlAyArlix9Avvj6Cu7W3vraWzu0EsMylHRujKwwQfrXH/8K28Cjn+xLX/visSyLxX4b1nV/CT6Np+oSRXQtxESqxETMAoyxkVscjPGKm1uxvY7bR4ZJpb+SPUoHaVkUNtDMckRqqgDpnH1rntX8LfDbTbG+ni0ezubiy2oYEAL+dLgRRkAkqXLKBn1z0rz/wANeFdCXxsnhnXNMllmls7q5AaGFbfFvMkLEqi741dnzbZdvMRWJ5U0Adxo2ha1YLY6ffWyxTy67faiHhYyLHbyPLKNzbVAZhIIyPckZr2CuJT4c+B4nWSPRbZWQhgQnQg5B69jXbUAFFFFABRRRQAUUVHLJHDG0srBEQFmZjgADkkk9AKAOO8e+JLjw14dludNiFxqt26WmnwH/lreTnbED/sqcu57IrHtV/wd4bt/CXhux8PwOZvsqfvJW+9NM5Lyyt/tSSFmPua4XwmJPH3iMfEa5H/Ems1eHQozkeYj/LNfkHvMBsh9IssD+8IHr4GK66/uRVLru/Xt8vzbMafvPn6dP68xaKKK5DYKKKKACiiigAooooAKKKKACiiigAooooAKKKKACiiigAooooAKKKKACiiigAooooA//9L9/KKKKACiiigAooooAKKKKACiiigAooooAKKKKACiiigAooooAKKKKACiiigAooooAKKKKACiiigAooooAKKKKACiiigAooooAKKKKAOX8W+FrDxdpDaXePJbyI6zW1zCds9rcR8xzRNzh0PrkEZVgVJB5vwl4w1A6k3gjxqqWviO2QvHIi7LfUoF63Ftknp/y1iyWib1Qq7emVzHinwno/i7ThYasjgwuJoJ4WMdxbTL92WGQco656jqMgggkV00qsbezqbfl/XVGU4O/NHf8zp6K8eg8Y654Ecad8TSJNPBIh16JNtsy9heoP8Aj2k9X/1LHnKEhK9chminjSaJ1kSQBlZSCGB6EEdQaitQlDfVPZ9H/X3jhUUji7rwRbXHjaDxjHctCFtxFcWqovl3MsTE28zt97dCHkA9d/P3Vqxpfg6HS/EuoeJhql9cyaiDut5pla2j+6B5aBARtC4UFiBlscsTXY0ViaBRRRQAUUUUAFFGRXPeIvE+g+FLD+0vEF6lnAzBE3cvLI3CxxouWkduyqCT2FVCDk7RV2JtJXZvu6opdyAAMkk4AArxa4mf4wXD6dZEr4Hgk23NwCR/bDIeYISMf6ID/rZOkv3Fym4mRtI8R/FHDeKbeXQvCpbI0xjtvL9QePtpU/uoT/zwU7nHEhALR17BBBDbRR29uixRRKERFAVVVRgAAcAAdBXXpR21n+X/AAfy9dsdZ+n5/wDAHxRpEixxKERAAAowABwAB2FSUUVxG4UUUUAFFFFABRRRQAUUUUAFFFFABRRRQAUUUUAFFFFABRRRQAUUUUAFFFFABRRRQAUUUUAf/9P9/KKKKACiiigAooooAKKKKACiiigAooooAKKKKACiiigAooooAKKgubiK0t5bqc7Y4VZ2PXCqMk8ewrn/AAX4x8PfEHwjo3jrwndG90XxBaQ31lOY3iMtvcIJI32SBXXKkHDAEdxmgDp6KTIpc0AFFGRRQAUV454/+PPw0+HGuweE9ev7m78QXFsb1dL0qwu9X1BbRSwNy9rYxTSxw7lKiR1ClvlBLcV6L4Y8S6R4w8Pad4o0J5JNP1SBLiBpoZbaQxyDI3wzqksbeqOqsp4IBoA3qKTIrzfxR8W/AHg261yy8Q6mbefw3o/9vX8aQTTvFpxeRBMFiR2fLROAiBnOOF6ZAPSaKqWt/aXio1tKr70SQDOG2OMqSp5GfcVboAKK8z134wfD3w1qXifSdc1UWlx4N0eLX9VDxSbLbTZjOEnL7drD/RpcqpLDbkgArnK8MfHf4a+KtX03QLS/uLDUdaQyafBqdhd6Y96oj80/ZvtkUQmIjBcqhLBQWIwCaAPYaK4HwR8T/A/xFufEVl4P1NdQn8KalLpOpIEdGt7yJVdoyHC5+VgQy5U9jwai8BfFXwF8Tp/EcHgXVk1ZvCeqzaLqRjRwkN/bojywhmADlA65ZCVzlc5BAAPQ6KKKACiiigAooooAjljSaNopVDo4IZSMgg8EEHqDXlb/AA5u/DzvdfDTUv7B3NvbT5UNxpbnviDKtBn1hZRnkqa9YoralXlD4Xp+H3ETpqW55Unj3xBogaPxx4ZurNY+t5p2dRtG98RqLhP+BRYHqa6PQviF4I8SEx6JrlpdSrw0Syqsyn0aNsOp9iK7AjnNc/rHhHwt4hGNe0i01D3uIElP5sCa09pSl8Uben+T/wAyeWa2d/U6DcD070uR/kV4zrvww+HeiWH2+DS57UedBFtsr25tADPKkQIEUqqMFsnjtXL6f4e+HGq6jBZQS668M95eadvm1XUERbyy5aIq04PzqrlD0IU+oy1Tofzv7v8AghzT7L7/APgH0TNcQW8ZlndY0HVmIUfmcV59ffFfwFaXZ0621VdTvhx9m09Hvps+hS3D7f8AgWKjt/g/8NoXEsugwXjjkNeF7tvznZ672x0zTtLhFtplrFZwjokKLGo/BQBR+4Xd/cv8w999l+P+R5q+sfEvxOTDoGkx+GLMnH2zVMT3JX1js4WwD6GWUY7oelbOgfDzR9G1H+37+SbW9cYEHUL5hJMoPVYVAEcCH+7Eqg98nmu+AxS1MsU7csFZeX6vf9AVJXu9QooormNQooooAKKKKACiiigAooooAKKKKACiiigAooooAKKKKACiiigAooooAKKKKACiiigAooooAKKKKAP/1P38ooooAKKKKACiiigAooooAKKKKACiiigAooooAKKKKACiiigDH8Q86DqIH/PtN/6Aa/Mj4Mv461jwZ+z74A0vxNq/hrQp/hNc6jd/2b5cbve2g02K2zJLFJsZRNIQBgtjByuRX6nEZ4NNEajGB04oA/Mz4UfEr4q6TZfCnxt448Ta9r9t4z+HGta94gtxaRStHf6dHp8sJsraCBSk+2aZViXiUjlSwritF/aE8ZQ+FfivrHgnxhdanounfD+017Tby81Gy1e4ttSeW6jlc3UcC2cUzIsZeDdLDDIobaqEqf1o2KMYHTpXI+NPAnhzx74Wu/B/iG3L6ddmJyImMLpJBKs0Ukbpgq8cqK6n+8O9AH5swfFrx5e/DTx943+GXjmfXRb6zo9hbwXGq2upXuh6FdPaR6je3iWMc6xup+0SxykTtHCd+Cq+WPsH9mfX9d1/w1r0mpeKtM8V2MGpFNOm03UJdWFtbNbxMbea/lggNw6yl2D7MhGVGJZSa7vwX8HtF8I+Kr7x1darqXiLxFfWcenNfalLEzx2UUjTLBHHbxQQqPMcszeXvbgMxCqB6vHFHEoSJQqr0AGAPwFAHw34a8a+E/gj+0P8XG+Mdynh5/GtzpuqaNr2oAxWF3plvYxWv9nreuPLSa0uEmk+zMwJWfzUDbpCOq1XW/E3xK+OPhkeBvGN/ZeDP+EYl1p7ayRI49UuIr6NLZWmnhZo4mG4PsKtIpXBC5J+uZYIplKTIHU84YAjj2NP2LnOOaAPyK8J/GL9oN/BHiDxC/jGxuPHcHhnWbjVvD0dxLqGqWGro0ToYtHNpGtsunq0iJEJpBcp5bFpmYSG/feMJdLvPjF43+D/AMRL/wAeTaX8I4LjTdakaK7lGoQzahKrRyRQpC7s2xzEEOxjt2hSFH6yCGNXaRVAZ8ZIHJx0yepxSLDEi7EUKo4wAAKAPgrwrJpukftoeJJfEniq9sLzxJ4W8Ny6bZzTokeoSRtqn2mGJDHulS2BWXarZjaQsxwwFfYPw0vdJ1HwB4fv9C8RTeLtPuLKF4NXnaN5b+Nlytw7RJFGTIPmyiKvoAK7Xyo94k2jcBgHAzg9s08AAYFAH5s/Hu0uZ/Gn7TaxWUl75/wfsY0hRXJnfOt/ul2clmyBheeeOay9IuhqPj/4I3dn8QJvi1Jptxaj/hH1gt400h5LGSGTWXlsYY8NbRPJHsu28thIRGPP2Z/TnYvJx14pqxov3RjPoAKAPyo0PVfiD8J7LxB8QPBGmTX+q+OvEPjTwwI0tZ5FGsnWro+Hbu58tMx2sSGWKaYrjYYjuIAJ+lv2UvBkHw81z4ueCbBZTYaN4jsLe3llB3zgeH9MMszMRl2knMjO5JJctk19hhQOnFKFAzjvQAtFFFABRRRQAUUUUAFFFFABRRRQBznirTrrVdI+x2ahpftNnJgnA2w3Ecj8/wC6prhrH4eX1jqFvbyXv2ywfWbvXZ3ZFjdZpOYYFC9UV2Llic/KFOdxr1yigBAMDFLRRQAUUUUAfP8A8ePjIfhJp1heWqwTSKJtRvY5Ulkf+ydP2temFYQzGcq6rCpGCx74xW/Z/FbTta8Xf8IzpMNzElnqv9lzXM1tm3uZW0/7eFtpBICQInRjLsZM5j+9kr6fLo+lTXkuoTWkT3M8H2aSRkBd4MlvLJ7plicdOay9N8GeE9GSCPStItbRbWUTxCKFU2SiEW4dcDhhCBHn+4NvSgDxPxT8YvEnhbxp4q8Py2FrPax2Fsvh/wCdkmvNZdGeSzlzxhleF4yvO0TEjCUuifG28tPDujal4k0+XVb/AFOHRInt9IgU7b3VIA5EfmzBpIt25sgfuo1Z5DtUsPcbrwp4Zvr+HVb3SrW4vLa4W7imkhR5I7hIXt1lRiMrIIZHjDDnYzLnBIrBvPhZ8ONQOnNe+GtPlbRyhsibdM2xihNuhhOMoVhYxjbjCEr0JFAHnul/HLTvFnizRND8LWk4s7zVLqxnuLqBo0mitre7YyWz5wf39sVIYBtvzbdrKxXXviV4g8K/ES4sPFUX9neHSH/s6SOza5XUfKs2uZU+1LKq29yGSQLDJHh0TKuxbCeqWfgbwfYal/bFno9tDeec9wJVjAZZnVkd1/usyu4YjGdzZ6moJfh74In8QS+KptFtZNVnVlkuGjBZt0flMSDwWMfyFsZ2fLnHFAHnXiH9oLwl4d0++1OTTNUvotMSWa6FrbLI8UMFjBqMsmzeGYLBcJ8qBnZ8oqscZZf/ALQPh3TpY7a40LVzc77hJ4UghZ7b7PdQWhMhE2075LmIoELEqSSBtYDvLD4V/DfS7C50uw8M6fBaXqyrPEtugWUTwpbyCQY+bfDFHGc5yiKvRQBqzeCPB9xPLcz6LaSTTMzO7QoWZnkjmYk45Jkijc+rIp6gUAeTS/tIeCre6ksbnTtUjubS1mur1Psob7EIZLmLZMyOy7me0mUFCycKSwDqT3es+K9Wl8DQ+KtJji0NpkSd/wC14mdreFgT88Fu+55W+VVjWQHLf3htOpd/DvwNfSebd6FZyNidTmFcMLp3kmDDowd5HZs5yWY9SaveIPBvhXxXpcOieJdJttTsLeaC4jguIlkjSa2YPDIqkYDxsAyMOVIBHIoA8G0X4ufEHVJ7VL7SbDSJ7mZdLksrl5TLaan/AGUmqO80qnaYEVihQIHwA24ZwNG0+I/xIlsNCvk06xujfan9jECRTxz6ja/ahE19bI7H7PBHbk3BMpkDABQw3Izel3nwo+Guoi5XUfDVhdJeWLaZOk0CyJLZOnltC6sCGRkGwgg5X5T8vFOj+FPw4iv9P1SPw5Yre6SrpaTiFfNgSWRZXSN/vKrSIjMoOCyqSMgUAMPirUv+FpJ4LEcf2FtGbUC+D5vmi5EIGc427TnGM57143Z/GjxLBDoHizUVsrvSvE9xfxR6XaK/9o2sdtBdXELs5c+Y5Fo6Tp5abHbCk+Wd/ves+BPB3iHVrXXtb0e1vNSsozFBcyRAzRxl1kKK/wB4KXRWIzjIB6gVz8Pwe+HNn8QIvilp2h29l4oSK4ge9gURyTRXRVpUlxw4Z0V+RneN2ck5AE+GupeMNf8AD9j4p8S32nXEOt2dtdwwafC4SDz18zaLh5G89AjKA+xMkFsAMFXyW0+NWv2iaJ4v1l7CTQ9fvdQtv7Ot1Y6hZwWsd1JFKzs+JHxaOJ4zGgjZsBj5Z3+/6F4K8J+GLi6uvDuk22my3hzKYIxHu+Yv0HAG5i2BgZJPU1ys/wAFvhjN40HxCXw/aw6+0N1bTXUcYVri3vVAnimA4kSQqrMCOWAOc5yAZ+qfGzwrpMojuLe7KrqVrpkrBYwY5byO2kjfY0gkdP8AS4gxRWKncSABmsR/j3ZTyfZ9G8Marezrf2dmYz9ngLQ3d7NYG6QyTBWjSWByQSrsoDKpDCu0T4O/CxPsZHhTTc2E3nwE2yFo5cxHeCRnOYITn1jQ9VXGtffDrwJqdtJZ3+gWU8MvkllaBCCbe4N1EenWOdjKp7OSw5NAHE3Xxz8LQ2i3NtYaheySTrbRwwQqZHlfUzpIADOAB9oBJYkKsfzkgA41vA3xS0r4jJd2+i2d5pt1DaW15GL+FU3w3hlSKQBHbI8yGRWUkN8ucbWVju2fw38A6ffXOp2Ph+xgu7uWOaWVIEDvJFMbhGJx1WYmQejkt1JNbOleGPDuhSmbRtNt7GQwRWxaGNUJggZ2ijyB9xGkcqOgLNjqaAPlux/aG8SXMVp5tlp6y3VgdLCiRif+EyjOJNNAOMxgZI/jwrZr06P47eHxc2GnDTNRurnVLhLewMMMRF8hlaB7iIGb5IUdSWMuxguGwVOa9KPgjwcTGx0SzJi1BtWQ+Qny6gwIN0OOJiGIMn3uTzzVax+HngXTdQl1XT9Bsre8mnF00qQIrmcFyHyBw2ZHPHdmPUnIB5B4Y/aJ8P6nodle3dtPdSSal/Y9zPbRiO0gvgW3xvJM6BAgCruJ2u5CRlmyBa8M/HiC/srfTtT0S+fxDcPst7SCOJBehpLpRJbtJMECBbSVj5rIcAED5lz6hdfDbwDfSQy3WgWUjQLEiZhX7kDF41OOqozEqpyASafffDnwHqVrJZX+gWU0MqRRsrQLysMjyxjOM4R5ZGX0Lse5oA4jw78d/B3ijWtL0vSra9NrrMwtbS/eFUtZbtrEakIBl/NDm2LPkx7QUZS27APU/E7xNrnhHwv/AG9oFvb3U0V5YxSJcs6r5FzcxwSFdgJLqr5UHgkYJA5pug/CvwR4c8TX/i/TdMiXVL51YSlEzbolvFaiKDAHlx+XCoIHvzjgdJ4l8K+G/GWmHRfFem2+rWDOkhguYxLEXjO5GKtxlTyD2OCOaAOGj8X+KLX4iXOhajDZy6FFZ3N1NPB5nmaeIWj8n7TIx8tmuVMjKiqpjEecuDkZVt428bnxB4Y02SytGt/Eem6nfYkaSKeGWBontoSAGUKY5gJHPzBhwuOnU3Xwr8DvLqt5p2lW+nX2uFft9zbxKk10pESSCVsfMZIYUiZj82wAA8Ct3VPBXhLW9Ys/EOr6RbXep6fFLDbXMsYaWGKYYkRGPKq44YDgjGegoA8Nu/iX8UbXw9qmqWtjpmoz6detbWfkx3CrrbeVGwgsYy5KnzWkia4ZmjHlmQrs3bPpleleZW/wX+E9pYadpdr4T02G00ck2MSWyKlrmIQnyAABGPKGzC4G35enFenAADAoA//Z)"
      ],
      "metadata": {
        "id": "5jYhm0760qKy"
      }
    },
    {
      "cell_type": "code",
      "source": [
        "statenames = ['+z', '-z', '+x', '-x', '+y', '-y']\n",
        "statepars = [(0,0), (pi,0), (pi/2,0), (pi/2,pi), (pi/2,pi/2), (pi/2,3*pi/2)]\n",
        "states = {name:spin_coherent(1/2,pars[0],pars[1]) for name,pars in zip(statenames,statepars)}\n",
        "for x in statenames :\n",
        "  print('State:',x)\n",
        "  print(states[x])\n",
        "  print()"
      ],
      "metadata": {
        "id": "ldOYr35N0vYq"
      },
      "execution_count": null,
      "outputs": []
    },
    {
      "cell_type": "markdown",
      "source": [
        "## Measurement\n",
        "\n",
        "One thing we want to do is measure them. In QuTiP, this is done with the function\n",
        "\n",
        "`measurement.measure(state,sigmaz())`\n",
        "\n",
        "Here, `state` is state we want to measure.\n",
        "\n",
        "The second parameter, `sigmaz()`, is telling the function what we want to measure. In class we just talked about spin up and spin down, which are measured with the operator `sigmaz()`. (We'll see about operators later)\n",
        "\n",
        "Let's see this in action:"
      ],
      "metadata": {
        "id": "oTKBZUQ7-akH"
      }
    },
    {
      "cell_type": "code",
      "source": [
        "psi = states['+x']\n",
        "\n",
        "print('Our state is +x:')\n",
        "print(psi)\n",
        "\n",
        "for i in range(1,6) :\n",
        "  print()\n",
        "  print('Measurement #%d:' % i)\n",
        "  print(measurement.measure(states['+x'],sigmaz()))"
      ],
      "metadata": {
        "id": "kwUZNXGd-9A-"
      },
      "execution_count": null,
      "outputs": []
    },
    {
      "cell_type": "markdown",
      "source": [
        "You can see that the measurement returns two objects:\n",
        "\n",
        "The first one is a number, which is either 1 or -1 - this is simply the result of the measurement.\n",
        "\n",
        "The second object is a qubit state. What does it mean?\n",
        "\n",
        "As you may be able to figure out, it's the state of the qubit after the measurement - measurement collapses the qubit into either the up or down state, depending on what we measured."
      ],
      "metadata": {
        "id": "rQn8FpyOCxHp"
      }
    },
    {
      "cell_type": "markdown",
      "source": [
        "Another function available in QuTiP is\n",
        "\n",
        "`measurement.measurement_statistics(state, sigmaz())`\n",
        "\n",
        "Since the results of a quantum measurement are probabilistic, it's useful to get the statistics of many measurements. This function lets us do it."
      ],
      "metadata": {
        "id": "nrUZiInODfex"
      }
    },
    {
      "cell_type": "code",
      "source": [
        "for statename in [ '+x', '+z'] :\n",
        "  print('For an initial state',statename,':')\n",
        "  psi = states[statename]\n",
        "  M = measurement.measurement_statistics(psi,sigmaz())\n",
        "  for i in range(3) :\n",
        "    print('M[%d] = ' % i)\n",
        "    print(M[i])\n",
        "  print()"
      ],
      "metadata": {
        "id": "diFGUcgPDe1w"
      },
      "execution_count": null,
      "outputs": []
    },
    {
      "cell_type": "markdown",
      "source": [
        "When we run `measurement_statistics` we get back three lists\n",
        "\n",
        "* The first is a list of possible outcomes (here, -1 and 1)\n",
        "* The second is a list of corresponding qubit states after each measurement outcome.\n",
        "* The final list is the probability of each of these outcomes.\n",
        "\n",
        "Note the difference between the initial states +z and +x."
      ],
      "metadata": {
        "id": "Yk8QFF4HEIn2"
      }
    },
    {
      "cell_type": "markdown",
      "source": [
        "### Knowledge Check: Measurement Dependence\n",
        "\n",
        "Looking at the first two components of the `measurement_statistics` output, what do they depend on?\n",
        "\n",
        "* (A) Only the initial state\n",
        "* (B) Only the measurement operator\n",
        "* (C) Both the initial state and the measurement operator"
      ],
      "metadata": {
        "id": "71MmdlWfKI4O"
      }
    },
    {
      "cell_type": "markdown",
      "source": [
        "### Knowledge Check: Measurement Operators\n",
        "\n",
        "Let's say we have a state $|+X\\rangle$. What's faster, calculating its measurement statistics in the **X** direction or **Z** direction?\n",
        "\n",
        "* (A) `measurement.measurement_statistics(states['+x'],sigmax())`\n",
        "* (B) `measurement.measurement_statistics(states['+x'],sigmaz())`\n",
        "* (C) There's no difference."
      ],
      "metadata": {
        "id": "yw1Vu0Y8Q9S_"
      }
    },
    {
      "cell_type": "markdown",
      "source": [
        "### Exercise 1: Ploting probabilities\n",
        "\n",
        "Let's try an exercise: use what we've seen above to plot the probability of measurement results in a qubit prepared in a state $|\\theta,\\phi\\rangle$."
      ],
      "metadata": {
        "id": "OZh0AaDxE_lb"
      }
    },
    {
      "cell_type": "code",
      "source": [
        "# Here x is a vector containing numbers from 0 to pi\n",
        "x = np.linspace(0.,pi,31)\n",
        "\n",
        "### Your Code here ####\n",
        "\n",
        "### a list of the probabilities of measuring up for a state prepared with each theta in x\n",
        "Pup = []\n",
        "### a list of the probabilities of measuring down for a state prepared with each theta in x\n",
        "Pdn = []"
      ],
      "metadata": {
        "id": "hN3-onLjVDDI"
      },
      "execution_count": null,
      "outputs": []
    },
    {
      "cell_type": "code",
      "source": [
        "# Once you're done, run this code blcok, and it'll plot those two lists as a\n",
        "# function of x. (if you have the time and inclination, you can try to\n",
        "# figure out this code, too, and customize it in various ways)\n",
        "\n",
        "plt.plot(x,Pup)\n",
        "plt.plot(x,Pdn)\n",
        "plt.xlabel('$\\\\theta$')\n",
        "plt.ylabel('P')\n",
        "plt.xlim([0,pi])\n",
        "plt.ylim([0,1])\n",
        "plt.legend(['Up', 'Down'])"
      ],
      "metadata": {
        "id": "BTT0HYbvVJCV"
      },
      "execution_count": null,
      "outputs": []
    },
    {
      "cell_type": "markdown",
      "source": [
        "## Visualizing the Bloch sphere\n",
        "\n",
        "One neat function QuTiP provides is the ability to generate the plots you've seen in class. Let's do this here:"
      ],
      "metadata": {
        "id": "FBs_Vs5k1ZHs"
      }
    },
    {
      "cell_type": "code",
      "source": [
        "statecolors = ['blue','dodgerblue','red','pink','green','lime']\n",
        "\n",
        "fig = plt.figure()\n",
        "b = Bloch(fig=fig)\n",
        "b.add_states([states[name] for name in statenames])\n",
        "b.vector_color = statecolors\n",
        "\n",
        "b.render()\n",
        "plt.legend([Line2D([0], [0], color=c) for c in statecolors],\n",
        "           ['$'+n+'$' for n in statenames])\n"
      ],
      "metadata": {
        "id": "LMTpRgcfsoar"
      },
      "execution_count": null,
      "outputs": []
    },
    {
      "cell_type": "markdown",
      "source": [
        "Here,\n",
        "\n",
        "`Bloch()` creates a \"Bloch sphere\" object,\n",
        "\n",
        "`add_states()` is a function that lets you add vectors representing states to the sphere object.\n",
        "\n",
        "`vector_color` is a list of colors for these vectors. If you add more states than colors, the plot will cycle through them.\n",
        "\n",
        "`make_sphere()` tells the object to plot itself.\n",
        "\n",
        "You can see more about these commmands [here](https://qutip.org/docs/latest/guide/guide-bloch.html).\n",
        "\n",
        "The last two lines are a bit of matplotlib trickery to show the legend; if you want to understand them you can look [here](https://matplotlib.org/stable/gallery/text_labels_and_annotations/custom_legends.html)."
      ],
      "metadata": {
        "id": "t3JtCnEI2lc-"
      }
    },
    {
      "cell_type": "markdown",
      "source": [
        "## Operators and rotations\n",
        "\n",
        "Now that we've figured out states and vectors, let's look at rotations.\n",
        "\n",
        "To start, let's look at what we've called $X$, and in QuTiP (or physics) is called `sigmax()` (or $\\sigma_x$):"
      ],
      "metadata": {
        "id": "X1Gou7N7soci"
      }
    },
    {
      "cell_type": "code",
      "source": [
        "print(sigmax())"
      ],
      "metadata": {
        "id": "NnCQTXni1_-e"
      },
      "execution_count": null,
      "outputs": []
    },
    {
      "cell_type": "markdown",
      "source": [
        "This is what an operator looks like in QuTiP. Note that it's quite similar to a vector, except:\n",
        "\n",
        "`shape = (2,2)` now, as this is a $2\\times2$ matrix rather than a vecotr.\n",
        "\n",
        "`type = oper` tells us that this is an operator, something that acts on a state.\n",
        "\n",
        "`isherm = True` tells us the operator is \"Hermitian\", which is to say it's equal to it transposed complex conjugate. This is an important distinction in physics, but we don't care about it for now."
      ],
      "metadata": {
        "id": "0md_DJDh2LpC"
      }
    },
    {
      "cell_type": "markdown",
      "source": [
        "Next, let's look at the rotations, $R_{x}(\\theta), R_{y}(\\theta), R_{z}(\\theta)$.\n",
        "\n",
        "These have the distinction of being given by the following formula:\n",
        "\n",
        "$R_{x} = e^{-i\\frac{\\theta}{2} X}$,\n",
        "\n",
        "and similar for $y,z$.\n",
        "\n",
        "In QuTiP, exponentiating and operator is done by the function `expm()`. To make things easier, let's define some functions:"
      ],
      "metadata": {
        "id": "deqLZDcfBS9Y"
      }
    },
    {
      "cell_type": "code",
      "source": [
        "def Rx(theta) :\n",
        "  return (-1j*sigmax()*theta/2).expm()\n",
        "def Ry(theta) :\n",
        "  return (-1j*sigmay()*theta/2).expm()\n",
        "def Rz(theta) :\n",
        "  return (-1j*sigmaz()*theta/2).expm()"
      ],
      "metadata": {
        "id": "uw3A2ragtGI7"
      },
      "execution_count": null,
      "outputs": []
    },
    {
      "cell_type": "markdown",
      "source": [
        "Let's write up the important rotations and see what they do:"
      ],
      "metadata": {
        "id": "_xZzlhLFgiEU"
      }
    },
    {
      "cell_type": "code",
      "source": [
        "specialopnames = ['X', 'Y', 'Z', 'S', 'T', 'H']\n",
        "\n",
        "specialops = [ 1j*Rx(pi), 1j*Ry(pi), 1j*Rz(pi),\n",
        "              Rz(pi/2), Rz(pi/4), 1j*Rx(pi)*Ry(pi/2) ]\n",
        "\n",
        "for name,op in zip(specialopnames,specialops) :\n",
        "  print(name)\n",
        "  print(op)\n",
        "  print()"
      ],
      "metadata": {
        "id": "LF_NIj7hg1KL"
      },
      "execution_count": null,
      "outputs": []
    },
    {
      "cell_type": "markdown",
      "source": [
        "And let's plot there. Here, we'll start out the"
      ],
      "metadata": {
        "id": "RDbI4IRMj-IB"
      }
    },
    {
      "cell_type": "code",
      "source": [
        "psi0list = [spin_coherent(1/2,0,0), spin_coherent(1/2,pi/2,0), spin_coherent(1/2,pi/2,pi/2) ]\n",
        "psi0names = ['+z','+x','+y']\n",
        "\n",
        "fig = plt.figure(figsize=[15, 8])\n",
        "for m,psi0 in enumerate(psi0list) :\n",
        "  for n,op in enumerate(specialops) :\n",
        "    b = Bloch(fig=fig,axes=fig.add_subplot(3,6,6*m+n+1, projection='3d'))\n",
        "    b.add_states([psi0,op*psi0])\n",
        "    b.vector_color = ['r','b']\n",
        "    b.render()\n",
        "    if m == 0 :\n",
        "      plt.annotate(specialopnames[n],\n",
        "                   (0.5,1.2),xycoords='axes fraction',fontsize=20)\n",
        "    if n == 0 :\n",
        "      plt.annotate('$|'+psi0names[m]+'\\\\rangle$',\n",
        "                   (-0.5,0.5),xycoords='axes fraction',fontsize=20)"
      ],
      "metadata": {
        "id": "I0c_y3vahedw"
      },
      "execution_count": null,
      "outputs": []
    },
    {
      "cell_type": "markdown",
      "source": [
        "### Knowledge Check: Applying Rotations\n",
        "\n",
        "Let's say I want start with a state $|\\psi\\rangle$, apply the rotation $R_{x}(0.3)$ and then apply $R_{y}(1.65)$. Which will be faster?\n",
        "\n",
        "* (A)\n",
        "```\n",
        "psi = spin_coherent(1/2,0,0)\n",
        "psi = Rx(0.3)*psi\n",
        "psi = Rx(1.65)*psi\n",
        "```\n",
        "* (B)\n",
        "```\n",
        "psi = spin_coherent(1/2,0,0)\n",
        "U = Rx(1.65)*Rx(0.3)\n",
        "psi = U*psi\n",
        "```\n",
        "* (C) They'll be the same.\n",
        "\n"
      ],
      "metadata": {
        "id": "EGiEijD6RWVl"
      }
    },
    {
      "cell_type": "markdown",
      "source": [
        "### Exercise 2: Plotting rotation\n",
        "\n",
        "Now, it's your turn: let's plot out a rotation process along the Bloch sphere.\n",
        "\n",
        "Let's compare two processes to each other.\n",
        "\n",
        "* In Both cases, we'll start in the initial state $|+z\\rangle$.\n",
        "* Then, we'll rotate by $\\pi/2$ around X.\n",
        "* Then, we'll rotate around Z by either:\n",
        "  * $\\pi/2$\n",
        "  * $3\\pi/2$\n",
        "* Then, we'll rotate by $\\pi/2$ around Y.\n",
        "\n",
        "I'll set up the plotting for you, and let you generate the list of states to show on the Bloch sphere.\n",
        "\n",
        "Finally, look at the results and what the difference is!"
      ],
      "metadata": {
        "id": "N5bshrxFnFAo"
      }
    },
    {
      "cell_type": "code",
      "source": [
        "# Your code goes here!\n",
        "\n",
        "# This should be the first list of states to plot on the Bloch sphere\n",
        "statelist1 = []\n",
        "\n",
        "# Your code goes here!\n",
        "\n",
        "# This should be the second list of states to plot on the Bloch sphere\n",
        "statelist2 = []"
      ],
      "metadata": {
        "id": "Mopwls_XoCDN"
      },
      "execution_count": null,
      "outputs": []
    },
    {
      "cell_type": "code",
      "source": [
        "# Once you're done, run this code blcok, and it'll turn those two lists into a\n",
        "# graphic representation. (if you have the time and inclination, you can try to\n",
        "# figure out this code, too, and customize it in various ways)\n",
        "\n",
        "def twoBlochs(list1, list2) :\n",
        "  f1 = plt.figure(figsize=[10,5])\n",
        "  for m,statelist in enumerate([list1,list2]) :\n",
        "    b = Bloch(fig=f1,axes=f1.add_subplot(1,2,m+1, projection='3d'))\n",
        "    b.add_states(statelist)\n",
        "    b.vector_color = colormaps['cool'](np.linspace(0,1,len(statelist)))\n",
        "    b.make_sphere()\n",
        "\n",
        "\n",
        "twoBlochs(statelist1,statelist2)"
      ],
      "metadata": {
        "id": "N8TijQKCYQF-"
      },
      "execution_count": null,
      "outputs": []
    },
    {
      "cell_type": "markdown",
      "source": [
        "## Multiple spins in QuTiP\n",
        "\n",
        "So far we've just looked at a single qubit. But you can't do a lot of calculations with a single qubit - we need to learn how to have more.\n",
        "\n",
        "Here, we'll see how that is done in QuTiP.\n",
        "\n",
        "First, to get it out of the way, let's just define the $|0\\rangle$ and $|1\\rangle$ states for a single qubit:"
      ],
      "metadata": {
        "id": "JUw4Dn2botrF"
      }
    },
    {
      "cell_type": "code",
      "source": [
        "up = spin_coherent(1/2,0,0)\n",
        "dn = spin_coherent(1/2,pi,0)\n",
        "print(up)\n",
        "print(dn)\n",
        "kets = [up,dn]"
      ],
      "metadata": {
        "id": "ts7a01uLpxxR"
      },
      "execution_count": null,
      "outputs": []
    },
    {
      "cell_type": "markdown",
      "source": [
        "And next, let's add them up and see what happens. The basic commands to do this in QuTiP is `tensor`; this refers to \"tensor product\", which is technically what we're doing here.\n",
        "\n",
        "The command works like this:\n",
        "\n",
        "```\n",
        "tensor(q1, q2, q3, ...)\n",
        "```\n",
        "or\n",
        "```\n",
        "tensor([q1, q2, q3, ...])\n",
        "```\n",
        "\n",
        "Where q1, q2, ... are single-qubit objects."
      ],
      "metadata": {
        "id": "gRdBk8Voq96c"
      }
    },
    {
      "cell_type": "code",
      "source": [
        "for q1 in [0,1] :\n",
        "  for q2 in [0,1] :\n",
        "    print('(Q1,Q2) =',(q1,q2))\n",
        "    print(tensor(kets[q1],kets[q2]))\n",
        "    print()\n"
      ],
      "metadata": {
        "id": "YJgUXMB4p3Jr"
      },
      "execution_count": null,
      "outputs": []
    },
    {
      "cell_type": "markdown",
      "source": [
        "Take a look at what we've found here.\n",
        "\n",
        "The actual data is what you'd expect from class - we've turned the four different options for two qubits (00,01,10,11) and converted them into a single four-component vector.\n",
        "\n",
        "As you might expect, `shape = (4,1)`, because we have a $4\\times1$ vector now.\n",
        "\n",
        "But, note what `dims` looks like. Before, it tracked the shape of the object. Now, we see that it is more complicated - instead of `[[4], [1]]` we see  we see `[[2, 2], [1, 1]]`. This tells us that our four-component vector is made up of two 2-component vectors, essentially."
      ],
      "metadata": {
        "id": "YoATNYudrcOp"
      }
    },
    {
      "cell_type": "markdown",
      "source": [
        "### Knowledge Check: Multiple Qubit Scaling\n",
        "\n",
        "What is the the `shape` of a three-qubit ket?\n",
        "\n",
        "* (A) (6,1)\n",
        "* (B) (8,1)\n",
        "* (C) (10,1)\n",
        "* (D) (16,1)"
      ],
      "metadata": {
        "id": "p4GtgaXiHEJe"
      }
    },
    {
      "cell_type": "markdown",
      "source": [
        "## Operations on multiple spins\n",
        "\n",
        "The tensor function can also be used to multiply rotations. Thus, `tensor(X,X)` is a two-qubit operation that applies X to the first qubit and X to the second qubit:"
      ],
      "metadata": {
        "id": "COU_6cMRssVX"
      }
    },
    {
      "cell_type": "code",
      "source": [
        "X1 = 1j*Rx(pi)\n",
        "print(tensor(X1,X1))"
      ],
      "metadata": {
        "id": "H9L_J2XwwtTm"
      },
      "execution_count": null,
      "outputs": []
    },
    {
      "cell_type": "markdown",
      "source": [
        "In this context, we should mention the *qeye(n)* function, read as q-I, which creates the quantum identitiy operation for a qubit of dimension n."
      ],
      "metadata": {
        "id": "9-vm0v1jw0yx"
      }
    },
    {
      "cell_type": "code",
      "source": [
        "I1 = qeye(2)\n",
        "\n",
        "psi0 = tensor(kets[0],kets[0])\n",
        "print('|00>')\n",
        "print(psi0)\n",
        "print()\n",
        "\n",
        "print('(X I)|00> = |10>')\n",
        "print(tensor(X1,I1)*psi0)\n",
        "print()\n",
        "print('(I X)|00> = |01>')\n",
        "print(tensor(I1,X1)*psi0)\n",
        "print()\n",
        "print('(X X)|00> = |11>')\n",
        "print(tensor(X1,X1)*psi0)"
      ],
      "metadata": {
        "id": "ltxkwOG3v9qM"
      },
      "execution_count": null,
      "outputs": []
    },
    {
      "cell_type": "markdown",
      "source": [
        "There is also a way to directly define a rotation from its matrix. We'll use that to define the important operation CNOT, below.\n",
        "\n",
        "This is done by casting the matrix corresponding to the operator into the `Qobj` class, which is the basic quantum object class.\n",
        "\n",
        "However, after that we must also set the `dims` parameter, so that QuTiP knows that CNOT is an operator that acts on two qubits, rather than on one 4-component quantum object (a spin 3/2 vector, if you remember what we mentioned above)"
      ],
      "metadata": {
        "id": "2KSuTH3lxhrj"
      }
    },
    {
      "cell_type": "code",
      "source": [
        "CNOT = Qobj([[1,0,0,0],\n",
        "             [0,1,0,0],\n",
        "             [0,0,0,1],\n",
        "             [0,0,1,0]],\n",
        "            dims = [[2,2], [2,2]])\n",
        "print('CNOT')\n",
        "print(CNOT)\n",
        "print()\n",
        "\n",
        "print('CNOT|00> = |00>')\n",
        "print(CNOT*tensor(kets[0],kets[0]))\n",
        "print()\n",
        "print('CNOT|10> = |11>')\n",
        "print(CNOT*tensor(kets[1],kets[0]))"
      ],
      "metadata": {
        "id": "8UfDdEDntHtw"
      },
      "execution_count": null,
      "outputs": []
    },
    {
      "cell_type": "markdown",
      "source": [
        "### Knowledge Check: CNOT as a Tensor\n",
        "\n",
        "Instead of defining CNOT from a matrix as above, can we rewrite it as a tensor product?\n",
        "\n",
        "* (A) No\n",
        "* (B) Yes, we can pick some pair of operators so that `CNOT = tensor(op1,op2)`\n",
        "* (C) A Secret Third Thing"
      ],
      "metadata": {
        "id": "q-U8QTlyEsHY"
      }
    },
    {
      "cell_type": "markdown",
      "source": [
        "## Entanglement\n",
        "\n",
        "Finally, let's have a hint of what's coming, and what makes quantum computers powerful.\n",
        "\n",
        "We've combined two qubits here with the `tensor` function. The opposite function is `ptrace`, or \"partial trace\", which allows us to extract what each single qubit looks like.\n",
        "\n",
        "Let's take a look:"
      ],
      "metadata": {
        "id": "vL536uITzN6d"
      }
    },
    {
      "cell_type": "code",
      "source": [
        "psi0 = tensor(kets[0],kets[1])\n",
        "print(psi0)\n",
        "psi0q1 = psi0.ptrace(0)\n",
        "psi0q2 = psi0.ptrace(1)\n",
        "twoBlochs([psi0q1],[psi0q2])"
      ],
      "metadata": {
        "id": "r12pmr6azxdF"
      },
      "execution_count": null,
      "outputs": []
    },
    {
      "cell_type": "markdown",
      "source": [
        "This works if we rotate these qubits, as well:"
      ],
      "metadata": {
        "id": "0IIFOrD80kQu"
      }
    },
    {
      "cell_type": "code",
      "source": [
        "psi1 = tensor(Rx(pi/4),Rx(pi))*psi0\n",
        "psi1q1 = psi1.ptrace(0)\n",
        "psi1q2 = psi1.ptrace(1)\n",
        "twoBlochs([psi1q1],[psi1q2])"
      ],
      "metadata": {
        "id": "w1db9s_D0pRz"
      },
      "execution_count": null,
      "outputs": []
    },
    {
      "cell_type": "markdown",
      "source": [
        "But now, observe what happens when we apply a CNOT:\n"
      ],
      "metadata": {
        "id": "c92GMM6j00RN"
      }
    },
    {
      "cell_type": "code",
      "source": [
        "psi2 = CNOT*psi1\n",
        "psi2q1 = psi2.ptrace(0)\n",
        "psi2q2 = psi2.ptrace(1)\n",
        "twoBlochs([psi2q1],[psi2q2])"
      ],
      "metadata": {
        "id": "TmBAOAI704Gm"
      },
      "execution_count": null,
      "outputs": []
    },
    {
      "cell_type": "markdown",
      "source": [
        "The arrows have shrunk! What does that mean?\n",
        "\n",
        "We'll undertand later this week."
      ],
      "metadata": {
        "id": "5gLgD6LJ0_Pj"
      }
    }
  ]
}