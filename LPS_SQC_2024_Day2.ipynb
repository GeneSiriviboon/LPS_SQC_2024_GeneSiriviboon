{
  "nbformat": 4,
  "nbformat_minor": 0,
  "metadata": {
    "kernelspec": {
      "display_name": "Python 3",
      "language": "python",
      "name": "python3"
    },
    "language_info": {
      "codemirror_mode": {
        "name": "ipython",
        "version": 3
      },
      "file_extension": ".py",
      "mimetype": "text/x-python",
      "name": "python",
      "nbconvert_exporter": "python",
      "pygments_lexer": "ipython3",
      "version": "3.6.7"
    },
    "colab": {
      "provenance": [],
      "toc_visible": true,
      "include_colab_link": true
    }
  },
  "cells": [
    {
      "cell_type": "markdown",
      "metadata": {
        "id": "view-in-github",
        "colab_type": "text"
      },
      "source": [
        "<a href=\"https://colab.research.google.com/github/GeneSiriviboon/LPS_SQC_2024_GeneSiriviboon/blob/main/LPS_SQC_2024_Day2.ipynb\" target=\"_parent\"><img src=\"https://colab.research.google.com/assets/colab-badge.svg\" alt=\"Open In Colab\"/></a>"
      ]
    },
    {
      "cell_type": "markdown",
      "source": [
        "# Quantum Short Course 2024 - Day 2\n",
        "\n",
        "# Numerical Simulation of Quantum Systems with Python\n",
        "\n",
        "Welcome to our hands-on exercise!\n",
        "\n",
        "This Jupyter notebook will guide you through working with circuits in QuTiP and then in Qiskit, compared with what you saw in class today..\n",
        "\n",
        "**Remember to save a copy of this file to your own Google drive before you start working on it.**"
      ],
      "metadata": {
        "id": "pkuGr8SsfK72"
      }
    },
    {
      "cell_type": "code",
      "source": [
        "!pip install qutip\n",
        "\n",
        "import numpy as np\n",
        "\n",
        "# from matplotlib.lines import Line2D\n",
        "# from matplotlib import cm\n",
        "\n",
        "import matplotlib.pyplot as plt\n",
        "%matplotlib inline\n",
        "\n",
        "from qutip import*"
      ],
      "metadata": {
        "id": "2NlFjFPDMaef"
      },
      "execution_count": null,
      "outputs": []
    },
    {
      "cell_type": "markdown",
      "source": [
        "# Circuits with QuTiP\n",
        "\n",
        "Today in class we've gone from thinking about spins and rotations to thinking about qubits and circuits. Now we'll see how to do this numerically.\n",
        "\n",
        "Let's start by implementing an example from class:"
      ],
      "metadata": {
        "id": "5wmauU5dJym5"
      }
    },
    {
      "cell_type": "markdown",
      "source": [
        "![image.png](data:image/png;base64,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)"
      ],
      "metadata": {
        "id": "zLEG7xoLNs3k"
      }
    },
    {
      "cell_type": "markdown",
      "source": [
        "Remember, here the first gate is a Toffoli, the second is a CNOT, the third is a SWAP, and the third is another CNOT."
      ],
      "metadata": {
        "id": "rzSXoJTiNuT9"
      }
    },
    {
      "cell_type": "markdown",
      "source": [
        "## The hard way\n",
        "\n",
        "In principle we already have everything we need to perform this circuit. Let's try.\n",
        "\n",
        "First, some definitions from yesterday:"
      ],
      "metadata": {
        "id": "yL3OkAq_LgDO"
      }
    },
    {
      "cell_type": "code",
      "source": [
        "pi = np.pi\n",
        "\n",
        "def Rx(theta) :\n",
        "  return (-1j*sigmax()*theta/2).expm()\n",
        "def Ry(theta) :\n",
        "  return (-1j*sigmay()*theta/2).expm()\n",
        "def Rz(theta) :\n",
        "  return (-1j*sigmaz()*theta/2).expm()\n",
        "\n",
        "up = spin_coherent(1/2,0,0)\n",
        "dn = spin_coherent(1/2,pi,0)\n",
        "kets = [up,dn]\n",
        "\n",
        "X1 = Ry(pi)\n",
        "I1 = qeye(2)\n",
        "\n",
        "CNOT = Qobj([[1,0,0,0],\n",
        "             [0,1,0,0],\n",
        "             [0,0,0,1],\n",
        "             [0,0,1,0]],\n",
        "            dims=[[2,2], [2,2]])"
      ],
      "metadata": {
        "id": "Zvy-vy4uNLIs"
      },
      "execution_count": null,
      "outputs": []
    },
    {
      "cell_type": "markdown",
      "source": [
        "And let me define a useful measurement operator, which will be used to measure the number states of the qubits.\n",
        "\n",
        "The details are not important, just note it's diagonal, and outputs the state of all three qubits in a clear way."
      ],
      "metadata": {
        "id": "9MhT9sZwhmSX"
      }
    },
    {
      "cell_type": "code",
      "source": [
        "def numN(Nq) :\n",
        "  return sum((10**m)*tensor([qeye(2)]*(m)+[num(2)]+[qeye(2)]*(Nq-m-1)) for m in range(Nq) )\n",
        "\n",
        "num3 = numN(3)\n",
        "print(num3)\n",
        "\n",
        "for q2 in [0,1] :\n",
        "  for q1 in [0,1] :\n",
        "    for q0 in [0,1] :\n",
        "      psi = tensor(kets[q0],kets[q1],kets[q2])\n",
        "      M = measurement.measure(psi,num3)\n",
        "\n",
        "      print('For the state %d%d%d, num(3) measures: %03d' % (q2,q1,q0,M[0]))\n"
      ],
      "metadata": {
        "id": "0HWkc2wphlAq"
      },
      "execution_count": null,
      "outputs": []
    },
    {
      "cell_type": "markdown",
      "source": [
        "Next, let's prepare the initial state:\n",
        "\n",
        "(Note: I'm using the convention that the least-siginficant bit is at the top, so that the state is 011)"
      ],
      "metadata": {
        "id": "oAjqnEW0hR1S"
      }
    },
    {
      "cell_type": "code",
      "source": [
        "psi0 = tensor(dn,dn,up)\n",
        "print(psi0)\n",
        "print()\n",
        "print('%03d' % measurement.measure(psi0,num3)[0])"
      ],
      "metadata": {
        "id": "CshTXwUZhTzo"
      },
      "execution_count": null,
      "outputs": []
    },
    {
      "cell_type": "markdown",
      "source": [
        "Then, apply a Toffoli gate. We can construct that like we did the CNOT:"
      ],
      "metadata": {
        "id": "PWLfnSfbjR2N"
      }
    },
    {
      "cell_type": "code",
      "source": [
        "Toff012 = Qobj([[1,0,0,0,0,0,0,0],\n",
        "             [0,1,0,0,0,0,0,0],\n",
        "             [0,0,1,0,0,0,0,0],\n",
        "             [0,0,0,1,0,0,0,0],\n",
        "             [0,0,0,0,1,0,0,0],\n",
        "             [0,0,0,0,0,1,0,0],\n",
        "             [0,0,0,0,0,0,0,1],\n",
        "             [0,0,0,0,0,0,1,0]\n",
        "             ],\n",
        "            dims= [[2,2,2], [2,2,2]])\n",
        "\n",
        "psi1 = Toff012*psi0\n",
        "print(psi1)\n",
        "print()\n",
        "print('%03d' % measurement.measure(psi1,num3)[0])"
      ],
      "metadata": {
        "id": "LV_ko18Ujrho"
      },
      "execution_count": null,
      "outputs": []
    },
    {
      "cell_type": "markdown",
      "source": [
        "Then, a CNOT.\n",
        "\n",
        "We already have a CNOT but we have to expand the operator to work on three qubits, first! For that, we use `tensor` again."
      ],
      "metadata": {
        "id": "P7Gtbun1kEAN"
      }
    },
    {
      "cell_type": "code",
      "source": [
        "CNOT01 = tensor(CNOT,qeye(2))\n",
        "\n",
        "psi2 = CNOT01*psi1\n",
        "print(psi2)\n",
        "print()\n",
        "print('%03d' % measurement.measure(psi2,num3)[0])"
      ],
      "metadata": {
        "id": "RTVhJ0u3kNu4"
      },
      "execution_count": null,
      "outputs": []
    },
    {
      "cell_type": "markdown",
      "source": [
        "Then, a swap:"
      ],
      "metadata": {
        "id": "wxF0pe8QkaRU"
      }
    },
    {
      "cell_type": "code",
      "source": [
        "SWAP = Qobj([[1,0,0,0],\n",
        "             [0,0,1,0],\n",
        "             [0,1,0,0],\n",
        "             [0,0,0,1]],\n",
        "            dims=[[2,2], [2,2]])\n",
        "\n",
        "SWAP12 = tensor(qeye(2),SWAP)\n",
        "\n",
        "psi3 = SWAP12*psi2\n",
        "print(psi3)\n",
        "print()\n",
        "print('%03d' % measurement.measure(psi3,num3)[0])"
      ],
      "metadata": {
        "id": "fIkY48Rrkdyd"
      },
      "execution_count": null,
      "outputs": []
    },
    {
      "cell_type": "markdown",
      "source": [
        "And finally, another CNOT.\n",
        "\n",
        "We already have a CNOT, but it acts on the wrong qubits! We have to define yet another operator."
      ],
      "metadata": {
        "id": "bm43BxYTkwwm"
      }
    },
    {
      "cell_type": "code",
      "source": [
        "CNOT20 = Qobj([[1,0,0,0,0,0,0,0],\n",
        "                 [0,0,0,0,0,1,0,0],\n",
        "                 [0,0,1,0,0,0,0,0],\n",
        "                 [0,0,0,0,0,0,0,1],\n",
        "                 [0,0,0,0,1,0,0,0],\n",
        "                 [0,1,0,0,0,0,0,0],\n",
        "                 [0,0,0,0,0,0,1,0],\n",
        "                 [0,0,0,1,0,0,0,0]])\n",
        "CNOT20.dims = [[2,2,2], [2,2,2]]\n",
        "\n",
        "psi4 = CNOT20*psi3\n",
        "print(psi3)\n",
        "print()\n",
        "print('%03d' % measurement.measure(psi3,num3)[0])"
      ],
      "metadata": {
        "id": "FWQu6ZAalX6y"
      },
      "execution_count": null,
      "outputs": []
    },
    {
      "cell_type": "markdown",
      "source": [
        "We got the right result! But that was very difficult. Let's see an easier way."
      ],
      "metadata": {
        "id": "D_61QXGLnJNd"
      }
    },
    {
      "cell_type": "markdown",
      "source": [
        "### Knowledge Check: QuTiP Circuits\n",
        "\n",
        "Can we define a single operator for the entire circuit? (Toffoli, then CNOT 1->2, then SWAP 2-3, then CNOT 3->1)\n",
        "\n",
        "* (A) No\n",
        "* (B) Yes: `circ = CNOT20*SWAP12*CNOT01*Toff012`\n",
        "* (C) Yes: `circ = Toff012*CNOT01*SWAP12*CNOT20`"
      ],
      "metadata": {
        "id": "cVZHQMs-RTxk"
      }
    },
    {
      "cell_type": "markdown",
      "source": [
        "## The easy way\n",
        "\n",
        "There is, naturally, a better way to do it. There is an additional package for doing quantum information processing with QuTiP, called qutip-qip."
      ],
      "metadata": {
        "id": "Tw_pcCYFnMhx"
      }
    },
    {
      "cell_type": "code",
      "source": [
        "!pip install qutip-qip\n",
        "\n",
        "import qutip_qip as qip\n",
        "from qutip_qip.circuit import QubitCircuit\n",
        "from qutip_qip.operations import Gate"
      ],
      "metadata": {
        "id": "gNrfBXucnv7C"
      },
      "execution_count": null,
      "outputs": []
    },
    {
      "cell_type": "markdown",
      "source": [
        "Two of the basic commands we'll use are\n",
        "\n",
        "`QubitCircuit()`\n",
        "\n",
        "which generates a new circuit object\n",
        "\n",
        "`Gate()`\n",
        "\n",
        "which accesses a library of gates\n",
        "\n",
        "Let's repeat the calculation above."
      ],
      "metadata": {
        "id": "1fFZiPaon1XW"
      }
    },
    {
      "cell_type": "code",
      "source": [
        "QC = QubitCircuit(3)\n",
        "\n",
        "QC.add_gate(Gate(name='TOFFOLI',targets=[2],controls=[0,1]))\n",
        "\n",
        "QC.add_gate(Gate(name='CNOT',targets=[1],controls=[0]))\n",
        "\n",
        "QC.add_gate(Gate(name='SWAP',targets=[1,2]))\n",
        "\n",
        "QC.add_gate(Gate(name='CNOT',targets=[0],controls=[2]))"
      ],
      "metadata": {
        "id": "T9175UKVn0aP"
      },
      "execution_count": null,
      "outputs": []
    },
    {
      "cell_type": "markdown",
      "source": [
        "Here, the first line creates a new quantum circuit object with three qubits.\n",
        "\n",
        "Each subsequent line adds a gate to the circuit, which is simply described by its name, and by the qubits it is acting upon (divided into control and target qubits in the case of CNOT and Toffoli).\n",
        "\n",
        "Once we have that, we can simply run the circuit and get the same result:"
      ],
      "metadata": {
        "id": "F3msJsF1rs1l"
      }
    },
    {
      "cell_type": "code",
      "source": [
        "psiout = QC.run(state=psi0)\n",
        "\n",
        "print(psiout)\n",
        "print('%03d' % measurement.measure(psiout,num3)[0])"
      ],
      "metadata": {
        "id": "aLoKCQYNpF7D"
      },
      "execution_count": null,
      "outputs": []
    },
    {
      "cell_type": "markdown",
      "source": [
        "This is much easier, and we could probably stick with QuTiP for most things, but we're going to switch gears and use another package for the rest of our time.\n",
        "\n",
        "The basic reason for this is that the QIP functionality in QuTiP doesn't play so well with Colab when it comes to printing out circuits. In addition, it's always good to see multiple tools for doing these things, even if they are mostly similar.\n",
        "\n",
        "Luckily, there are some other packages that do the same. As far as I can tell each of the big industry players in the field have their own, including Amazon's [Braket](https://aws.amazon.com/braket/), Google's [Cirq](https://quantumai.google/cirq) and IBM's [Qiskit](https://qiskit.org/)."
      ],
      "metadata": {
        "id": "Yd81Cdoe0RwQ"
      }
    },
    {
      "cell_type": "markdown",
      "source": [
        "# Circuits with Qiskit\n",
        "\n",
        "Without endorsing any of those, today we'll work with Qiskit. The prime reason for that is that later in the week you'll play with IBM's Q Experience, and if you want to do more of that, Qiskit is the easiest way to do so."
      ],
      "metadata": {
        "id": "729IF10YJ2Sl"
      }
    },
    {
      "cell_type": "code",
      "source": [
        "!pip install qiskit[visualization]\n",
        "!pip install qiskit-aer\n",
        "\n",
        "import qiskit as qk\n",
        "from qiskit_aer import aerprovider as aer"
      ],
      "metadata": {
        "id": "lGHKNveP0ZST"
      },
      "execution_count": null,
      "outputs": []
    },
    {
      "cell_type": "markdown",
      "source": [
        "## Circuit Syntax\n",
        "\n",
        "The syntax for Qiskit is similar to what we've just seen. You can see the details [here](https://qiskit.org/documentation/), or a simpler tutorial [here](https://qiskit.org/documentation/tutorials/circuits/1_getting_started_with_qiskit.html).\n",
        "\n",
        "Let's create the same circuit again"
      ],
      "metadata": {
        "id": "bXwkAzDj2eZv"
      }
    },
    {
      "cell_type": "code",
      "source": [
        "QC = qk.QuantumCircuit(3)\n",
        "\n",
        "QC.ccx(0,1,2)\n",
        "\n",
        "QC.cx(0,1)\n",
        "\n",
        "QC.swap(1,2)\n",
        "\n",
        "QC.cx(2,0)\n",
        "\n",
        "QC.draw('mpl')"
      ],
      "metadata": {
        "id": "v2ZPUong0a7g"
      },
      "execution_count": null,
      "outputs": []
    },
    {
      "cell_type": "markdown",
      "source": [
        "The last command was new, and let us plot out the circuit - a very handy tool. Here the parameter `'mpl'` is telling Qiskit to use matplotlib to do the drawing; you can also try it out without the parameter and see a slightly more primitive drawing."
      ],
      "metadata": {
        "id": "dBN5omaq3vU7"
      }
    },
    {
      "cell_type": "code",
      "source": [
        "psi = qk.quantum_info.Statevector.from_int(0b011,2**3)\n",
        "print('Initial state:')\n",
        "display(psi.draw('latex'))\n",
        "\n",
        "psi = psi.evolve(QC)\n",
        "\n",
        "print('Final state:')\n",
        "display(psi.draw('latex'))\n"
      ],
      "metadata": {
        "id": "TY4FRQRlUhA7"
      },
      "execution_count": null,
      "outputs": []
    },
    {
      "cell_type": "markdown",
      "source": [
        "And here we see how to define a state in Qiskit and how apply a circuit to it."
      ],
      "metadata": {
        "id": "IOByDLkUhTLs"
      }
    },
    {
      "cell_type": "markdown",
      "source": [
        "### Exercise 3: Implementing the Toffoli gate\n",
        "\n",
        "Let's try this hands on. Below, try to recreate the Toffoli circuit you saw in class. Then plot it to see that you got the right result."
      ],
      "metadata": {
        "id": "H-sNELqf9qD3"
      }
    },
    {
      "cell_type": "markdown",
      "source": [
        "![image.png](data:image/png;base64,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)"
      ],
      "metadata": {
        "id": "3nu1sDC3-LWv"
      }
    },
    {
      "cell_type": "code",
      "source": [
        "### Your Code here ####"
      ],
      "metadata": {
        "id": "uLRHgqvG-TZn"
      },
      "execution_count": null,
      "outputs": []
    },
    {
      "cell_type": "markdown",
      "source": [
        "### Knowledge Check: Circuit Equivalency\n",
        "\n",
        "Note that the drawing you get might be a bit different from what you see above. Are they the same circuit?\n",
        "\n",
        "* (A) Yes\n",
        "* (B) No"
      ],
      "metadata": {
        "id": "h32iVaxjAOgU"
      }
    },
    {
      "cell_type": "markdown",
      "source": [
        "## Measurement and classical registers\n",
        "\n",
        "Let's add one more thing that Ari's circuit had: measurement.\n",
        "\n",
        "To do this, we will add another component, a classical register. Measurement turns quantum information into classical information; in the quantum computing way of thinking, we need some classical bits to put the information in. See how we do this below:"
      ],
      "metadata": {
        "id": "XgHaVl5E4Ih9"
      }
    },
    {
      "cell_type": "code",
      "source": [
        "QC = qk.QuantumCircuit(3,3)\n",
        "\n",
        "QC.x(0)\n",
        "QC.x(1)\n",
        "\n",
        "QC.ccx(0,1,2)\n",
        "QC.cx(0,1)\n",
        "QC.swap(1,2)\n",
        "QC.cx(2,0)\n",
        "\n",
        "for m in range(3) :\n",
        "  QC.measure(m,m)\n",
        "\n",
        "QC.draw('mpl')"
      ],
      "metadata": {
        "id": "6mt5AAhW3dfX"
      },
      "execution_count": null,
      "outputs": []
    },
    {
      "cell_type": "markdown",
      "source": [
        "You can see that in the first command I've just added a second parameter that is the number of classical bits I'm going to use, and then at the end I specify which classical bit to measure each qubit into.\n",
        "\n",
        "The other thing I've done is add a single qubit X gate to the two qubits that were initiated as $|1\\rangle$. This is because the convention in quantum computing is that each new qubit is initialized to $|0\\rangle$; if you want it to be something else you explicity add the circuit element that does this."
      ],
      "metadata": {
        "id": "8EEewzl95IFY"
      }
    },
    {
      "cell_type": "markdown",
      "source": [
        "### Knowledge Check: Measurement Equivalency"
      ],
      "metadata": {
        "id": "LjjWFIEpU-Yh"
      }
    },
    {
      "cell_type": "code",
      "source": [
        "QC1 = qk.QuantumCircuit(2,1)\n",
        "QC1.h(0)\n",
        "QC1.cx(0,1)\n",
        "QC1.x(1)\n",
        "QC1.measure(1,0)\n",
        "QC1.x(0)\n",
        "\n",
        "QC2 = qk.QuantumCircuit(2,1)\n",
        "QC2.h(0)\n",
        "QC2.cx(0,1)\n",
        "QC2.x(1)\n",
        "QC2.measure(1,0)\n",
        "display(QC1.draw('mpl'),QC2.draw('mpl'))"
      ],
      "metadata": {
        "id": "kd5DuSVEVgob"
      },
      "execution_count": null,
      "outputs": []
    },
    {
      "cell_type": "markdown",
      "source": [
        "Are these two circuits equivalent?\n",
        "\n",
        "* (A) Yes\n",
        "* (B) No"
      ],
      "metadata": {
        "id": "UiA9yprEWMv1"
      }
    },
    {
      "cell_type": "markdown",
      "source": [
        "## Running Experiments\n",
        "\n",
        "We saw above how to work with a state and a circuit. But usually we want to compare our results to experiment, and so what we really want are measurements.\n",
        "\n",
        "In Qiskit, measurements are simulated by a dedicated backend, which we call to implement the circuit.\n",
        "\n",
        "The idea here is that once we have real machines (e.g. with the Quantum experience), you can use the same syntax to call them and get real quantum results!\n",
        "\n",
        "Let's see how this works."
      ],
      "metadata": {
        "id": "ztBGSYeX5rL1"
      }
    },
    {
      "cell_type": "code",
      "source": [
        "backend = aer.AerSimulator()\n",
        "\n",
        "QC_compiled = qk.transpile(QC, backend)\n",
        "\n",
        "QC_job = backend.run(QC_compiled, shots=1000)\n",
        "\n",
        "QC_res = QC_job.result()\n",
        "\n",
        "print(QC_res.get_counts())"
      ],
      "metadata": {
        "id": "C2z3FqkKCC5H"
      },
      "execution_count": null,
      "outputs": []
    },
    {
      "cell_type": "markdown",
      "source": [
        "Here the first command calls a simulation backend called Aer that's provided by Qiskit.\n",
        "\n",
        "The next two commands compile our circuit into it and \"running\" the experiment, asking to run it 1000 times.\n",
        "\n",
        "We then get the results and print out the counts: how many times each combination of results came out. This is quite boring here, since the result of a the circuit was a definite state!"
      ],
      "metadata": {
        "id": "DJlI6VA2CtGG"
      }
    },
    {
      "cell_type": "markdown",
      "source": [
        "Let's see how this goes with a slightly more interesting circuit:"
      ],
      "metadata": {
        "id": "JMlOp9cFDPdg"
      }
    },
    {
      "cell_type": "code",
      "source": [
        "QC = qk.QuantumCircuit(3,3)\n",
        "QC.h(0)\n",
        "QC.h(1)\n",
        "QC.barrier()\n",
        "QC.compose(toffcirc, inplace=True)\n",
        "QC.barrier()\n",
        "for i in range(3) :\n",
        "  QC.measure(i,i)\n",
        "\n",
        "QC.draw('mpl')"
      ],
      "metadata": {
        "id": "zomo6aigprLD"
      },
      "execution_count": null,
      "outputs": []
    },
    {
      "cell_type": "markdown",
      "source": [
        "Here, `compose()` lets us add the circuit we'd already designed to the new circuit\n",
        "\n",
        "I've also addied two `barrier()` commands to delineate the three parts of the circuit."
      ],
      "metadata": {
        "id": "YBhcgIUTqo36"
      }
    },
    {
      "cell_type": "markdown",
      "source": [
        "### Knowledge Check: H+Toffoli\n",
        "\n",
        "Let's run it and see what happens. What do we expect to see?\n",
        "\n",
        "* (A) `{'000': 250, '001': 250, '010': 250, '110': 250}`\n",
        "* (B) `{'000': 125, '001': 125, '010': 125, '011': 125, 100': 125, '101': 125, '110': 125, '111': 125}`\n",
        "* (C) `{'000': 500, '111': 500}`\n",
        "* (D) `{'000': 250, '001': 250, '010': 250, '111': 250}`\n"
      ],
      "metadata": {
        "id": "xYWXVf2GAheB"
      }
    },
    {
      "cell_type": "markdown",
      "source": [
        "## Parameters\n",
        "\n",
        "Let's introduce one more idea. It's useful to have define parameters in a circle, that you can vary to get different. This is simply a convenience - instead of defining a different circuit with e.g. a $\\pi/4$ rotation and a $\\pi/2$ rotation we define one circuit and vary the parameter."
      ],
      "metadata": {
        "id": "gMuIUmKsIthq"
      }
    },
    {
      "cell_type": "code",
      "source": [
        "thetaP = qk.circuit.Parameter(r'$\\theta$')\n",
        "QC = qk.QuantumCircuit(1)\n",
        "QC.rx(thetaP,0)\n",
        "\n",
        "QC.draw('mpl')"
      ],
      "metadata": {
        "id": "6ngfAhTSGGz8"
      },
      "execution_count": null,
      "outputs": []
    },
    {
      "cell_type": "markdown",
      "source": [
        "To run the circuit we have to assign the parameter to a value, like this:"
      ],
      "metadata": {
        "id": "2L5weliPGwpG"
      }
    },
    {
      "cell_type": "code",
      "source": [
        "psi = qk.quantum_info.Statevector.from_int(0,2)\n",
        "print(\"Initial state:\")\n",
        "for theta in np.linspace(0,pi,5) :\n",
        "  print(\"Output with theta = %.2f*pi:\" % (theta/pi))\n",
        "  display(psi.evolve(QC.assign_parameters({thetaP:theta})).draw('latex'))"
      ],
      "metadata": {
        "id": "M1Xi8vuQGQXv"
      },
      "execution_count": null,
      "outputs": []
    },
    {
      "cell_type": "markdown",
      "source": [
        "### Knowledge Check: Parameters\n",
        "\n",
        "Can we run a Qiskit circuit without assigning the parameters?\n",
        "\n",
        "* (A) Yes\n",
        "* (B) Yes, but only if doesn't have measurements.\n",
        "* (C) No."
      ],
      "metadata": {
        "id": "SFhV-rJeIfEg"
      }
    },
    {
      "cell_type": "markdown",
      "source": [
        "## Exercise 4: Putting it all together\n",
        "\n",
        "Let's put it all together as a final exercise. Let's look at the circuit below."
      ],
      "metadata": {
        "id": "KtGXR60eHODd"
      }
    },
    {
      "cell_type": "markdown",
      "source": [
        "![image.png](data:image/png;base64,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)"
      ],
      "metadata": {
        "id": "xwRei-a8XZLt"
      }
    },
    {
      "cell_type": "markdown",
      "source": [
        "### Knowledge Check: Exercise 4 Output\n",
        "\n",
        "What do we expect the output to be if $\\theta=0$?\n",
        "\n",
        "* (A) `{'00': 1000}`\n",
        "* (B) `{'11': 1000}`\n",
        "* (C) `{'00': 500, '11': 500}`\n",
        "* (D) `{'00': 250, '01': 250, '10': 250, '11': 250}`\n"
      ],
      "metadata": {
        "id": "wAxdme_WPTSR"
      }
    },
    {
      "cell_type": "markdown",
      "source": [
        "### Knowledge Check: Control Gates\n",
        "\n",
        "Since the gates in between are controlled by qubits 1,2, and we are not measuring qubit 3, will this outcome change with $\\theta$?\n",
        "\n",
        "* (A) Yes\n",
        "* (B) No\n"
      ],
      "metadata": {
        "id": "2mZxzxG5QkZl"
      }
    },
    {
      "cell_type": "markdown",
      "source": [
        "### Exercise\n",
        "\n",
        "Generate the circuit plotted above, and plot the probabilites of each of the outcomes of the measurement as a function of $\\theta$."
      ],
      "metadata": {
        "id": "iO4isck4JbYa"
      }
    },
    {
      "cell_type": "code",
      "source": [
        "### Your Code here ####"
      ],
      "metadata": {
        "id": "P9tdp9FRHviJ"
      },
      "execution_count": null,
      "outputs": []
    }
  ]
}